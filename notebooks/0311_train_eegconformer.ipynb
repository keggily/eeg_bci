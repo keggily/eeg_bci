{
 "cells": [
  {
   "cell_type": "markdown",
   "metadata": {},
   "source": [
    "## Testing for other dataset"
   ]
  },
  {
   "cell_type": "code",
   "execution_count": 1,
   "metadata": {},
   "outputs": [
    {
     "name": "stdout",
     "output_type": "stream",
     "text": [
      "Automatically created module for IPython interactive environment\n",
      "Extracting EDF parameters from C:\\Users\\Hannah\\mne_data\\MNE-eegbci-data\\files\\eegmmidb\\1.0.0\\S001\\S001R06.edf...\n",
      "EDF file detected\n",
      "Setting channel info structure...\n",
      "Creating raw.info structure...\n",
      "Reading 0 ... 19999  =      0.000 ...   124.994 secs...\n",
      "Extracting EDF parameters from C:\\Users\\Hannah\\mne_data\\MNE-eegbci-data\\files\\eegmmidb\\1.0.0\\S001\\S001R10.edf...\n",
      "EDF file detected\n",
      "Setting channel info structure...\n",
      "Creating raw.info structure...\n",
      "Reading 0 ... 19999  =      0.000 ...   124.994 secs...\n",
      "Extracting EDF parameters from C:\\Users\\Hannah\\mne_data\\MNE-eegbci-data\\files\\eegmmidb\\1.0.0\\S001\\S001R14.edf...\n",
      "EDF file detected\n",
      "Setting channel info structure...\n",
      "Creating raw.info structure...\n",
      "Reading 0 ... 19999  =      0.000 ...   124.994 secs...\n"
     ]
    }
   ],
   "source": [
    "import matplotlib.pyplot as plt\n",
    "import numpy as np\n",
    "from sklearn.discriminant_analysis import LinearDiscriminantAnalysis\n",
    "from sklearn.model_selection import ShuffleSplit, cross_val_score\n",
    "from sklearn.pipeline import Pipeline\n",
    "\n",
    "from mne import Epochs, pick_types, events_from_annotations\n",
    "from mne.channels import make_standard_montage\n",
    "from mne.datasets import eegbci\n",
    "from mne.decoding import CSP\n",
    "from mne.io import concatenate_raws, read_raw_edf\n",
    "\n",
    "print(__doc__)\n",
    "\n",
    "# #############################################################################\n",
    "# # Set parameters and read data\n",
    "\n",
    "# avoid classification of evoked responses by using epochs that start 1s after\n",
    "# cue onset.\n",
    "tmin, tmax = -1.0, 4.0\n",
    "subject = 1\n",
    "runs = [6, 10, 14]  # motor imagery: hands vs feet\n",
    "\n",
    "raw_fnames = eegbci.load_data(subject, runs)\n",
    "raw = concatenate_raws([read_raw_edf(f, preload=True) for f in raw_fnames])"
   ]
  },
  {
   "cell_type": "code",
   "execution_count": 2,
   "metadata": {},
   "outputs": [
    {
     "name": "stdout",
     "output_type": "stream",
     "text": [
      "Automatically created module for IPython interactive environment\n",
      "Extracting EDF parameters from C:\\Users\\Hannah\\mne_data\\MNE-eegbci-data\\files\\eegmmidb\\1.0.0\\S001\\S001R06.edf...\n",
      "EDF file detected\n",
      "Setting channel info structure...\n",
      "Creating raw.info structure...\n",
      "Reading 0 ... 19999  =      0.000 ...   124.994 secs...\n",
      "Extracting EDF parameters from C:\\Users\\Hannah\\mne_data\\MNE-eegbci-data\\files\\eegmmidb\\1.0.0\\S001\\S001R10.edf...\n",
      "EDF file detected\n",
      "Setting channel info structure...\n",
      "Creating raw.info structure...\n",
      "Reading 0 ... 19999  =      0.000 ...   124.994 secs...\n",
      "Extracting EDF parameters from C:\\Users\\Hannah\\mne_data\\MNE-eegbci-data\\files\\eegmmidb\\1.0.0\\S001\\S001R14.edf...\n",
      "EDF file detected\n",
      "Setting channel info structure...\n",
      "Creating raw.info structure...\n",
      "Reading 0 ... 19999  =      0.000 ...   124.994 secs...\n",
      "Filtering raw data in 3 contiguous segments\n",
      "Setting up band-pass filter from 7 - 30 Hz\n",
      "\n",
      "FIR filter parameters\n",
      "---------------------\n",
      "Designing a one-pass, zero-phase, non-causal bandpass filter:\n",
      "- Windowed time-domain design (firwin) method\n",
      "- Hamming window with 0.0194 passband ripple and 53 dB stopband attenuation\n",
      "- Lower passband edge: 7.00\n",
      "- Lower transition bandwidth: 2.00 Hz (-6 dB cutoff frequency: 6.00 Hz)\n",
      "- Upper passband edge: 30.00 Hz\n",
      "- Upper transition bandwidth: 7.50 Hz (-6 dB cutoff frequency: 33.75 Hz)\n",
      "- Filter length: 265 samples (1.656 s)\n",
      "\n",
      "Used Annotations descriptions: ['T1', 'T2']\n",
      "Not setting metadata\n",
      "45 matching events found\n",
      "No baseline correction applied\n",
      "0 projection items activated\n",
      "Using data from preloaded Raw for 45 events and 801 original time points ...\n",
      "0 bad epochs dropped\n"
     ]
    },
    {
     "name": "stderr",
     "output_type": "stream",
     "text": [
      "[Parallel(n_jobs=1)]: Done  17 tasks      | elapsed:    0.0s\n"
     ]
    }
   ],
   "source": [
    "import matplotlib.pyplot as plt\n",
    "import numpy as np\n",
    "from sklearn.discriminant_analysis import LinearDiscriminantAnalysis\n",
    "from sklearn.model_selection import ShuffleSplit, cross_val_score\n",
    "from sklearn.pipeline import Pipeline\n",
    "\n",
    "from mne import Epochs, pick_types, events_from_annotations\n",
    "from mne.channels import make_standard_montage\n",
    "from mne.datasets import eegbci\n",
    "from mne.decoding import CSP\n",
    "from mne.io import concatenate_raws, read_raw_edf\n",
    "\n",
    "print(__doc__)\n",
    "\n",
    "# #############################################################################\n",
    "# # Set parameters and read data\n",
    "\n",
    "# avoid classification of evoked responses by using epochs that start 1s after\n",
    "# cue onset.\n",
    "tmin, tmax = -1.0, 4.0\n",
    "subject = 1\n",
    "runs = [6, 10, 14]  # motor imagery: hands vs feet\n",
    "\n",
    "raw_fnames = eegbci.load_data(subject, runs)\n",
    "raw = concatenate_raws([read_raw_edf(f, preload=True) for f in raw_fnames])\n",
    "eegbci.standardize(raw)  # set channel names\n",
    "montage = make_standard_montage(\"standard_1005\")\n",
    "raw.set_montage(montage)\n",
    "#raw.annotations.rename(dict(T1=\"hands\", T2=\"feet\"))\n",
    "\n",
    "\n",
    "# Apply band-pass filter\n",
    "raw.filter(7.0, 30.0, fir_design=\"firwin\", skip_by_annotation=\"edge\")\n",
    "\n",
    "picks = pick_types(raw.info, meg=False, eeg=True, stim=False, eog=False, exclude=\"bads\")\n",
    "\n",
    "# Read epochs (train will be done only between 1 and 2s)\n",
    "# Testing will be done with a running classifier\n",
    "\n",
    "events, _ = events_from_annotations(raw, event_id=dict(T1=2, T2=3)) #changed these two lines\n",
    "event_id = dict(hands=2, feet=3)\n",
    "\n",
    "#tmin, tmax applied here already\n",
    "epochs = Epochs(\n",
    "    raw,\n",
    "    events = events, \n",
    "    event_id= event_id,\n",
    "    tmin=tmin,\n",
    "    tmax=tmax,\n",
    "    proj=True,\n",
    "    picks=picks,\n",
    "    baseline=None,\n",
    "    preload=True,\n",
    ")\n",
    "epochs_train = epochs.copy().crop(tmin=1.0, tmax=2.0)\n",
    "labels = epochs.events[:, -1] - 2\n",
    "\n",
    "epochs_data = epochs.get_data(copy=False)\n",
    "epochs_data_train = epochs_train.get_data(copy=False)"
   ]
  },
  {
   "cell_type": "code",
   "execution_count": 3,
   "metadata": {},
   "outputs": [
    {
     "name": "stdout",
     "output_type": "stream",
     "text": [
      "Not setting metadata\n",
      "1 matching events found\n",
      "No baseline correction applied\n",
      "0 projection items activated\n",
      "combining channels using \"gfp\"\n"
     ]
    },
    {
     "data": {
      "image/png": "[encoded data removed]",
      "text/plain": [
       "<Figure size 640x480 with 3 Axes>"
      ]
     },
     "metadata": {},
     "output_type": "display_data"
    },
    {
     "data": {
      "text/plain": [
       "[<Figure size 640x480 with 3 Axes>]"
      ]
     },
     "execution_count": 3,
     "metadata": {},
     "output_type": "execute_result"
    }
   ],
   "source": [
    "epochs[0].plot_image()"
   ]
  },
  {
   "cell_type": "markdown",
   "metadata": {},
   "source": [
    "## EEG Conformer\n"
   ]
  },
  {
   "cell_type": "code",
   "execution_count": 4,
   "metadata": {},
   "outputs": [
    {
     "name": "stdout",
     "output_type": "stream",
     "text": [
      "local\n"
     ]
    }
   ],
   "source": [
    "from braindecode.datasets import (\n",
    "    create_from_mne_raw, create_from_mne_epochs)\n",
    "from braindecode.preprocessing import create_windows_from_events\n",
    "import mne\n",
    "from mne.preprocessing import ICA\n",
    "import sys\n",
    "\n",
    "from sklearn.model_selection import train_test_split\n",
    "import torch.nn as nn\n",
    "import torch.optim as optim\n",
    "from torch.utils.data import DataLoader, TensorDataset\n",
    "from tqdm import tqdm\n",
    "import matplotlib_inline\n",
    "\n",
    "\n",
    "sys.path.append('../models')\n",
    "\n",
    "from eegconformer import EEGConformer\n",
    "\n",
    "\n"
   ]
  },
  {
   "cell_type": "code",
   "execution_count": 5,
   "metadata": {},
   "outputs": [
    {
     "name": "stdout",
     "output_type": "stream",
     "text": [
      "(45, 64, 801)\n"
     ]
    },
    {
     "name": "stderr",
     "output_type": "stream",
     "text": [
      "C:\\Users\\Hannah\\AppData\\Local\\Temp\\ipykernel_13480\\2033759025.py:7: FutureWarning: The current default of copy=False will change to copy=True in 1.7. Set the value of copy explicitly to avoid this warning\n",
      "  eeg_data = epochs.get_data()  # Shape: (n_epochs, n_channels, n_times)\n"
     ]
    }
   ],
   "source": [
    "from sklearn.preprocessing import RobustScaler\n",
    "import torch\n",
    "\n",
    "# Assuming 'epochs_train' contains your epochs of interest\n",
    "\n",
    "# Step 1: Extract EEG data from epochs\n",
    "eeg_data = epochs.get_data()  # Shape: (n_epochs, n_channels, n_times)\n",
    "print(eeg_data.shape)\n",
    "\n",
    "# Step 2: Scale the EEG data\n",
    "# Flatten the data for scaling, then scale, and reshape back\n",
    "scaler = RobustScaler()\n",
    "eeg_data_flattened = eeg_data.reshape(eeg_data.shape[0], -1)  # Flatten\n",
    "eeg_data_scaled = scaler.fit_transform(eeg_data_flattened)\n",
    "eeg_data_scaled = eeg_data_scaled.reshape(eeg_data.shape)  # Reshape back\n",
    "\n"
   ]
  },
  {
   "cell_type": "code",
   "execution_count": 6,
   "metadata": {},
   "outputs": [],
   "source": [
    "from sklearn.model_selection import train_test_split\n",
    "from sklearn.preprocessing import OneHotEncoder\n",
    "from sklearn.preprocessing import LabelEncoder\n",
    "import pandas as pd\n",
    "\n",
    "# Assuming eeg_data_scaled is your scaled EEG data in NumPy array format\n",
    "# and labels is a NumPy array of your labels\n",
    "\n",
    "# Split the data and labels into training and testing sets\n",
    "train_X, test_X, train_y, test_y = train_test_split(\n",
    "    eeg_data_scaled,  # Scaled EEG data\n",
    "    labels,  # Labels\n",
    "    test_size=0.2,  # Specifies 20% of the data for testing\n",
    "    random_state=42  # Ensures reproducibility of your split\n",
    ")\n",
    "# Encode the training and testing labels\n",
    "le = LabelEncoder()\n",
    "encoded_train_y = le.fit_transform(train_y)\n",
    "encoded_test_y = le.transform(test_y)\n",
    "\n",
    "# One-hot encode the encoded labels\n",
    "train_y = pd.get_dummies(encoded_train_y)\n",
    "test_y = pd.get_dummies(encoded_test_y)"
   ]
  },
  {
   "cell_type": "code",
   "execution_count": 7,
   "metadata": {},
   "outputs": [
    {
     "data": {
      "text/plain": [
       "((36, 64, 801), (9, 64, 801), (36, 2), (9, 2))"
      ]
     },
     "execution_count": 7,
     "metadata": {},
     "output_type": "execute_result"
    }
   ],
   "source": [
    "train_X.shape, test_X.shape, train_y.shape, test_y.shape"
   ]
  },
  {
   "cell_type": "code",
   "execution_count": 8,
   "metadata": {},
   "outputs": [
    {
     "name": "stdout",
     "output_type": "stream",
     "text": [
      "False\n"
     ]
    }
   ],
   "source": [
    "cuda = torch.cuda.is_available()\n",
    "print(cuda)\n",
    "device = \"cuda\" if cuda else \"cpu\""
   ]
  },
  {
   "cell_type": "code",
   "execution_count": 9,
   "metadata": {},
   "outputs": [],
   "source": [
    "\n",
    "cuda_version = torch.version.cuda\n",
    "cuda_version"
   ]
  },
  {
   "cell_type": "code",
   "execution_count": 10,
   "metadata": {},
   "outputs": [
    {
     "name": "stdout",
     "output_type": "stream",
     "text": [
      "================================================================================================================================================================\n",
      "Layer (type (var_name):depth-idx)                            Input Shape               Output Shape              Param #                   Kernel Shape\n",
      "================================================================================================================================================================\n",
      "EEGConformer (EEGConformer)                                  [1, 64, 801]              [1, 3]                    --                        --\n",
      "├─_PatchEmbedding (patch_embedding): 1-1                     [1, 1, 64, 801]           [1, 47, 40]               --                        --\n",
      "│    └─Sequential (shallownet): 2-1                          [1, 1, 64, 801]           [1, 40, 1, 47]            --                        --\n",
      "│    │    └─Conv2d (0): 3-1                                  [1, 1, 64, 801]           [1, 40, 64, 777]          1,040                     [1, 25]\n",
      "│    │    └─Conv2d (1): 3-2                                  [1, 40, 64, 777]          [1, 40, 1, 777]           102,440                   [64, 1]\n",
      "│    │    └─BatchNorm2d (2): 3-3                             [1, 40, 1, 777]           [1, 40, 1, 777]           80                        --\n",
      "│    │    └─ELU (3): 3-4                                     [1, 40, 1, 777]           [1, 40, 1, 777]           --                        --\n",
      "│    │    └─AvgPool2d (4): 3-5                               [1, 40, 1, 777]           [1, 40, 1, 47]            --                        [1, 75]\n",
      "│    │    └─Dropout (5): 3-6                                 [1, 40, 1, 47]            [1, 40, 1, 47]            --                        --\n",
      "│    └─Sequential (projection): 2-2                          [1, 40, 1, 47]            [1, 47, 40]               --                        --\n",
      "│    │    └─Conv2d (0): 3-7                                  [1, 40, 1, 47]            [1, 40, 1, 47]            1,640                     [1, 1]\n",
      "│    │    └─Rearrange (1): 3-8                               [1, 40, 1, 47]            [1, 47, 40]               --                        --\n",
      "├─_TransformerEncoder (transformer): 1-2                     [1, 47, 40]               [1, 47, 40]               --                        --\n",
      "│    └─_TransformerEncoderBlock (0): 2-3                     [1, 47, 40]               [1, 47, 40]               --                        --\n",
      "│    │    └─_ResidualAdd (0): 3-9                            [1, 47, 40]               [1, 47, 40]               6,640                     --\n",
      "│    │    └─_ResidualAdd (1): 3-10                           [1, 47, 40]               [1, 47, 40]               13,080                    --\n",
      "│    └─_TransformerEncoderBlock (1): 2-4                     [1, 47, 40]               [1, 47, 40]               --                        --\n",
      "│    │    └─_ResidualAdd (0): 3-11                           [1, 47, 40]               [1, 47, 40]               6,640                     --\n",
      "│    │    └─_ResidualAdd (1): 3-12                           [1, 47, 40]               [1, 47, 40]               13,080                    --\n",
      "│    └─_TransformerEncoderBlock (2): 2-5                     [1, 47, 40]               [1, 47, 40]               --                        --\n",
      "│    │    └─_ResidualAdd (0): 3-13                           [1, 47, 40]               [1, 47, 40]               6,640                     --\n",
      "│    │    └─_ResidualAdd (1): 3-14                           [1, 47, 40]               [1, 47, 40]               13,080                    --\n",
      "├─_FullyConnected (fc): 1-3                                  [1, 47, 40]               [1, 32]                   --                        --\n",
      "│    └─Sequential (fc): 2-6                                  [1, 1880]                 [1, 32]                   --                        --\n",
      "│    │    └─Linear (0): 3-15                                 [1, 1880]                 [1, 256]                  481,536                   --\n",
      "│    │    └─ELU (1): 3-16                                    [1, 256]                  [1, 256]                  --                        --\n",
      "│    │    └─Dropout (2): 3-17                                [1, 256]                  [1, 256]                  --                        --\n",
      "│    │    └─Linear (3): 3-18                                 [1, 256]                  [1, 32]                   8,224                     --\n",
      "│    │    └─ELU (4): 3-19                                    [1, 32]                   [1, 32]                   --                        --\n",
      "│    │    └─Dropout (5): 3-20                                [1, 32]                   [1, 32]                   --                        --\n",
      "├─_FinalLayer (final_layer): 1-4                             [1, 32]                   [1, 3]                    --                        --\n",
      "│    └─Sequential (final_layer): 2-7                         [1, 32]                   [1, 3]                    --                        --\n",
      "│    │    └─Linear (0): 3-21                                 [1, 32]                   [1, 3]                    99                        --\n",
      "│    │    └─LogSoftmax (classification): 3-22                [1, 3]                    [1, 3]                    --                        --\n",
      "================================================================================================================================================================\n",
      "Total params: 654,219\n",
      "Trainable params: 654,219\n",
      "Non-trainable params: 0\n",
      "Total mult-adds (M): 131.94\n",
      "================================================================================================================================================================\n",
      "Input size (MB): 0.21\n",
      "Forward/backward pass size (MB): 16.92\n",
      "Params size (MB): 2.62\n",
      "Estimated Total Size (MB): 19.75\n",
      "================================================================================================================================================================\n"
     ]
    },
    {
     "name": "stderr",
     "output_type": "stream",
     "text": [
      "c:\\Users\\Hannah\\OneDrive\\Documents\\GitHub\\eeg\\notebooks\\../models\\base.py:180: UserWarning: LogSoftmax final layer will be removed! Please adjust your loss function accordingly (e.g. CrossEntropyLoss)!\n",
      "  warnings.warn(\"LogSoftmax final layer will be removed! \" +\n"
     ]
    }
   ],
   "source": [
    "seed = 20240216\n",
    "\n",
    "model = EEGConformer(\n",
    "    n_outputs=3,\n",
    "    n_chans=64,\n",
    "    sfreq=160,\n",
    "    n_times = epochs_data.shape[2],\n",
    "    n_filters_time=40, \n",
    "    filter_time_length=25,\n",
    "    pool_time_length=75,\n",
    "    pool_time_stride=15,\n",
    "    drop_prob=0.7,\n",
    "    att_depth=3,\n",
    "    att_heads=10,\n",
    "    att_drop_prob=0.7,\n",
    "    final_fc_length='auto', # could be 'auto' or int\n",
    "    return_features=False, # returns the features before the last classification layer if True\n",
    "    chs_info=None,\n",
    "    input_window_seconds=None,\n",
    "    add_log_softmax=True,\n",
    ")\n",
    "\n",
    "print(model)"
   ]
  },
  {
   "cell_type": "code",
   "execution_count": 11,
   "metadata": {},
   "outputs": [],
   "source": [
    "if cuda:\n",
    "    model.cuda()"
   ]
  },
  {
   "cell_type": "code",
   "execution_count": 12,
   "metadata": {},
   "outputs": [],
   "source": [
    "import torch\n",
    "import torch.nn as nn\n",
    "import torch.optim as optim\n",
    "from torch.utils.data import DataLoader, TensorDataset\n",
    "import numpy as np\n",
    "\n",
    "\n",
    "\n",
    "batch_size = 64\n",
    "\n",
    "# Convert pandas dataframe (.values) to numpy, then find argmax if one-hot encoded\n",
    "if len(train_y.shape) > 1:  # Check if train_y is one-hot encoded\n",
    "    train_y_indices = np.argmax(train_y.values, axis=1)\n",
    "else:\n",
    "    train_y_indices = train_y.values  # Assuming it's already appropriate format\n",
    "\n",
    "if len(test_y.shape) > 1:  # Check if test_y is one-hot encoded\n",
    "    test_y_indices = np.argmax(test_y.values, axis=1)\n",
    "else:\n",
    "    test_y_indices = test_y.values  # Assuming it's already appropriate format\n",
    "\n",
    "# Convert features and labels to tensors\n",
    "x_train_tensor = torch.from_numpy(train_X).to(torch.float32).to(device)\n",
    "y_train_tensor = torch.tensor(train_y_indices).to(torch.long).to(device)  # Use torch.long for class indices\n",
    "\n",
    "x_test_tensor = torch.from_numpy(test_X).to(torch.float32).to(device)\n",
    "y_test_tensor = torch.tensor(test_y_indices).to(torch.long).to(device)  # Use torch.long for class indices\n",
    "\n",
    "# Create datasets and loaders\n",
    "train_dataset = TensorDataset(x_train_tensor, y_train_tensor)\n",
    "train_loader = DataLoader(train_dataset, batch_size=batch_size, shuffle=True)\n",
    "\n",
    "test_dataset = TensorDataset(x_test_tensor, y_test_tensor)\n",
    "test_loader = DataLoader(test_dataset, batch_size=batch_size, shuffle=False)\n",
    "\n",
    "# Criterion and optimizer\n",
    "criterion = nn.CrossEntropyLoss()\n",
    "optimizer = optim.Adam(model.parameters(), lr=0.0002, betas=(0.9, 0.999))\n"
   ]
  },
  {
   "cell_type": "code",
   "execution_count": 13,
   "metadata": {},
   "outputs": [],
   "source": [
    "def train(model, x_train, y_train, x_test, y_test, save_path='../models/', n_epochs=100):\n",
    "    \"\"\"\n",
    "    the training function.\n",
    "    Attributes:\n",
    "    - model: the instance of the network\n",
    "    - save_path: the path to which the model state will be saved. None means w/o saving.\n",
    "\n",
    "    Return: \n",
    "    the best model if save_path is not None, the last model otherwise\n",
    "    \"\"\"\n",
    "    train_acc_list = []\n",
    "    train_loss_list = []\n",
    "    test_acc_list = []\n",
    "    test_loss_list = []\n",
    "\n",
    "\n",
    "    best_accuracy = 0.0\n",
    "    \n",
    "    for epoch in range(n_epochs):\n",
    "        model.train()  # Set model to training mode\n",
    "        training_loss = 0.0\n",
    "        total = 0\n",
    "        correct = 0\n",
    "        \n",
    "        for inputs, labels in tqdm(train_loader):\n",
    "            inputs, labels = inputs.to(device), labels.to(device)\n",
    "            optimizer.zero_grad()  # Zero the parameter gradients\n",
    "            \n",
    "            outputs = model(inputs)\n",
    "            loss = criterion(outputs, labels)\n",
    "            loss.backward()\n",
    "            optimizer.step()\n",
    "            \n",
    "            training_loss += loss.item()\n",
    "            _, predicted = torch.max(outputs.data, 1)\n",
    "            total += labels.size(0)\n",
    "            correct += (predicted == labels).sum().item()  # Update correction on how labels are handled\n",
    "        \n",
    "        train_loss = training_loss / len(train_loader)\n",
    "        train_accuracy = correct / total\n",
    "        train_acc_list.append(train_accuracy)\n",
    "        train_loss_list.append(train_loss)\n",
    "        \n",
    "        model.eval()  # Set model to evaluation mode\n",
    "        testing_loss = 0.0\n",
    "        total = 0\n",
    "        correct = 0\n",
    "        \n",
    "        with torch.no_grad():\n",
    "            for inputs, labels in test_loader:\n",
    "                inputs, labels = inputs.to(device), labels.to(device)\n",
    "                outputs = model(inputs)\n",
    "                loss = criterion(outputs, labels)\n",
    "                testing_loss += loss.item()\n",
    "\n",
    "                _, predicted = torch.max(outputs.data, 1)\n",
    "                total += labels.size(0)\n",
    "                correct += (predicted == labels).sum().item()\n",
    "        \n",
    "            test_loss = testing_loss / len(test_loader)\n",
    "            test_accuracy = correct / total\n",
    "            test_acc_list.append(test_accuracy)\n",
    "            test_loss_list.append(test_loss)\n",
    "            \n",
    "            if test_accuracy > best_accuracy:\n",
    "                best_accuracy = test_accuracy\n",
    "                best_model_wts = model.state_dict()\n",
    "        \n",
    "        print(f\"Epoch {epoch+1}/{n_epochs} - Train Loss: {train_loss:.4f}, Train Accuracy: {train_accuracy:.4f}, Test Loss: {test_loss:.4f}, Test Accuracy: {test_accuracy:.4f}\")\n",
    "    \n",
    "    if save_path is not None and best_accuracy > 0:\n",
    "        torch.save(best_model_wts, save_path + 'best_model.pth')\n",
    "        print(\"Best model saved with accuracy: {:.4f}\".format(best_accuracy))\n",
    "    \n",
    "    # Load best model weights\n",
    "    model.load_state_dict(best_model_wts)\n",
    "    return model, train_acc_list, train_loss_list, test_acc_list, test_loss_list"
   ]
  },
  {
   "cell_type": "code",
   "execution_count": 14,
   "metadata": {},
   "outputs": [
    {
     "name": "stderr",
     "output_type": "stream",
     "text": [
      "100%|██████████| 1/1 [00:00<00:00,  2.32it/s]\n"
     ]
    },
    {
     "name": "stdout",
     "output_type": "stream",
     "text": [
      "Epoch 1/1000 - Train Loss: 1.1313, Train Accuracy: 0.2778, Test Loss: 0.9245, Test Accuracy: 0.6667\n"
     ]
    },
    {
     "name": "stderr",
     "output_type": "stream",
     "text": [
      "100%|██████████| 1/1 [00:00<00:00,  2.74it/s]\n"
     ]
    },
    {
     "name": "stdout",
     "output_type": "stream",
     "text": [
      "Epoch 2/1000 - Train Loss: 1.0158, Train Accuracy: 0.4167, Test Loss: 0.8722, Test Accuracy: 0.6667\n"
     ]
    },
    {
     "name": "stderr",
     "output_type": "stream",
     "text": [
      "100%|██████████| 1/1 [00:00<00:00,  2.72it/s]\n"
     ]
    },
    {
     "name": "stdout",
     "output_type": "stream",
     "text": [
      "Epoch 3/1000 - Train Loss: 1.0100, Train Accuracy: 0.3611, Test Loss: 0.8410, Test Accuracy: 0.6667\n"
     ]
    },
    {
     "name": "stderr",
     "output_type": "stream",
     "text": [
      "100%|██████████| 1/1 [00:00<00:00,  2.81it/s]\n"
     ]
    },
    {
     "name": "stdout",
     "output_type": "stream",
     "text": [
      "Epoch 4/1000 - Train Loss: 1.0029, Train Accuracy: 0.4444, Test Loss: 0.8209, Test Accuracy: 0.5556\n"
     ]
    },
    {
     "name": "stderr",
     "output_type": "stream",
     "text": [
      "100%|██████████| 1/1 [00:00<00:00,  2.51it/s]\n"
     ]
    },
    {
     "name": "stdout",
     "output_type": "stream",
     "text": [
      "Epoch 5/1000 - Train Loss: 0.8586, Train Accuracy: 0.6111, Test Loss: 0.8083, Test Accuracy: 0.3333\n"
     ]
    },
    {
     "name": "stderr",
     "output_type": "stream",
     "text": [
      "100%|██████████| 1/1 [00:00<00:00,  2.84it/s]\n"
     ]
    },
    {
     "name": "stdout",
     "output_type": "stream",
     "text": [
      "Epoch 6/1000 - Train Loss: 0.8651, Train Accuracy: 0.5000, Test Loss: 0.8026, Test Accuracy: 0.3333\n"
     ]
    },
    {
     "name": "stderr",
     "output_type": "stream",
     "text": [
      "100%|██████████| 1/1 [00:00<00:00,  2.71it/s]\n"
     ]
    },
    {
     "name": "stdout",
     "output_type": "stream",
     "text": [
      "Epoch 7/1000 - Train Loss: 0.7938, Train Accuracy: 0.6111, Test Loss: 0.8034, Test Accuracy: 0.3333\n"
     ]
    },
    {
     "name": "stderr",
     "output_type": "stream",
     "text": [
      "100%|██████████| 1/1 [00:00<00:00,  2.77it/s]\n"
     ]
    },
    {
     "name": "stdout",
     "output_type": "stream",
     "text": [
      "Epoch 8/1000 - Train Loss: 0.7896, Train Accuracy: 0.5278, Test Loss: 0.8056, Test Accuracy: 0.3333\n"
     ]
    },
    {
     "name": "stderr",
     "output_type": "stream",
     "text": [
      "100%|██████████| 1/1 [00:00<00:00,  2.71it/s]\n"
     ]
    },
    {
     "name": "stdout",
     "output_type": "stream",
     "text": [
      "Epoch 9/1000 - Train Loss: 0.8038, Train Accuracy: 0.5278, Test Loss: 0.8121, Test Accuracy: 0.3333\n"
     ]
    },
    {
     "name": "stderr",
     "output_type": "stream",
     "text": [
      "100%|██████████| 1/1 [00:00<00:00,  2.85it/s]\n"
     ]
    },
    {
     "name": "stdout",
     "output_type": "stream",
     "text": [
      "Epoch 10/1000 - Train Loss: 0.7807, Train Accuracy: 0.5556, Test Loss: 0.8195, Test Accuracy: 0.3333\n"
     ]
    },
    {
     "name": "stderr",
     "output_type": "stream",
     "text": [
      "100%|██████████| 1/1 [00:00<00:00,  2.32it/s]\n"
     ]
    },
    {
     "name": "stdout",
     "output_type": "stream",
     "text": [
      "Epoch 11/1000 - Train Loss: 0.7658, Train Accuracy: 0.5556, Test Loss: 0.8323, Test Accuracy: 0.3333\n"
     ]
    },
    {
     "name": "stderr",
     "output_type": "stream",
     "text": [
      "100%|██████████| 1/1 [00:00<00:00,  2.74it/s]\n"
     ]
    },
    {
     "name": "stdout",
     "output_type": "stream",
     "text": [
      "Epoch 12/1000 - Train Loss: 0.7259, Train Accuracy: 0.6389, Test Loss: 0.8480, Test Accuracy: 0.3333\n"
     ]
    },
    {
     "name": "stderr",
     "output_type": "stream",
     "text": [
      "100%|██████████| 1/1 [00:00<00:00,  2.87it/s]\n"
     ]
    },
    {
     "name": "stdout",
     "output_type": "stream",
     "text": [
      "Epoch 13/1000 - Train Loss: 0.7854, Train Accuracy: 0.5278, Test Loss: 0.8613, Test Accuracy: 0.3333\n"
     ]
    },
    {
     "name": "stderr",
     "output_type": "stream",
     "text": [
      "100%|██████████| 1/1 [00:00<00:00,  2.68it/s]\n"
     ]
    },
    {
     "name": "stdout",
     "output_type": "stream",
     "text": [
      "Epoch 14/1000 - Train Loss: 0.7994, Train Accuracy: 0.6111, Test Loss: 0.8683, Test Accuracy: 0.3333\n"
     ]
    },
    {
     "name": "stderr",
     "output_type": "stream",
     "text": [
      "100%|██████████| 1/1 [00:00<00:00,  2.72it/s]\n"
     ]
    },
    {
     "name": "stdout",
     "output_type": "stream",
     "text": [
      "Epoch 15/1000 - Train Loss: 0.8600, Train Accuracy: 0.4722, Test Loss: 0.8702, Test Accuracy: 0.3333\n"
     ]
    },
    {
     "name": "stderr",
     "output_type": "stream",
     "text": [
      "100%|██████████| 1/1 [00:00<00:00,  2.78it/s]\n"
     ]
    },
    {
     "name": "stdout",
     "output_type": "stream",
     "text": [
      "Epoch 16/1000 - Train Loss: 0.7248, Train Accuracy: 0.6111, Test Loss: 0.8683, Test Accuracy: 0.3333\n"
     ]
    },
    {
     "name": "stderr",
     "output_type": "stream",
     "text": [
      "100%|██████████| 1/1 [00:00<00:00,  2.85it/s]\n"
     ]
    },
    {
     "name": "stdout",
     "output_type": "stream",
     "text": [
      "Epoch 17/1000 - Train Loss: 0.7332, Train Accuracy: 0.5278, Test Loss: 0.8648, Test Accuracy: 0.3333\n"
     ]
    },
    {
     "name": "stderr",
     "output_type": "stream",
     "text": [
      "100%|██████████| 1/1 [00:00<00:00,  2.73it/s]\n"
     ]
    },
    {
     "name": "stdout",
     "output_type": "stream",
     "text": [
      "Epoch 18/1000 - Train Loss: 0.7583, Train Accuracy: 0.5000, Test Loss: 0.8592, Test Accuracy: 0.3333\n"
     ]
    },
    {
     "name": "stderr",
     "output_type": "stream",
     "text": [
      "100%|██████████| 1/1 [00:00<00:00,  2.87it/s]\n"
     ]
    },
    {
     "name": "stdout",
     "output_type": "stream",
     "text": [
      "Epoch 19/1000 - Train Loss: 0.7465, Train Accuracy: 0.5000, Test Loss: 0.8514, Test Accuracy: 0.3333\n"
     ]
    },
    {
     "name": "stderr",
     "output_type": "stream",
     "text": [
      "100%|██████████| 1/1 [00:00<00:00,  2.72it/s]\n"
     ]
    },
    {
     "name": "stdout",
     "output_type": "stream",
     "text": [
      "Epoch 20/1000 - Train Loss: 0.7135, Train Accuracy: 0.5278, Test Loss: 0.8388, Test Accuracy: 0.3333\n"
     ]
    },
    {
     "name": "stderr",
     "output_type": "stream",
     "text": [
      "100%|██████████| 1/1 [00:00<00:00,  2.73it/s]\n"
     ]
    },
    {
     "name": "stdout",
     "output_type": "stream",
     "text": [
      "Epoch 21/1000 - Train Loss: 0.6894, Train Accuracy: 0.6667, Test Loss: 0.8250, Test Accuracy: 0.3333\n"
     ]
    },
    {
     "name": "stderr",
     "output_type": "stream",
     "text": [
      "  0%|          | 0/1 [00:00<?, ?it/s]"
     ]
    }
   ],
   "source": [
    "best_model, train_acc_list, train_loss_list, test_acc_list, test_loss_list = train(model, train_X, test_X, train_y, test_y, n_epochs=1000)\n"
   ]
  },
  {
   "cell_type": "code",
   "execution_count": null,
   "metadata": {},
   "outputs": [],
   "source": [
    "plt.plot(train_acc_list, label='train_acc')\n",
    "plt.plot(test_acc_list, label='test_acc')\n",
    "plt.xlabel('epoch')"
   ]
  },
  {
   "cell_type": "code",
   "execution_count": null,
   "metadata": {},
   "outputs": [],
   "source": [
    "plt.plot(train_loss_list, label='train_loss')\n",
    "plt.plot(test_loss_list, label='test_loss')\n",
    "plt.xlabel('epoch')"
   ]
  },
  {
   "cell_type": "code",
   "execution_count": null,
   "metadata": {},
   "outputs": [],
   "source": [
    "best_model.eval()\n",
    "with torch.no_grad():\n",
    "    correct = 0\n",
    "    total = 0\n",
    "    \n",
    "    for inputs, labels in test_loader:\n",
    "        inputs = inputs.to(device)\n",
    "        labels = labels.to(device)\n",
    "        \n",
    "        outputs = best_model(inputs)\n",
    "        _, predicted = torch.max(outputs.data, 1)\n",
    "        # Remove the incorrect line attempting to use torch.max on labels\n",
    "        total += labels.size(0)\n",
    "        correct += (predicted == labels).sum().item()  # Compare predicted directly to labels\n",
    "    \n",
    "    test_accuracy = correct / total\n",
    "\n",
    "print(f\"Test Accuracy: {test_accuracy:.4f}\")\n"
   ]
  },
  {
   "cell_type": "code",
   "execution_count": null,
   "metadata": {},
   "outputs": [],
   "source": []
  },
  {
   "cell_type": "code",
   "execution_count": null,
   "metadata": {},
   "outputs": [],
   "source": []
  }
 ],
 "metadata": {
  "kernelspec": {
   "display_name": "eeg_decoder",
   "language": "python",
   "name": "python3"
  },
  "language_info": {
   "codemirror_mode": {
    "name": "ipython",
    "version": 3
   },
   "file_extension": ".py",
   "mimetype": "text/x-python",
   "name": "python",
   "nbconvert_exporter": "python",
   "pygments_lexer": "ipython3",
   "version": "3.10.13"
  }
 },
 "nbformat": 4,
 "nbformat_minor": 2
}
