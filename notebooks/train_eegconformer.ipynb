{
 "cells": [
  {
   "cell_type": "code",
   "execution_count": 1,
   "metadata": {},
   "outputs": [
    {
     "name": "stdout",
     "output_type": "stream",
     "text": [
      "local\n"
     ]
    }
   ],
   "source": [
    "import matplotlib.pyplot as plt\n",
    "import numpy as np\n",
    "import os\n",
    "import pandas as pd\n",
    "import sys\n",
    "import torch\n",
    "import torch.nn as nn\n",
    "import torch.optim as optim\n",
    "from torch.utils.data import DataLoader, TensorDataset\n",
    "from tqdm import tqdm\n",
    "\n",
    "from sklearn.discriminant_analysis import LinearDiscriminantAnalysis\n",
    "from sklearn.model_selection import ShuffleSplit, cross_val_score, train_test_split\n",
    "from sklearn.pipeline import Pipeline\n",
    "from sklearn.preprocessing import OneHotEncoder, LabelEncoder, RobustScaler\n",
    "\n",
    "import mne\n",
    "from mne import Epochs, pick_types, events_from_annotations\n",
    "from mne.channels import make_standard_montage\n",
    "from mne.datasets import eegbci\n",
    "from mne.decoding import CSP\n",
    "from mne.io import concatenate_raws, read_raw_edf\n",
    "from mne.preprocessing import ICA\n",
    "\n",
    "from braindecode.datasets import create_from_mne_raw, create_from_mne_epochs\n",
    "from braindecode.preprocessing import create_windows_from_events\n",
    "\n",
    "\n",
    "sys.path.append('../models')\n",
    "from eegconformer import EEGConformer\n"
   ]
  },
  {
   "cell_type": "markdown",
   "metadata": {},
   "source": [
    "### Loading data and preprocessing\n",
    "For all training, we are using the first 2 runs per subject for training and will hold out the 3rd run for live decoding testing."
   ]
  },
  {
   "cell_type": "code",
   "execution_count": 13,
   "metadata": {},
   "outputs": [
    {
     "name": "stdout",
     "output_type": "stream",
     "text": [
      "Automatically created module for IPython interactive environment\n",
      "Extracting EDF parameters from C:\\Users\\Hannah\\mne_data\\MNE-eegbci-data\\files\\eegmmidb\\1.0.0\\S001\\S001R06.edf...\n",
      "EDF file detected\n",
      "Setting channel info structure...\n",
      "Creating raw.info structure...\n",
      "Reading 0 ... 19999  =      0.000 ...   124.994 secs...\n",
      "Extracting EDF parameters from C:\\Users\\Hannah\\mne_data\\MNE-eegbci-data\\files\\eegmmidb\\1.0.0\\S001\\S001R10.edf...\n",
      "EDF file detected\n",
      "Setting channel info structure...\n",
      "Creating raw.info structure...\n",
      "Reading 0 ... 19999  =      0.000 ...   124.994 secs...\n",
      "Successfully processed subject 1.\n",
      "Extracting EDF parameters from C:\\Users\\Hannah\\mne_data\\MNE-eegbci-data\\files\\eegmmidb\\1.0.0\\S002\\S002R06.edf...\n",
      "EDF file detected\n",
      "Setting channel info structure...\n",
      "Creating raw.info structure...\n",
      "Reading 0 ... 19679  =      0.000 ...   122.994 secs...\n",
      "Extracting EDF parameters from C:\\Users\\Hannah\\mne_data\\MNE-eegbci-data\\files\\eegmmidb\\1.0.0\\S002\\S002R10.edf...\n",
      "EDF file detected\n",
      "Setting channel info structure...\n",
      "Creating raw.info structure...\n",
      "Reading 0 ... 19679  =      0.000 ...   122.994 secs...\n",
      "Successfully processed subject 2.\n",
      "Extracting EDF parameters from C:\\Users\\Hannah\\mne_data\\MNE-eegbci-data\\files\\eegmmidb\\1.0.0\\S003\\S003R06.edf...\n",
      "EDF file detected\n",
      "Setting channel info structure...\n",
      "Creating raw.info structure...\n",
      "Reading 0 ... 19999  =      0.000 ...   124.994 secs...\n",
      "Extracting EDF parameters from C:\\Users\\Hannah\\mne_data\\MNE-eegbci-data\\files\\eegmmidb\\1.0.0\\S003\\S003R10.edf...\n",
      "EDF file detected\n",
      "Setting channel info structure...\n",
      "Creating raw.info structure...\n",
      "Reading 0 ... 19999  =      0.000 ...   124.994 secs...\n",
      "Successfully processed subject 3.\n",
      "Downloading EEGBCI data\n"
     ]
    },
    {
     "name": "stderr",
     "output_type": "stream",
     "text": [
      "Downloading file 'S004/S004R06.edf' from 'https://physionet.org/files/eegmmidb/1.0.0/S004/S004R06.edf' to 'C:\\Users\\Hannah\\mne_data\\MNE-eegbci-data\\files\\eegmmidb\\1.0.0'.\n",
      "Downloading file 'S004/S004R10.edf' from 'https://physionet.org/files/eegmmidb/1.0.0/S004/S004R10.edf' to 'C:\\Users\\Hannah\\mne_data\\MNE-eegbci-data\\files\\eegmmidb\\1.0.0'.\n"
     ]
    },
    {
     "name": "stdout",
     "output_type": "stream",
     "text": [
      "Download complete in 07s (4.9 MB)\n",
      "Extracting EDF parameters from C:\\Users\\Hannah\\mne_data\\MNE-eegbci-data\\files\\eegmmidb\\1.0.0\\S004\\S004R06.edf...\n",
      "EDF file detected\n",
      "Setting channel info structure...\n",
      "Creating raw.info structure...\n",
      "Reading 0 ... 19679  =      0.000 ...   122.994 secs...\n",
      "Extracting EDF parameters from C:\\Users\\Hannah\\mne_data\\MNE-eegbci-data\\files\\eegmmidb\\1.0.0\\S004\\S004R10.edf...\n",
      "EDF file detected\n",
      "Setting channel info structure...\n",
      "Creating raw.info structure...\n",
      "Reading 0 ... 19679  =      0.000 ...   122.994 secs...\n",
      "Successfully processed subject 4.\n",
      "Extracting EDF parameters from C:\\Users\\Hannah\\mne_data\\MNE-eegbci-data\\files\\eegmmidb\\1.0.0\\S005\\S005R06.edf...\n",
      "EDF file detected\n",
      "Setting channel info structure...\n",
      "Creating raw.info structure...\n",
      "Reading 0 ... 19679  =      0.000 ...   122.994 secs...\n",
      "Extracting EDF parameters from C:\\Users\\Hannah\\mne_data\\MNE-eegbci-data\\files\\eegmmidb\\1.0.0\\S005\\S005R10.edf...\n",
      "EDF file detected\n",
      "Setting channel info structure...\n",
      "Creating raw.info structure...\n",
      "Reading 0 ... 19679  =      0.000 ...   122.994 secs...\n",
      "Successfully processed subject 5.\n",
      "Extracting EDF parameters from C:\\Users\\Hannah\\mne_data\\MNE-eegbci-data\\files\\eegmmidb\\1.0.0\\S006\\S006R06.edf...\n",
      "EDF file detected\n",
      "Setting channel info structure...\n",
      "Creating raw.info structure...\n",
      "Reading 0 ... 19679  =      0.000 ...   122.994 secs...\n",
      "Extracting EDF parameters from C:\\Users\\Hannah\\mne_data\\MNE-eegbci-data\\files\\eegmmidb\\1.0.0\\S006\\S006R10.edf...\n",
      "EDF file detected\n",
      "Setting channel info structure...\n",
      "Creating raw.info structure...\n",
      "Reading 0 ... 19679  =      0.000 ...   122.994 secs...\n",
      "Successfully processed subject 6.\n",
      "Extracting EDF parameters from C:\\Users\\Hannah\\mne_data\\MNE-eegbci-data\\files\\eegmmidb\\1.0.0\\S007\\S007R06.edf...\n",
      "EDF file detected\n",
      "Setting channel info structure...\n",
      "Creating raw.info structure...\n",
      "Reading 0 ... 19999  =      0.000 ...   124.994 secs...\n",
      "Extracting EDF parameters from C:\\Users\\Hannah\\mne_data\\MNE-eegbci-data\\files\\eegmmidb\\1.0.0\\S007\\S007R10.edf...\n",
      "EDF file detected\n",
      "Setting channel info structure...\n",
      "Creating raw.info structure...\n",
      "Reading 0 ... 19999  =      0.000 ...   124.994 secs...\n",
      "Successfully processed subject 7.\n",
      "Extracting EDF parameters from C:\\Users\\Hannah\\mne_data\\MNE-eegbci-data\\files\\eegmmidb\\1.0.0\\S008\\S008R06.edf...\n",
      "EDF file detected\n",
      "Setting channel info structure...\n",
      "Creating raw.info structure...\n",
      "Reading 0 ... 19679  =      0.000 ...   122.994 secs...\n",
      "Extracting EDF parameters from C:\\Users\\Hannah\\mne_data\\MNE-eegbci-data\\files\\eegmmidb\\1.0.0\\S008\\S008R10.edf...\n",
      "EDF file detected\n",
      "Setting channel info structure...\n",
      "Creating raw.info structure...\n",
      "Reading 0 ... 19679  =      0.000 ...   122.994 secs...\n",
      "Successfully processed subject 8.\n",
      "Downloading EEGBCI data\n"
     ]
    },
    {
     "name": "stderr",
     "output_type": "stream",
     "text": [
      "Downloading file 'S009/S009R06.edf' from 'https://physionet.org/files/eegmmidb/1.0.0/S009/S009R06.edf' to 'C:\\Users\\Hannah\\mne_data\\MNE-eegbci-data\\files\\eegmmidb\\1.0.0'.\n",
      "Downloading file 'S009/S009R10.edf' from 'https://physionet.org/files/eegmmidb/1.0.0/S009/S009R10.edf' to 'C:\\Users\\Hannah\\mne_data\\MNE-eegbci-data\\files\\eegmmidb\\1.0.0'.\n"
     ]
    },
    {
     "name": "stdout",
     "output_type": "stream",
     "text": [
      "Download complete in 07s (4.9 MB)\n",
      "Extracting EDF parameters from C:\\Users\\Hannah\\mne_data\\MNE-eegbci-data\\files\\eegmmidb\\1.0.0\\S009\\S009R06.edf...\n",
      "EDF file detected\n",
      "Setting channel info structure...\n",
      "Creating raw.info structure...\n",
      "Reading 0 ... 19679  =      0.000 ...   122.994 secs...\n",
      "Extracting EDF parameters from C:\\Users\\Hannah\\mne_data\\MNE-eegbci-data\\files\\eegmmidb\\1.0.0\\S009\\S009R10.edf...\n",
      "EDF file detected\n",
      "Setting channel info structure...\n",
      "Creating raw.info structure...\n",
      "Reading 0 ... 19679  =      0.000 ...   122.994 secs...\n",
      "Successfully processed subject 9.\n",
      "Extracting EDF parameters from C:\\Users\\Hannah\\mne_data\\MNE-eegbci-data\\files\\eegmmidb\\1.0.0\\S010\\S010R06.edf...\n",
      "EDF file detected\n",
      "Setting channel info structure...\n",
      "Creating raw.info structure...\n",
      "Reading 0 ... 19679  =      0.000 ...   122.994 secs...\n",
      "Extracting EDF parameters from C:\\Users\\Hannah\\mne_data\\MNE-eegbci-data\\files\\eegmmidb\\1.0.0\\S010\\S010R10.edf...\n",
      "EDF file detected\n",
      "Setting channel info structure...\n",
      "Creating raw.info structure...\n",
      "Reading 0 ... 19679  =      0.000 ...   122.994 secs...\n",
      "Successfully processed subject 10.\n",
      "Extracting EDF parameters from C:\\Users\\Hannah\\mne_data\\MNE-eegbci-data\\files\\eegmmidb\\1.0.0\\S011\\S011R06.edf...\n",
      "EDF file detected\n",
      "Setting channel info structure...\n",
      "Creating raw.info structure...\n",
      "Reading 0 ... 19679  =      0.000 ...   122.994 secs...\n",
      "Extracting EDF parameters from C:\\Users\\Hannah\\mne_data\\MNE-eegbci-data\\files\\eegmmidb\\1.0.0\\S011\\S011R10.edf...\n",
      "EDF file detected\n",
      "Setting channel info structure...\n",
      "Creating raw.info structure...\n",
      "Reading 0 ... 19679  =      0.000 ...   122.994 secs...\n",
      "Successfully processed subject 11.\n",
      "Extracting EDF parameters from C:\\Users\\Hannah\\mne_data\\MNE-eegbci-data\\files\\eegmmidb\\1.0.0\\S012\\S012R06.edf...\n",
      "EDF file detected\n",
      "Setting channel info structure...\n",
      "Creating raw.info structure...\n",
      "Reading 0 ... 19679  =      0.000 ...   122.994 secs...\n",
      "Extracting EDF parameters from C:\\Users\\Hannah\\mne_data\\MNE-eegbci-data\\files\\eegmmidb\\1.0.0\\S012\\S012R10.edf...\n",
      "EDF file detected\n",
      "Setting channel info structure...\n",
      "Creating raw.info structure...\n",
      "Reading 0 ... 19679  =      0.000 ...   122.994 secs...\n",
      "Successfully processed subject 12.\n",
      "Extracting EDF parameters from C:\\Users\\Hannah\\mne_data\\MNE-eegbci-data\\files\\eegmmidb\\1.0.0\\S013\\S013R06.edf...\n",
      "EDF file detected\n",
      "Setting channel info structure...\n",
      "Creating raw.info structure...\n",
      "Reading 0 ... 19679  =      0.000 ...   122.994 secs...\n",
      "Extracting EDF parameters from C:\\Users\\Hannah\\mne_data\\MNE-eegbci-data\\files\\eegmmidb\\1.0.0\\S013\\S013R10.edf...\n",
      "EDF file detected\n",
      "Setting channel info structure...\n",
      "Creating raw.info structure...\n",
      "Reading 0 ... 19679  =      0.000 ...   122.994 secs...\n",
      "Successfully processed subject 13.\n",
      "Extracting EDF parameters from C:\\Users\\Hannah\\mne_data\\MNE-eegbci-data\\files\\eegmmidb\\1.0.0\\S014\\S014R06.edf...\n",
      "EDF file detected\n",
      "Setting channel info structure...\n",
      "Creating raw.info structure...\n",
      "Reading 0 ... 19679  =      0.000 ...   122.994 secs...\n",
      "Extracting EDF parameters from C:\\Users\\Hannah\\mne_data\\MNE-eegbci-data\\files\\eegmmidb\\1.0.0\\S014\\S014R10.edf...\n",
      "EDF file detected\n",
      "Setting channel info structure...\n",
      "Creating raw.info structure...\n",
      "Reading 0 ... 19679  =      0.000 ...   122.994 secs...\n",
      "Successfully processed subject 14.\n",
      "Extracting EDF parameters from C:\\Users\\Hannah\\mne_data\\MNE-eegbci-data\\files\\eegmmidb\\1.0.0\\S015\\S015R06.edf...\n",
      "EDF file detected\n",
      "Setting channel info structure...\n",
      "Creating raw.info structure...\n",
      "Reading 0 ... 19679  =      0.000 ...   122.994 secs...\n",
      "Extracting EDF parameters from C:\\Users\\Hannah\\mne_data\\MNE-eegbci-data\\files\\eegmmidb\\1.0.0\\S015\\S015R10.edf...\n",
      "EDF file detected\n",
      "Setting channel info structure...\n",
      "Creating raw.info structure...\n",
      "Reading 0 ... 19679  =      0.000 ...   122.994 secs...\n",
      "Successfully processed subject 15.\n",
      "Extracting EDF parameters from C:\\Users\\Hannah\\mne_data\\MNE-eegbci-data\\files\\eegmmidb\\1.0.0\\S016\\S016R06.edf...\n",
      "EDF file detected\n",
      "Setting channel info structure...\n",
      "Creating raw.info structure...\n",
      "Reading 0 ... 19679  =      0.000 ...   122.994 secs...\n",
      "Extracting EDF parameters from C:\\Users\\Hannah\\mne_data\\MNE-eegbci-data\\files\\eegmmidb\\1.0.0\\S016\\S016R10.edf...\n",
      "EDF file detected\n",
      "Setting channel info structure...\n",
      "Creating raw.info structure...\n",
      "Reading 0 ... 19679  =      0.000 ...   122.994 secs...\n",
      "Successfully processed subject 16.\n",
      "Extracting EDF parameters from C:\\Users\\Hannah\\mne_data\\MNE-eegbci-data\\files\\eegmmidb\\1.0.0\\S017\\S017R06.edf...\n",
      "EDF file detected\n",
      "Setting channel info structure...\n",
      "Creating raw.info structure...\n",
      "Reading 0 ... 19679  =      0.000 ...   122.994 secs...\n",
      "Extracting EDF parameters from C:\\Users\\Hannah\\mne_data\\MNE-eegbci-data\\files\\eegmmidb\\1.0.0\\S017\\S017R10.edf...\n",
      "EDF file detected\n",
      "Setting channel info structure...\n",
      "Creating raw.info structure...\n",
      "Reading 0 ... 19679  =      0.000 ...   122.994 secs...\n",
      "Successfully processed subject 17.\n",
      "Extracting EDF parameters from C:\\Users\\Hannah\\mne_data\\MNE-eegbci-data\\files\\eegmmidb\\1.0.0\\S018\\S018R06.edf...\n",
      "EDF file detected\n",
      "Setting channel info structure...\n",
      "Creating raw.info structure...\n",
      "Reading 0 ... 19679  =      0.000 ...   122.994 secs...\n",
      "Extracting EDF parameters from C:\\Users\\Hannah\\mne_data\\MNE-eegbci-data\\files\\eegmmidb\\1.0.0\\S018\\S018R10.edf...\n",
      "EDF file detected\n",
      "Setting channel info structure...\n",
      "Creating raw.info structure...\n",
      "Reading 0 ... 19679  =      0.000 ...   122.994 secs...\n",
      "Successfully processed subject 18.\n",
      "Extracting EDF parameters from C:\\Users\\Hannah\\mne_data\\MNE-eegbci-data\\files\\eegmmidb\\1.0.0\\S019\\S019R06.edf...\n",
      "EDF file detected\n",
      "Setting channel info structure...\n",
      "Creating raw.info structure...\n",
      "Reading 0 ... 19679  =      0.000 ...   122.994 secs...\n",
      "Extracting EDF parameters from C:\\Users\\Hannah\\mne_data\\MNE-eegbci-data\\files\\eegmmidb\\1.0.0\\S019\\S019R10.edf...\n",
      "EDF file detected\n",
      "Setting channel info structure...\n",
      "Creating raw.info structure...\n",
      "Reading 0 ... 19679  =      0.000 ...   122.994 secs...\n",
      "Successfully processed subject 19.\n",
      "Extracting EDF parameters from C:\\Users\\Hannah\\mne_data\\MNE-eegbci-data\\files\\eegmmidb\\1.0.0\\S020\\S020R06.edf...\n",
      "EDF file detected\n",
      "Setting channel info structure...\n",
      "Creating raw.info structure...\n",
      "Reading 0 ... 19679  =      0.000 ...   122.994 secs...\n",
      "Extracting EDF parameters from C:\\Users\\Hannah\\mne_data\\MNE-eegbci-data\\files\\eegmmidb\\1.0.0\\S020\\S020R10.edf...\n",
      "EDF file detected\n",
      "Setting channel info structure...\n",
      "Creating raw.info structure...\n",
      "Reading 0 ... 19679  =      0.000 ...   122.994 secs...\n",
      "Successfully processed subject 20.\n",
      "Extracting EDF parameters from C:\\Users\\Hannah\\mne_data\\MNE-eegbci-data\\files\\eegmmidb\\1.0.0\\S021\\S021R06.edf...\n",
      "EDF file detected\n",
      "Setting channel info structure...\n",
      "Creating raw.info structure...\n",
      "Reading 0 ... 19999  =      0.000 ...   124.994 secs...\n",
      "Extracting EDF parameters from C:\\Users\\Hannah\\mne_data\\MNE-eegbci-data\\files\\eegmmidb\\1.0.0\\S021\\S021R10.edf...\n",
      "EDF file detected\n",
      "Setting channel info structure...\n",
      "Creating raw.info structure...\n",
      "Reading 0 ... 19999  =      0.000 ...   124.994 secs...\n",
      "Successfully processed subject 21.\n",
      "Extracting EDF parameters from C:\\Users\\Hannah\\mne_data\\MNE-eegbci-data\\files\\eegmmidb\\1.0.0\\S022\\S022R06.edf...\n",
      "EDF file detected\n",
      "Setting channel info structure...\n",
      "Creating raw.info structure...\n",
      "Reading 0 ... 19999  =      0.000 ...   124.994 secs...\n",
      "Extracting EDF parameters from C:\\Users\\Hannah\\mne_data\\MNE-eegbci-data\\files\\eegmmidb\\1.0.0\\S022\\S022R10.edf...\n",
      "EDF file detected\n",
      "Setting channel info structure...\n",
      "Creating raw.info structure...\n",
      "Reading 0 ... 19999  =      0.000 ...   124.994 secs...\n",
      "Successfully processed subject 22.\n",
      "Extracting EDF parameters from C:\\Users\\Hannah\\mne_data\\MNE-eegbci-data\\files\\eegmmidb\\1.0.0\\S023\\S023R06.edf...\n",
      "EDF file detected\n",
      "Setting channel info structure...\n",
      "Creating raw.info structure...\n",
      "Reading 0 ... 19679  =      0.000 ...   122.994 secs...\n",
      "Extracting EDF parameters from C:\\Users\\Hannah\\mne_data\\MNE-eegbci-data\\files\\eegmmidb\\1.0.0\\S023\\S023R10.edf...\n",
      "EDF file detected\n",
      "Setting channel info structure...\n",
      "Creating raw.info structure...\n",
      "Reading 0 ... 19679  =      0.000 ...   122.994 secs...\n",
      "Successfully processed subject 23.\n",
      "Extracting EDF parameters from C:\\Users\\Hannah\\mne_data\\MNE-eegbci-data\\files\\eegmmidb\\1.0.0\\S024\\S024R06.edf...\n",
      "EDF file detected\n",
      "Setting channel info structure...\n",
      "Creating raw.info structure...\n",
      "Reading 0 ... 19679  =      0.000 ...   122.994 secs...\n",
      "Extracting EDF parameters from C:\\Users\\Hannah\\mne_data\\MNE-eegbci-data\\files\\eegmmidb\\1.0.0\\S024\\S024R10.edf...\n",
      "EDF file detected\n",
      "Setting channel info structure...\n",
      "Creating raw.info structure...\n",
      "Reading 0 ... 19679  =      0.000 ...   122.994 secs...\n",
      "Successfully processed subject 24.\n",
      "Extracting EDF parameters from C:\\Users\\Hannah\\mne_data\\MNE-eegbci-data\\files\\eegmmidb\\1.0.0\\S025\\S025R06.edf...\n",
      "EDF file detected\n",
      "Setting channel info structure...\n",
      "Creating raw.info structure...\n",
      "Reading 0 ... 19679  =      0.000 ...   122.994 secs...\n",
      "Extracting EDF parameters from C:\\Users\\Hannah\\mne_data\\MNE-eegbci-data\\files\\eegmmidb\\1.0.0\\S025\\S025R10.edf...\n",
      "EDF file detected\n",
      "Setting channel info structure...\n",
      "Creating raw.info structure...\n",
      "Reading 0 ... 19679  =      0.000 ...   122.994 secs...\n",
      "Successfully processed subject 25.\n",
      "Extracting EDF parameters from C:\\Users\\Hannah\\mne_data\\MNE-eegbci-data\\files\\eegmmidb\\1.0.0\\S026\\S026R06.edf...\n",
      "EDF file detected\n",
      "Setting channel info structure...\n",
      "Creating raw.info structure...\n",
      "Reading 0 ... 19679  =      0.000 ...   122.994 secs...\n",
      "Extracting EDF parameters from C:\\Users\\Hannah\\mne_data\\MNE-eegbci-data\\files\\eegmmidb\\1.0.0\\S026\\S026R10.edf...\n",
      "EDF file detected\n",
      "Setting channel info structure...\n",
      "Creating raw.info structure...\n",
      "Reading 0 ... 19679  =      0.000 ...   122.994 secs...\n",
      "Successfully processed subject 26.\n",
      "Extracting EDF parameters from C:\\Users\\Hannah\\mne_data\\MNE-eegbci-data\\files\\eegmmidb\\1.0.0\\S027\\S027R06.edf...\n",
      "EDF file detected\n",
      "Setting channel info structure...\n",
      "Creating raw.info structure...\n",
      "Reading 0 ... 19679  =      0.000 ...   122.994 secs...\n",
      "Extracting EDF parameters from C:\\Users\\Hannah\\mne_data\\MNE-eegbci-data\\files\\eegmmidb\\1.0.0\\S027\\S027R10.edf...\n",
      "EDF file detected\n",
      "Setting channel info structure...\n",
      "Creating raw.info structure...\n",
      "Reading 0 ... 19679  =      0.000 ...   122.994 secs...\n",
      "Successfully processed subject 27.\n",
      "Extracting EDF parameters from C:\\Users\\Hannah\\mne_data\\MNE-eegbci-data\\files\\eegmmidb\\1.0.0\\S028\\S028R06.edf...\n",
      "EDF file detected\n",
      "Setting channel info structure...\n",
      "Creating raw.info structure...\n",
      "Reading 0 ... 19679  =      0.000 ...   122.994 secs...\n",
      "Extracting EDF parameters from C:\\Users\\Hannah\\mne_data\\MNE-eegbci-data\\files\\eegmmidb\\1.0.0\\S028\\S028R10.edf...\n",
      "EDF file detected\n",
      "Setting channel info structure...\n",
      "Creating raw.info structure...\n",
      "Reading 0 ... 19679  =      0.000 ...   122.994 secs...\n",
      "Successfully processed subject 28.\n",
      "Extracting EDF parameters from C:\\Users\\Hannah\\mne_data\\MNE-eegbci-data\\files\\eegmmidb\\1.0.0\\S029\\S029R06.edf...\n",
      "EDF file detected\n",
      "Setting channel info structure...\n",
      "Creating raw.info structure...\n",
      "Reading 0 ... 19839  =      0.000 ...   123.994 secs...\n",
      "Extracting EDF parameters from C:\\Users\\Hannah\\mne_data\\MNE-eegbci-data\\files\\eegmmidb\\1.0.0\\S029\\S029R10.edf...\n",
      "EDF file detected\n",
      "Setting channel info structure...\n",
      "Creating raw.info structure...\n",
      "Reading 0 ... 19839  =      0.000 ...   123.994 secs...\n",
      "Successfully processed subject 29.\n",
      "Downloading EEGBCI data\n"
     ]
    },
    {
     "name": "stderr",
     "output_type": "stream",
     "text": [
      "Downloading file 'S030/S030R06.edf' from 'https://physionet.org/files/eegmmidb/1.0.0/S030/S030R06.edf' to 'C:\\Users\\Hannah\\mne_data\\MNE-eegbci-data\\files\\eegmmidb\\1.0.0'.\n",
      "Downloading file 'S030/S030R10.edf' from 'https://physionet.org/files/eegmmidb/1.0.0/S030/S030R10.edf' to 'C:\\Users\\Hannah\\mne_data\\MNE-eegbci-data\\files\\eegmmidb\\1.0.0'.\n"
     ]
    },
    {
     "name": "stdout",
     "output_type": "stream",
     "text": [
      "Download complete in 07s (4.9 MB)\n",
      "Extracting EDF parameters from C:\\Users\\Hannah\\mne_data\\MNE-eegbci-data\\files\\eegmmidb\\1.0.0\\S030\\S030R06.edf...\n",
      "EDF file detected\n",
      "Setting channel info structure...\n",
      "Creating raw.info structure...\n",
      "Reading 0 ... 19839  =      0.000 ...   123.994 secs...\n",
      "Extracting EDF parameters from C:\\Users\\Hannah\\mne_data\\MNE-eegbci-data\\files\\eegmmidb\\1.0.0\\S030\\S030R10.edf...\n",
      "EDF file detected\n",
      "Setting channel info structure...\n",
      "Creating raw.info structure...\n",
      "Reading 0 ... 19839  =      0.000 ...   123.994 secs...\n",
      "Successfully processed subject 30.\n",
      "Downloading EEGBCI data\n"
     ]
    },
    {
     "name": "stderr",
     "output_type": "stream",
     "text": [
      "Downloading file 'S031/S031R06.edf' from 'https://physionet.org/files/eegmmidb/1.0.0/S031/S031R06.edf' to 'C:\\Users\\Hannah\\mne_data\\MNE-eegbci-data\\files\\eegmmidb\\1.0.0'.\n",
      "Downloading file 'S031/S031R10.edf' from 'https://physionet.org/files/eegmmidb/1.0.0/S031/S031R10.edf' to 'C:\\Users\\Hannah\\mne_data\\MNE-eegbci-data\\files\\eegmmidb\\1.0.0'.\n"
     ]
    },
    {
     "name": "stdout",
     "output_type": "stream",
     "text": [
      "Download complete in 07s (4.9 MB)\n",
      "Extracting EDF parameters from C:\\Users\\Hannah\\mne_data\\MNE-eegbci-data\\files\\eegmmidb\\1.0.0\\S031\\S031R06.edf...\n",
      "EDF file detected\n",
      "Setting channel info structure...\n",
      "Creating raw.info structure...\n",
      "Reading 0 ... 19679  =      0.000 ...   122.994 secs...\n",
      "Extracting EDF parameters from C:\\Users\\Hannah\\mne_data\\MNE-eegbci-data\\files\\eegmmidb\\1.0.0\\S031\\S031R10.edf...\n",
      "EDF file detected\n",
      "Setting channel info structure...\n",
      "Creating raw.info structure...\n",
      "Reading 0 ... 19679  =      0.000 ...   122.994 secs...\n",
      "Successfully processed subject 31.\n",
      "Downloading EEGBCI data\n"
     ]
    },
    {
     "name": "stderr",
     "output_type": "stream",
     "text": [
      "Downloading file 'S032/S032R06.edf' from 'https://physionet.org/files/eegmmidb/1.0.0/S032/S032R06.edf' to 'C:\\Users\\Hannah\\mne_data\\MNE-eegbci-data\\files\\eegmmidb\\1.0.0'.\n",
      "Downloading file 'S032/S032R10.edf' from 'https://physionet.org/files/eegmmidb/1.0.0/S032/S032R10.edf' to 'C:\\Users\\Hannah\\mne_data\\MNE-eegbci-data\\files\\eegmmidb\\1.0.0'.\n"
     ]
    },
    {
     "name": "stdout",
     "output_type": "stream",
     "text": [
      "Download complete in 07s (5.0 MB)\n",
      "Extracting EDF parameters from C:\\Users\\Hannah\\mne_data\\MNE-eegbci-data\\files\\eegmmidb\\1.0.0\\S032\\S032R06.edf...\n",
      "EDF file detected\n",
      "Setting channel info structure...\n",
      "Creating raw.info structure...\n",
      "Reading 0 ... 19999  =      0.000 ...   124.994 secs...\n",
      "Extracting EDF parameters from C:\\Users\\Hannah\\mne_data\\MNE-eegbci-data\\files\\eegmmidb\\1.0.0\\S032\\S032R10.edf...\n",
      "EDF file detected\n",
      "Setting channel info structure...\n",
      "Creating raw.info structure...\n",
      "Reading 0 ... 19999  =      0.000 ...   124.994 secs...\n",
      "Successfully processed subject 32.\n",
      "Downloading EEGBCI data\n"
     ]
    },
    {
     "name": "stderr",
     "output_type": "stream",
     "text": [
      "Downloading file 'S033/S033R06.edf' from 'https://physionet.org/files/eegmmidb/1.0.0/S033/S033R06.edf' to 'C:\\Users\\Hannah\\mne_data\\MNE-eegbci-data\\files\\eegmmidb\\1.0.0'.\n",
      "Downloading file 'S033/S033R10.edf' from 'https://physionet.org/files/eegmmidb/1.0.0/S033/S033R10.edf' to 'C:\\Users\\Hannah\\mne_data\\MNE-eegbci-data\\files\\eegmmidb\\1.0.0'.\n"
     ]
    },
    {
     "name": "stdout",
     "output_type": "stream",
     "text": [
      "Download complete in 07s (4.9 MB)\n",
      "Extracting EDF parameters from C:\\Users\\Hannah\\mne_data\\MNE-eegbci-data\\files\\eegmmidb\\1.0.0\\S033\\S033R06.edf...\n",
      "EDF file detected\n",
      "Setting channel info structure...\n",
      "Creating raw.info structure...\n",
      "Reading 0 ... 19679  =      0.000 ...   122.994 secs...\n",
      "Extracting EDF parameters from C:\\Users\\Hannah\\mne_data\\MNE-eegbci-data\\files\\eegmmidb\\1.0.0\\S033\\S033R10.edf...\n",
      "EDF file detected\n",
      "Setting channel info structure...\n",
      "Creating raw.info structure...\n",
      "Reading 0 ... 19679  =      0.000 ...   122.994 secs...\n",
      "Successfully processed subject 33.\n",
      "Downloading EEGBCI data\n"
     ]
    },
    {
     "name": "stderr",
     "output_type": "stream",
     "text": [
      "Downloading file 'S034/S034R06.edf' from 'https://physionet.org/files/eegmmidb/1.0.0/S034/S034R06.edf' to 'C:\\Users\\Hannah\\mne_data\\MNE-eegbci-data\\files\\eegmmidb\\1.0.0'.\n",
      "Downloading file 'S034/S034R10.edf' from 'https://physionet.org/files/eegmmidb/1.0.0/S034/S034R10.edf' to 'C:\\Users\\Hannah\\mne_data\\MNE-eegbci-data\\files\\eegmmidb\\1.0.0'.\n"
     ]
    },
    {
     "name": "stdout",
     "output_type": "stream",
     "text": [
      "Download complete in 07s (4.9 MB)\n",
      "Extracting EDF parameters from C:\\Users\\Hannah\\mne_data\\MNE-eegbci-data\\files\\eegmmidb\\1.0.0\\S034\\S034R06.edf...\n",
      "EDF file detected\n",
      "Setting channel info structure...\n",
      "Creating raw.info structure...\n",
      "Reading 0 ... 19679  =      0.000 ...   122.994 secs...\n",
      "Extracting EDF parameters from C:\\Users\\Hannah\\mne_data\\MNE-eegbci-data\\files\\eegmmidb\\1.0.0\\S034\\S034R10.edf...\n",
      "EDF file detected\n",
      "Setting channel info structure...\n",
      "Creating raw.info structure...\n",
      "Reading 0 ... 19679  =      0.000 ...   122.994 secs...\n",
      "Successfully processed subject 34.\n",
      "Downloading EEGBCI data\n"
     ]
    },
    {
     "name": "stderr",
     "output_type": "stream",
     "text": [
      "Downloading file 'S035/S035R06.edf' from 'https://physionet.org/files/eegmmidb/1.0.0/S035/S035R06.edf' to 'C:\\Users\\Hannah\\mne_data\\MNE-eegbci-data\\files\\eegmmidb\\1.0.0'.\n",
      "Downloading file 'S035/S035R10.edf' from 'https://physionet.org/files/eegmmidb/1.0.0/S035/S035R10.edf' to 'C:\\Users\\Hannah\\mne_data\\MNE-eegbci-data\\files\\eegmmidb\\1.0.0'.\n"
     ]
    },
    {
     "name": "stdout",
     "output_type": "stream",
     "text": [
      "Download complete in 07s (5.0 MB)\n",
      "Extracting EDF parameters from C:\\Users\\Hannah\\mne_data\\MNE-eegbci-data\\files\\eegmmidb\\1.0.0\\S035\\S035R06.edf...\n",
      "EDF file detected\n",
      "Setting channel info structure...\n",
      "Creating raw.info structure...\n",
      "Reading 0 ... 19999  =      0.000 ...   124.994 secs...\n",
      "Extracting EDF parameters from C:\\Users\\Hannah\\mne_data\\MNE-eegbci-data\\files\\eegmmidb\\1.0.0\\S035\\S035R10.edf...\n",
      "EDF file detected\n",
      "Setting channel info structure...\n",
      "Creating raw.info structure...\n",
      "Reading 0 ... 19999  =      0.000 ...   124.994 secs...\n",
      "Successfully processed subject 35.\n",
      "Downloading EEGBCI data\n"
     ]
    },
    {
     "name": "stderr",
     "output_type": "stream",
     "text": [
      "Downloading file 'S036/S036R06.edf' from 'https://physionet.org/files/eegmmidb/1.0.0/S036/S036R06.edf' to 'C:\\Users\\Hannah\\mne_data\\MNE-eegbci-data\\files\\eegmmidb\\1.0.0'.\n",
      "Downloading file 'S036/S036R10.edf' from 'https://physionet.org/files/eegmmidb/1.0.0/S036/S036R10.edf' to 'C:\\Users\\Hannah\\mne_data\\MNE-eegbci-data\\files\\eegmmidb\\1.0.0'.\n"
     ]
    },
    {
     "name": "stdout",
     "output_type": "stream",
     "text": [
      "Download complete in 07s (4.9 MB)\n",
      "Extracting EDF parameters from C:\\Users\\Hannah\\mne_data\\MNE-eegbci-data\\files\\eegmmidb\\1.0.0\\S036\\S036R06.edf...\n",
      "EDF file detected\n",
      "Setting channel info structure...\n",
      "Creating raw.info structure...\n",
      "Reading 0 ... 19679  =      0.000 ...   122.994 secs...\n",
      "Extracting EDF parameters from C:\\Users\\Hannah\\mne_data\\MNE-eegbci-data\\files\\eegmmidb\\1.0.0\\S036\\S036R10.edf...\n",
      "EDF file detected\n",
      "Setting channel info structure...\n",
      "Creating raw.info structure...\n",
      "Reading 0 ... 19679  =      0.000 ...   122.994 secs...\n",
      "Successfully processed subject 36.\n",
      "Downloading EEGBCI data\n"
     ]
    },
    {
     "name": "stderr",
     "output_type": "stream",
     "text": [
      "Downloading file 'S037/S037R06.edf' from 'https://physionet.org/files/eegmmidb/1.0.0/S037/S037R06.edf' to 'C:\\Users\\Hannah\\mne_data\\MNE-eegbci-data\\files\\eegmmidb\\1.0.0'.\n",
      "Downloading file 'S037/S037R10.edf' from 'https://physionet.org/files/eegmmidb/1.0.0/S037/S037R10.edf' to 'C:\\Users\\Hannah\\mne_data\\MNE-eegbci-data\\files\\eegmmidb\\1.0.0'.\n"
     ]
    },
    {
     "name": "stdout",
     "output_type": "stream",
     "text": [
      "Download complete in 06s (4.9 MB)\n",
      "Extracting EDF parameters from C:\\Users\\Hannah\\mne_data\\MNE-eegbci-data\\files\\eegmmidb\\1.0.0\\S037\\S037R06.edf...\n",
      "EDF file detected\n",
      "Setting channel info structure...\n",
      "Creating raw.info structure...\n",
      "Reading 0 ... 19679  =      0.000 ...   122.994 secs...\n",
      "Extracting EDF parameters from C:\\Users\\Hannah\\mne_data\\MNE-eegbci-data\\files\\eegmmidb\\1.0.0\\S037\\S037R10.edf...\n",
      "EDF file detected\n",
      "Setting channel info structure...\n",
      "Creating raw.info structure...\n",
      "Reading 0 ... 19679  =      0.000 ...   122.994 secs...\n",
      "Successfully processed subject 37.\n",
      "Downloading EEGBCI data\n"
     ]
    },
    {
     "name": "stderr",
     "output_type": "stream",
     "text": [
      "Downloading file 'S038/S038R06.edf' from 'https://physionet.org/files/eegmmidb/1.0.0/S038/S038R06.edf' to 'C:\\Users\\Hannah\\mne_data\\MNE-eegbci-data\\files\\eegmmidb\\1.0.0'.\n",
      "Downloading file 'S038/S038R10.edf' from 'https://physionet.org/files/eegmmidb/1.0.0/S038/S038R10.edf' to 'C:\\Users\\Hannah\\mne_data\\MNE-eegbci-data\\files\\eegmmidb\\1.0.0'.\n"
     ]
    },
    {
     "name": "stdout",
     "output_type": "stream",
     "text": [
      "Download complete in 07s (4.9 MB)\n",
      "Extracting EDF parameters from C:\\Users\\Hannah\\mne_data\\MNE-eegbci-data\\files\\eegmmidb\\1.0.0\\S038\\S038R06.edf...\n",
      "EDF file detected\n",
      "Setting channel info structure...\n",
      "Creating raw.info structure...\n",
      "Reading 0 ... 19679  =      0.000 ...   122.994 secs...\n",
      "Extracting EDF parameters from C:\\Users\\Hannah\\mne_data\\MNE-eegbci-data\\files\\eegmmidb\\1.0.0\\S038\\S038R10.edf...\n",
      "EDF file detected\n",
      "Setting channel info structure...\n",
      "Creating raw.info structure...\n",
      "Reading 0 ... 19679  =      0.000 ...   122.994 secs...\n",
      "Successfully processed subject 38.\n",
      "Downloading EEGBCI data\n"
     ]
    },
    {
     "name": "stderr",
     "output_type": "stream",
     "text": [
      "Downloading file 'S039/S039R06.edf' from 'https://physionet.org/files/eegmmidb/1.0.0/S039/S039R06.edf' to 'C:\\Users\\Hannah\\mne_data\\MNE-eegbci-data\\files\\eegmmidb\\1.0.0'.\n",
      "Downloading file 'S039/S039R10.edf' from 'https://physionet.org/files/eegmmidb/1.0.0/S039/S039R10.edf' to 'C:\\Users\\Hannah\\mne_data\\MNE-eegbci-data\\files\\eegmmidb\\1.0.0'.\n"
     ]
    },
    {
     "name": "stdout",
     "output_type": "stream",
     "text": [
      "Download complete in 07s (4.9 MB)\n",
      "Extracting EDF parameters from C:\\Users\\Hannah\\mne_data\\MNE-eegbci-data\\files\\eegmmidb\\1.0.0\\S039\\S039R06.edf...\n",
      "EDF file detected\n",
      "Setting channel info structure...\n",
      "Creating raw.info structure...\n",
      "Reading 0 ... 19679  =      0.000 ...   122.994 secs...\n",
      "Extracting EDF parameters from C:\\Users\\Hannah\\mne_data\\MNE-eegbci-data\\files\\eegmmidb\\1.0.0\\S039\\S039R10.edf...\n",
      "EDF file detected\n",
      "Setting channel info structure...\n",
      "Creating raw.info structure...\n",
      "Reading 0 ... 19679  =      0.000 ...   122.994 secs...\n",
      "Successfully processed subject 39.\n",
      "Downloading EEGBCI data\n"
     ]
    },
    {
     "name": "stderr",
     "output_type": "stream",
     "text": [
      "Downloading file 'S040/S040R06.edf' from 'https://physionet.org/files/eegmmidb/1.0.0/S040/S040R06.edf' to 'C:\\Users\\Hannah\\mne_data\\MNE-eegbci-data\\files\\eegmmidb\\1.0.0'.\n",
      "Downloading file 'S040/S040R10.edf' from 'https://physionet.org/files/eegmmidb/1.0.0/S040/S040R10.edf' to 'C:\\Users\\Hannah\\mne_data\\MNE-eegbci-data\\files\\eegmmidb\\1.0.0'.\n"
     ]
    },
    {
     "name": "stdout",
     "output_type": "stream",
     "text": [
      "Download complete in 07s (4.9 MB)\n",
      "Extracting EDF parameters from C:\\Users\\Hannah\\mne_data\\MNE-eegbci-data\\files\\eegmmidb\\1.0.0\\S040\\S040R06.edf...\n",
      "EDF file detected\n",
      "Setting channel info structure...\n",
      "Creating raw.info structure...\n",
      "Reading 0 ... 19679  =      0.000 ...   122.994 secs...\n",
      "Extracting EDF parameters from C:\\Users\\Hannah\\mne_data\\MNE-eegbci-data\\files\\eegmmidb\\1.0.0\\S040\\S040R10.edf...\n",
      "EDF file detected\n",
      "Setting channel info structure...\n",
      "Creating raw.info structure...\n",
      "Reading 0 ... 19679  =      0.000 ...   122.994 secs...\n",
      "Successfully processed subject 40.\n",
      "Downloading EEGBCI data\n"
     ]
    },
    {
     "name": "stderr",
     "output_type": "stream",
     "text": [
      "Downloading file 'S041/S041R06.edf' from 'https://physionet.org/files/eegmmidb/1.0.0/S041/S041R06.edf' to 'C:\\Users\\Hannah\\mne_data\\MNE-eegbci-data\\files\\eegmmidb\\1.0.0'.\n",
      "Downloading file 'S041/S041R10.edf' from 'https://physionet.org/files/eegmmidb/1.0.0/S041/S041R10.edf' to 'C:\\Users\\Hannah\\mne_data\\MNE-eegbci-data\\files\\eegmmidb\\1.0.0'.\n"
     ]
    },
    {
     "name": "stdout",
     "output_type": "stream",
     "text": [
      "Download complete in 07s (4.9 MB)\n",
      "Extracting EDF parameters from C:\\Users\\Hannah\\mne_data\\MNE-eegbci-data\\files\\eegmmidb\\1.0.0\\S041\\S041R06.edf...\n",
      "EDF file detected\n",
      "Setting channel info structure...\n",
      "Creating raw.info structure...\n",
      "Reading 0 ... 19679  =      0.000 ...   122.994 secs...\n",
      "Extracting EDF parameters from C:\\Users\\Hannah\\mne_data\\MNE-eegbci-data\\files\\eegmmidb\\1.0.0\\S041\\S041R10.edf...\n",
      "EDF file detected\n",
      "Setting channel info structure...\n",
      "Creating raw.info structure...\n",
      "Reading 0 ... 19839  =      0.000 ...   123.994 secs...\n",
      "Successfully processed subject 41.\n",
      "Downloading EEGBCI data\n"
     ]
    },
    {
     "name": "stderr",
     "output_type": "stream",
     "text": [
      "Downloading file 'S042/S042R06.edf' from 'https://physionet.org/files/eegmmidb/1.0.0/S042/S042R06.edf' to 'C:\\Users\\Hannah\\mne_data\\MNE-eegbci-data\\files\\eegmmidb\\1.0.0'.\n",
      "Downloading file 'S042/S042R10.edf' from 'https://physionet.org/files/eegmmidb/1.0.0/S042/S042R10.edf' to 'C:\\Users\\Hannah\\mne_data\\MNE-eegbci-data\\files\\eegmmidb\\1.0.0'.\n"
     ]
    },
    {
     "name": "stdout",
     "output_type": "stream",
     "text": [
      "Download complete in 07s (4.9 MB)\n",
      "Extracting EDF parameters from C:\\Users\\Hannah\\mne_data\\MNE-eegbci-data\\files\\eegmmidb\\1.0.0\\S042\\S042R06.edf...\n",
      "EDF file detected\n",
      "Setting channel info structure...\n",
      "Creating raw.info structure...\n",
      "Reading 0 ... 19679  =      0.000 ...   122.994 secs...\n",
      "Extracting EDF parameters from C:\\Users\\Hannah\\mne_data\\MNE-eegbci-data\\files\\eegmmidb\\1.0.0\\S042\\S042R10.edf...\n",
      "EDF file detected\n",
      "Setting channel info structure...\n",
      "Creating raw.info structure...\n",
      "Reading 0 ... 19679  =      0.000 ...   122.994 secs...\n",
      "Successfully processed subject 42.\n",
      "Downloading EEGBCI data\n"
     ]
    },
    {
     "name": "stderr",
     "output_type": "stream",
     "text": [
      "Downloading file 'S043/S043R06.edf' from 'https://physionet.org/files/eegmmidb/1.0.0/S043/S043R06.edf' to 'C:\\Users\\Hannah\\mne_data\\MNE-eegbci-data\\files\\eegmmidb\\1.0.0'.\n",
      "Downloading file 'S043/S043R10.edf' from 'https://physionet.org/files/eegmmidb/1.0.0/S043/S043R10.edf' to 'C:\\Users\\Hannah\\mne_data\\MNE-eegbci-data\\files\\eegmmidb\\1.0.0'.\n"
     ]
    },
    {
     "name": "stdout",
     "output_type": "stream",
     "text": [
      "Download complete in 07s (4.9 MB)\n",
      "Extracting EDF parameters from C:\\Users\\Hannah\\mne_data\\MNE-eegbci-data\\files\\eegmmidb\\1.0.0\\S043\\S043R06.edf...\n",
      "EDF file detected\n",
      "Setting channel info structure...\n",
      "Creating raw.info structure...\n",
      "Reading 0 ... 19679  =      0.000 ...   122.994 secs...\n",
      "Extracting EDF parameters from C:\\Users\\Hannah\\mne_data\\MNE-eegbci-data\\files\\eegmmidb\\1.0.0\\S043\\S043R10.edf...\n",
      "EDF file detected\n",
      "Setting channel info structure...\n",
      "Creating raw.info structure...\n",
      "Reading 0 ... 19679  =      0.000 ...   122.994 secs...\n",
      "Successfully processed subject 43.\n",
      "Downloading EEGBCI data\n"
     ]
    },
    {
     "name": "stderr",
     "output_type": "stream",
     "text": [
      "Downloading file 'S044/S044R06.edf' from 'https://physionet.org/files/eegmmidb/1.0.0/S044/S044R06.edf' to 'C:\\Users\\Hannah\\mne_data\\MNE-eegbci-data\\files\\eegmmidb\\1.0.0'.\n",
      "Downloading file 'S044/S044R10.edf' from 'https://physionet.org/files/eegmmidb/1.0.0/S044/S044R10.edf' to 'C:\\Users\\Hannah\\mne_data\\MNE-eegbci-data\\files\\eegmmidb\\1.0.0'.\n"
     ]
    },
    {
     "name": "stdout",
     "output_type": "stream",
     "text": [
      "Download complete in 07s (4.9 MB)\n",
      "Extracting EDF parameters from C:\\Users\\Hannah\\mne_data\\MNE-eegbci-data\\files\\eegmmidb\\1.0.0\\S044\\S044R06.edf...\n",
      "EDF file detected\n",
      "Setting channel info structure...\n",
      "Creating raw.info structure...\n",
      "Reading 0 ... 19679  =      0.000 ...   122.994 secs...\n",
      "Extracting EDF parameters from C:\\Users\\Hannah\\mne_data\\MNE-eegbci-data\\files\\eegmmidb\\1.0.0\\S044\\S044R10.edf...\n",
      "EDF file detected\n",
      "Setting channel info structure...\n",
      "Creating raw.info structure...\n",
      "Reading 0 ... 19679  =      0.000 ...   122.994 secs...\n",
      "Successfully processed subject 44.\n",
      "Downloading EEGBCI data\n"
     ]
    },
    {
     "name": "stderr",
     "output_type": "stream",
     "text": [
      "Downloading file 'S045/S045R06.edf' from 'https://physionet.org/files/eegmmidb/1.0.0/S045/S045R06.edf' to 'C:\\Users\\Hannah\\mne_data\\MNE-eegbci-data\\files\\eegmmidb\\1.0.0'.\n",
      "Downloading file 'S045/S045R10.edf' from 'https://physionet.org/files/eegmmidb/1.0.0/S045/S045R10.edf' to 'C:\\Users\\Hannah\\mne_data\\MNE-eegbci-data\\files\\eegmmidb\\1.0.0'.\n"
     ]
    },
    {
     "name": "stdout",
     "output_type": "stream",
     "text": [
      "Download complete in 07s (4.9 MB)\n",
      "Extracting EDF parameters from C:\\Users\\Hannah\\mne_data\\MNE-eegbci-data\\files\\eegmmidb\\1.0.0\\S045\\S045R06.edf...\n",
      "EDF file detected\n",
      "Setting channel info structure...\n",
      "Creating raw.info structure...\n",
      "Reading 0 ... 19679  =      0.000 ...   122.994 secs...\n",
      "Extracting EDF parameters from C:\\Users\\Hannah\\mne_data\\MNE-eegbci-data\\files\\eegmmidb\\1.0.0\\S045\\S045R10.edf...\n",
      "EDF file detected\n",
      "Setting channel info structure...\n",
      "Creating raw.info structure...\n",
      "Reading 0 ... 19679  =      0.000 ...   122.994 secs...\n",
      "Successfully processed subject 45.\n",
      "Downloading EEGBCI data\n"
     ]
    },
    {
     "name": "stderr",
     "output_type": "stream",
     "text": [
      "Downloading file 'S046/S046R06.edf' from 'https://physionet.org/files/eegmmidb/1.0.0/S046/S046R06.edf' to 'C:\\Users\\Hannah\\mne_data\\MNE-eegbci-data\\files\\eegmmidb\\1.0.0'.\n",
      "Downloading file 'S046/S046R10.edf' from 'https://physionet.org/files/eegmmidb/1.0.0/S046/S046R10.edf' to 'C:\\Users\\Hannah\\mne_data\\MNE-eegbci-data\\files\\eegmmidb\\1.0.0'.\n"
     ]
    },
    {
     "name": "stdout",
     "output_type": "stream",
     "text": [
      "Download complete in 07s (5.0 MB)\n",
      "Extracting EDF parameters from C:\\Users\\Hannah\\mne_data\\MNE-eegbci-data\\files\\eegmmidb\\1.0.0\\S046\\S046R06.edf...\n",
      "EDF file detected\n",
      "Setting channel info structure...\n",
      "Creating raw.info structure...\n",
      "Reading 0 ... 19999  =      0.000 ...   124.994 secs...\n",
      "Extracting EDF parameters from C:\\Users\\Hannah\\mne_data\\MNE-eegbci-data\\files\\eegmmidb\\1.0.0\\S046\\S046R10.edf...\n",
      "EDF file detected\n",
      "Setting channel info structure...\n",
      "Creating raw.info structure...\n",
      "Reading 0 ... 19999  =      0.000 ...   124.994 secs...\n",
      "Successfully processed subject 46.\n",
      "Downloading EEGBCI data\n"
     ]
    },
    {
     "name": "stderr",
     "output_type": "stream",
     "text": [
      "Downloading file 'S047/S047R06.edf' from 'https://physionet.org/files/eegmmidb/1.0.0/S047/S047R06.edf' to 'C:\\Users\\Hannah\\mne_data\\MNE-eegbci-data\\files\\eegmmidb\\1.0.0'.\n",
      "Downloading file 'S047/S047R10.edf' from 'https://physionet.org/files/eegmmidb/1.0.0/S047/S047R10.edf' to 'C:\\Users\\Hannah\\mne_data\\MNE-eegbci-data\\files\\eegmmidb\\1.0.0'.\n"
     ]
    },
    {
     "name": "stdout",
     "output_type": "stream",
     "text": [
      "Download complete in 07s (4.9 MB)\n",
      "Extracting EDF parameters from C:\\Users\\Hannah\\mne_data\\MNE-eegbci-data\\files\\eegmmidb\\1.0.0\\S047\\S047R06.edf...\n",
      "EDF file detected\n",
      "Setting channel info structure...\n",
      "Creating raw.info structure...\n",
      "Reading 0 ... 19679  =      0.000 ...   122.994 secs...\n",
      "Extracting EDF parameters from C:\\Users\\Hannah\\mne_data\\MNE-eegbci-data\\files\\eegmmidb\\1.0.0\\S047\\S047R10.edf...\n",
      "EDF file detected\n",
      "Setting channel info structure...\n",
      "Creating raw.info structure...\n",
      "Reading 0 ... 19679  =      0.000 ...   122.994 secs...\n",
      "Successfully processed subject 47.\n",
      "Downloading EEGBCI data\n"
     ]
    },
    {
     "name": "stderr",
     "output_type": "stream",
     "text": [
      "Downloading file 'S048/S048R06.edf' from 'https://physionet.org/files/eegmmidb/1.0.0/S048/S048R06.edf' to 'C:\\Users\\Hannah\\mne_data\\MNE-eegbci-data\\files\\eegmmidb\\1.0.0'.\n",
      "Downloading file 'S048/S048R10.edf' from 'https://physionet.org/files/eegmmidb/1.0.0/S048/S048R10.edf' to 'C:\\Users\\Hannah\\mne_data\\MNE-eegbci-data\\files\\eegmmidb\\1.0.0'.\n"
     ]
    },
    {
     "name": "stdout",
     "output_type": "stream",
     "text": [
      "Download complete in 07s (4.9 MB)\n",
      "Extracting EDF parameters from C:\\Users\\Hannah\\mne_data\\MNE-eegbci-data\\files\\eegmmidb\\1.0.0\\S048\\S048R06.edf...\n",
      "EDF file detected\n",
      "Setting channel info structure...\n",
      "Creating raw.info structure...\n",
      "Reading 0 ... 19679  =      0.000 ...   122.994 secs...\n",
      "Extracting EDF parameters from C:\\Users\\Hannah\\mne_data\\MNE-eegbci-data\\files\\eegmmidb\\1.0.0\\S048\\S048R10.edf...\n",
      "EDF file detected\n",
      "Setting channel info structure...\n",
      "Creating raw.info structure...\n",
      "Reading 0 ... 19679  =      0.000 ...   122.994 secs...\n",
      "Successfully processed subject 48.\n",
      "Downloading EEGBCI data\n"
     ]
    },
    {
     "name": "stderr",
     "output_type": "stream",
     "text": [
      "Downloading file 'S049/S049R06.edf' from 'https://physionet.org/files/eegmmidb/1.0.0/S049/S049R06.edf' to 'C:\\Users\\Hannah\\mne_data\\MNE-eegbci-data\\files\\eegmmidb\\1.0.0'.\n",
      "Downloading file 'S049/S049R10.edf' from 'https://physionet.org/files/eegmmidb/1.0.0/S049/S049R10.edf' to 'C:\\Users\\Hannah\\mne_data\\MNE-eegbci-data\\files\\eegmmidb\\1.0.0'.\n"
     ]
    },
    {
     "name": "stdout",
     "output_type": "stream",
     "text": [
      "Download complete in 07s (4.9 MB)\n",
      "Extracting EDF parameters from C:\\Users\\Hannah\\mne_data\\MNE-eegbci-data\\files\\eegmmidb\\1.0.0\\S049\\S049R06.edf...\n",
      "EDF file detected\n",
      "Setting channel info structure...\n",
      "Creating raw.info structure...\n",
      "Reading 0 ... 19679  =      0.000 ...   122.994 secs...\n",
      "Extracting EDF parameters from C:\\Users\\Hannah\\mne_data\\MNE-eegbci-data\\files\\eegmmidb\\1.0.0\\S049\\S049R10.edf...\n",
      "EDF file detected\n",
      "Setting channel info structure...\n",
      "Creating raw.info structure...\n",
      "Reading 0 ... 19679  =      0.000 ...   122.994 secs...\n",
      "Successfully processed subject 49.\n",
      "Downloading EEGBCI data\n"
     ]
    },
    {
     "name": "stderr",
     "output_type": "stream",
     "text": [
      "Downloading file 'S050/S050R06.edf' from 'https://physionet.org/files/eegmmidb/1.0.0/S050/S050R06.edf' to 'C:\\Users\\Hannah\\mne_data\\MNE-eegbci-data\\files\\eegmmidb\\1.0.0'.\n",
      "Downloading file 'S050/S050R10.edf' from 'https://physionet.org/files/eegmmidb/1.0.0/S050/S050R10.edf' to 'C:\\Users\\Hannah\\mne_data\\MNE-eegbci-data\\files\\eegmmidb\\1.0.0'.\n"
     ]
    },
    {
     "name": "stdout",
     "output_type": "stream",
     "text": [
      "Download complete in 07s (4.9 MB)\n",
      "Extracting EDF parameters from C:\\Users\\Hannah\\mne_data\\MNE-eegbci-data\\files\\eegmmidb\\1.0.0\\S050\\S050R06.edf...\n",
      "EDF file detected\n",
      "Setting channel info structure...\n",
      "Creating raw.info structure...\n",
      "Reading 0 ... 19679  =      0.000 ...   122.994 secs...\n",
      "Extracting EDF parameters from C:\\Users\\Hannah\\mne_data\\MNE-eegbci-data\\files\\eegmmidb\\1.0.0\\S050\\S050R10.edf...\n",
      "EDF file detected\n",
      "Setting channel info structure...\n",
      "Creating raw.info structure...\n",
      "Reading 0 ... 19679  =      0.000 ...   122.994 secs...\n",
      "Successfully processed subject 50.\n"
     ]
    }
   ],
   "source": [
    "print(__doc__)\n",
    "models_dir = '../models/trained/'\n",
    "\n",
    "tmin, tmax = -1.0, 4.0\n",
    "subjects = range(1, 51)  # Training on the first 50 subjects\n",
    "runs = [6, 10]  # Motor imagery: hands vs feet\n",
    "raws = []\n",
    "\n",
    "for subject in subjects:\n",
    "    try:\n",
    "        # Attempt to load the data for the current subject\n",
    "        raw_fnames = eegbci.load_data(subject, runs)\n",
    "        # For each subject, load their raw data and append to the 'raws' list\n",
    "        raws.extend([read_raw_edf(f, preload=True) for f in raw_fnames])\n",
    "        print(f\"Successfully processed subject {subject}.\")\n",
    "    except Exception as e:\n",
    "        # If an error occurs, skip to the next subject\n",
    "        print(f\"Error processing subject {subject}: {e}. Skipping to next subject.\")\n",
    "        continue\n",
    "\n",
    "# Concatenate all Raw objects into a single Raw object\n",
    "raw = concatenate_raws(raws)"
   ]
  },
  {
   "cell_type": "markdown",
   "metadata": {},
   "source": [
    "### Creating Epochs"
   ]
  },
  {
   "cell_type": "code",
   "execution_count": 14,
   "metadata": {},
   "outputs": [
    {
     "name": "stdout",
     "output_type": "stream",
     "text": [
      "Automatically created module for IPython interactive environment\n",
      "Filtering raw data in 100 contiguous segments\n",
      "Setting up band-pass filter from 7 - 30 Hz\n",
      "\n",
      "FIR filter parameters\n",
      "---------------------\n",
      "Designing a one-pass, zero-phase, non-causal bandpass filter:\n",
      "- Windowed time-domain design (firwin) method\n",
      "- Hamming window with 0.0194 passband ripple and 53 dB stopband attenuation\n",
      "- Lower passband edge: 7.00\n",
      "- Lower transition bandwidth: 2.00 Hz (-6 dB cutoff frequency: 6.00 Hz)\n",
      "- Upper passband edge: 30.00 Hz\n",
      "- Upper transition bandwidth: 7.50 Hz (-6 dB cutoff frequency: 33.75 Hz)\n",
      "- Filter length: 265 samples (1.656 s)\n",
      "\n"
     ]
    },
    {
     "name": "stderr",
     "output_type": "stream",
     "text": [
      "[Parallel(n_jobs=1)]: Done  17 tasks      | elapsed:    0.0s\n"
     ]
    },
    {
     "name": "stdout",
     "output_type": "stream",
     "text": [
      "Used Annotations descriptions: ['T1', 'T2']\n",
      "Not setting metadata\n",
      "1500 matching events found\n",
      "No baseline correction applied\n",
      "0 projection items activated\n",
      "Using data from preloaded Raw for 1500 events and 801 original time points ...\n",
      "5 bad epochs dropped\n"
     ]
    }
   ],
   "source": [
    "print(__doc__)\n",
    "\n",
    "eegbci.standardize(raw)  # set channel names\n",
    "montage = make_standard_montage(\"standard_1005\")\n",
    "raw.set_montage(montage)\n",
    "#raw.annotations.rename(dict(T1=\"hands\", T2=\"feet\"))\n",
    "\n",
    "\n",
    "# Apply band-pass filter\n",
    "raw.filter(7.0, 30.0, fir_design=\"firwin\", skip_by_annotation=\"edge\")\n",
    "\n",
    "picks = pick_types(raw.info, meg=False, eeg=True, stim=False, eog=False, exclude=\"bads\")\n",
    "\n",
    "# Read epochs to train between -1 and 4 seconds\n",
    "\n",
    "events, _ = events_from_annotations(raw, event_id=dict(T1=2, T2=3))\n",
    "event_id = dict(hands=2, feet=3)\n",
    "\n",
    "epochs = Epochs(\n",
    "    raw,\n",
    "    events = events, \n",
    "    event_id= event_id,\n",
    "    tmin=tmin,\n",
    "    tmax=tmax,\n",
    "    proj=True,\n",
    "    picks=picks,\n",
    "    baseline=None,\n",
    "    preload=True,\n",
    ")\n",
    "epochs_train = epochs.copy().crop(tmin=1.0, tmax=2.0)\n",
    "labels = epochs.events[:, -1] - 2\n",
    "\n",
    "epochs_data = epochs.get_data(copy=False)\n",
    "#epochs_data_train = epochs_train.get_data(copy=False)"
   ]
  },
  {
   "cell_type": "code",
   "execution_count": 15,
   "metadata": {},
   "outputs": [
    {
     "name": "stderr",
     "output_type": "stream",
     "text": [
      "C:\\Users\\Hannah\\AppData\\Local\\Temp\\ipykernel_8044\\3777005902.py:1: FutureWarning: The current default of copy=False will change to copy=True in 1.7. Set the value of copy explicitly to avoid this warning\n",
      "  eeg_data = epochs.get_data()  # Shape: (n_epochs, n_channels, n_times)\n"
     ]
    },
    {
     "name": "stdout",
     "output_type": "stream",
     "text": [
      "(1495, 64, 801)\n"
     ]
    }
   ],
   "source": [
    "\n",
    "eeg_data = epochs.get_data()  # Shape: (n_epochs, n_channels, n_times)\n",
    "print(eeg_data.shape)\n",
    "\n",
    "# Flatten the data for scaling, then scale, and reshape back\n",
    "scaler = RobustScaler()\n",
    "eeg_data_flattened = eeg_data.reshape(eeg_data.shape[0], -1)  # Flatten\n",
    "eeg_data_scaled = scaler.fit_transform(eeg_data_flattened)\n",
    "eeg_data_scaled = eeg_data_scaled.reshape(eeg_data.shape)  # Reshape back"
   ]
  },
  {
   "cell_type": "markdown",
   "metadata": {},
   "source": [
    "### Splitting into Training and Testing"
   ]
  },
  {
   "cell_type": "code",
   "execution_count": 16,
   "metadata": {},
   "outputs": [],
   "source": [
    "\n",
    "# Split the data and labels into training and testing sets\n",
    "train_X, test_X, train_y, test_y = train_test_split(\n",
    "    eeg_data_scaled,  # Scaled EEG data\n",
    "    labels, \n",
    "    test_size=0.2,  # 20% of the data for testing\n",
    "    random_state=42 \n",
    ")\n",
    "# Encode the training and testing labels\n",
    "le = LabelEncoder()\n",
    "encoded_train_y = le.fit_transform(train_y)\n",
    "encoded_test_y = le.transform(test_y)\n",
    "\n",
    "# One-hot encode the encoded labels\n",
    "train_y = pd.get_dummies(encoded_train_y)\n",
    "test_y = pd.get_dummies(encoded_test_y)"
   ]
  },
  {
   "cell_type": "code",
   "execution_count": 17,
   "metadata": {},
   "outputs": [
    {
     "data": {
      "text/plain": [
       "((1196, 64, 801), (299, 64, 801), (1196, 2), (299, 2))"
      ]
     },
     "execution_count": 17,
     "metadata": {},
     "output_type": "execute_result"
    }
   ],
   "source": [
    "train_X.shape, test_X.shape, train_y.shape, test_y.shape"
   ]
  },
  {
   "cell_type": "code",
   "execution_count": 18,
   "metadata": {},
   "outputs": [
    {
     "name": "stdout",
     "output_type": "stream",
     "text": [
      "False\n"
     ]
    }
   ],
   "source": [
    "cuda = torch.cuda.is_available()\n",
    "print(cuda)\n",
    "device = \"cuda\" if cuda else \"cpu\""
   ]
  },
  {
   "cell_type": "code",
   "execution_count": 19,
   "metadata": {},
   "outputs": [],
   "source": [
    "cuda_version = torch.version.cuda\n",
    "cuda_version"
   ]
  },
  {
   "cell_type": "markdown",
   "metadata": {},
   "source": [
    "### EEG Conformer"
   ]
  },
  {
   "cell_type": "code",
   "execution_count": 20,
   "metadata": {},
   "outputs": [
    {
     "name": "stdout",
     "output_type": "stream",
     "text": [
      "================================================================================================================================================================\n",
      "Layer (type (var_name):depth-idx)                            Input Shape               Output Shape              Param #                   Kernel Shape\n",
      "================================================================================================================================================================\n",
      "EEGConformer (EEGConformer)                                  [1, 64, 801]              [1, 2]                    --                        --\n",
      "├─_PatchEmbedding (patch_embedding): 1-1                     [1, 1, 64, 801]           [1, 47, 40]               --                        --\n",
      "│    └─Sequential (shallownet): 2-1                          [1, 1, 64, 801]           [1, 40, 1, 47]            --                        --\n",
      "│    │    └─Conv2d (0): 3-1                                  [1, 1, 64, 801]           [1, 40, 64, 777]          1,040                     [1, 25]\n",
      "│    │    └─Conv2d (1): 3-2                                  [1, 40, 64, 777]          [1, 40, 1, 777]           102,440                   [64, 1]\n",
      "│    │    └─BatchNorm2d (2): 3-3                             [1, 40, 1, 777]           [1, 40, 1, 777]           80                        --\n",
      "│    │    └─ELU (3): 3-4                                     [1, 40, 1, 777]           [1, 40, 1, 777]           --                        --\n",
      "│    │    └─AvgPool2d (4): 3-5                               [1, 40, 1, 777]           [1, 40, 1, 47]            --                        [1, 75]\n",
      "│    │    └─Dropout (5): 3-6                                 [1, 40, 1, 47]            [1, 40, 1, 47]            --                        --\n",
      "│    └─Sequential (projection): 2-2                          [1, 40, 1, 47]            [1, 47, 40]               --                        --\n",
      "│    │    └─Conv2d (0): 3-7                                  [1, 40, 1, 47]            [1, 40, 1, 47]            1,640                     [1, 1]\n",
      "│    │    └─Rearrange (1): 3-8                               [1, 40, 1, 47]            [1, 47, 40]               --                        --\n",
      "├─_TransformerEncoder (transformer): 1-2                     [1, 47, 40]               [1, 47, 40]               --                        --\n",
      "│    └─_TransformerEncoderBlock (0): 2-3                     [1, 47, 40]               [1, 47, 40]               --                        --\n",
      "│    │    └─_ResidualAdd (0): 3-9                            [1, 47, 40]               [1, 47, 40]               6,640                     --\n",
      "│    │    └─_ResidualAdd (1): 3-10                           [1, 47, 40]               [1, 47, 40]               13,080                    --\n",
      "│    └─_TransformerEncoderBlock (1): 2-4                     [1, 47, 40]               [1, 47, 40]               --                        --\n",
      "│    │    └─_ResidualAdd (0): 3-11                           [1, 47, 40]               [1, 47, 40]               6,640                     --\n",
      "│    │    └─_ResidualAdd (1): 3-12                           [1, 47, 40]               [1, 47, 40]               13,080                    --\n",
      "│    └─_TransformerEncoderBlock (2): 2-5                     [1, 47, 40]               [1, 47, 40]               --                        --\n",
      "│    │    └─_ResidualAdd (0): 3-13                           [1, 47, 40]               [1, 47, 40]               6,640                     --\n",
      "│    │    └─_ResidualAdd (1): 3-14                           [1, 47, 40]               [1, 47, 40]               13,080                    --\n",
      "├─_FullyConnected (fc): 1-3                                  [1, 47, 40]               [1, 32]                   --                        --\n",
      "│    └─Sequential (fc): 2-6                                  [1, 1880]                 [1, 32]                   --                        --\n",
      "│    │    └─Linear (0): 3-15                                 [1, 1880]                 [1, 256]                  481,536                   --\n",
      "│    │    └─ELU (1): 3-16                                    [1, 256]                  [1, 256]                  --                        --\n",
      "│    │    └─Dropout (2): 3-17                                [1, 256]                  [1, 256]                  --                        --\n",
      "│    │    └─Linear (3): 3-18                                 [1, 256]                  [1, 32]                   8,224                     --\n",
      "│    │    └─ELU (4): 3-19                                    [1, 32]                   [1, 32]                   --                        --\n",
      "│    │    └─Dropout (5): 3-20                                [1, 32]                   [1, 32]                   --                        --\n",
      "├─_FinalLayer (final_layer): 1-4                             [1, 32]                   [1, 2]                    --                        --\n",
      "│    └─Sequential (final_layer): 2-7                         [1, 32]                   [1, 2]                    --                        --\n",
      "│    │    └─Linear (0): 3-21                                 [1, 32]                   [1, 2]                    66                        --\n",
      "│    │    └─LogSoftmax (classification): 3-22                [1, 2]                    [1, 2]                    --                        --\n",
      "================================================================================================================================================================\n",
      "Total params: 654,186\n",
      "Trainable params: 654,186\n",
      "Non-trainable params: 0\n",
      "Total mult-adds (M): 131.94\n",
      "================================================================================================================================================================\n",
      "Input size (MB): 0.21\n",
      "Forward/backward pass size (MB): 16.92\n",
      "Params size (MB): 2.62\n",
      "Estimated Total Size (MB): 19.75\n",
      "================================================================================================================================================================\n"
     ]
    },
    {
     "name": "stderr",
     "output_type": "stream",
     "text": [
      "c:\\Users\\Hannah\\OneDrive\\Documents\\GitHub\\eeg\\notebooks\\../models\\base.py:180: UserWarning: LogSoftmax final layer will be removed! Please adjust your loss function accordingly (e.g. CrossEntropyLoss)!\n",
      "  warnings.warn(\"LogSoftmax final layer will be removed! \" +\n"
     ]
    }
   ],
   "source": [
    "seed = 202403\n",
    "\n",
    "model = EEGConformer(\n",
    "    n_outputs=2,\n",
    "    n_chans=64,\n",
    "    sfreq=160,\n",
    "    n_times = epochs_data.shape[2],\n",
    "    n_filters_time=40, \n",
    "    filter_time_length=25,\n",
    "    pool_time_length=75,\n",
    "    pool_time_stride=15,\n",
    "    drop_prob=0.7,\n",
    "    att_depth=3,\n",
    "    att_heads=10,\n",
    "    att_drop_prob=0.7,\n",
    "    final_fc_length='auto', # could be 'auto' or int\n",
    "    return_features=False, # returns the features before the last classification layer if True\n",
    "    chs_info=None,\n",
    "    input_window_seconds=None,\n",
    "    add_log_softmax=True,\n",
    ")\n",
    "\n",
    "print(model)"
   ]
  },
  {
   "cell_type": "code",
   "execution_count": 21,
   "metadata": {},
   "outputs": [],
   "source": [
    "if cuda:\n",
    "    model.cuda()"
   ]
  },
  {
   "cell_type": "code",
   "execution_count": 22,
   "metadata": {},
   "outputs": [],
   "source": [
    "batch_size = 64\n",
    "\n",
    "# Convert pandas dataframe to numpy, then find argmax if one-hot encoded\n",
    "if len(train_y.shape) > 1:  # Check if train_y is one-hot encoded\n",
    "    train_y_indices = np.argmax(train_y.values, axis=1)\n",
    "else:\n",
    "    train_y_indices = train_y.values  \n",
    "\n",
    "if len(test_y.shape) > 1:  # Check if test_y is one-hot encoded\n",
    "    test_y_indices = np.argmax(test_y.values, axis=1)\n",
    "else:\n",
    "    test_y_indices = test_y.values  \n",
    "\n",
    "# Convert features and labels to tensors\n",
    "x_train_tensor = torch.from_numpy(train_X).to(torch.float32).to(device)\n",
    "y_train_tensor = torch.tensor(train_y_indices).to(torch.long).to(device)  # Use torch.long for class indices\n",
    "\n",
    "x_test_tensor = torch.from_numpy(test_X).to(torch.float32).to(device)\n",
    "y_test_tensor = torch.tensor(test_y_indices).to(torch.long).to(device)  # Use torch.long for class indices\n",
    "\n",
    "# Create datasets and loaders\n",
    "train_dataset = TensorDataset(x_train_tensor, y_train_tensor)\n",
    "train_loader = DataLoader(train_dataset, batch_size=batch_size, shuffle=True)\n",
    "\n",
    "test_dataset = TensorDataset(x_test_tensor, y_test_tensor)\n",
    "test_loader = DataLoader(test_dataset, batch_size=batch_size, shuffle=False)\n",
    "\n",
    "# Criterion and optimizer\n",
    "criterion = nn.CrossEntropyLoss()\n",
    "optimizer = optim.Adam(model.parameters(), lr=0.0002, betas=(0.9, 0.999))\n"
   ]
  },
  {
   "cell_type": "markdown",
   "metadata": {},
   "source": [
    "### Training"
   ]
  },
  {
   "cell_type": "code",
   "execution_count": 23,
   "metadata": {},
   "outputs": [],
   "source": [
    "def train(model, x_train, y_train, x_test, y_test, save_path='../models/', n_epochs=100, patience=100):\n",
    "    \"\"\"\n",
    "    the training function with early stopping.\n",
    "    Attributes:\n",
    "    - model: the instance of the network\n",
    "    - save_path: the path to which the model state will be saved. None means w/o saving.\n",
    "    - n_epochs: number of epochs to train the model for.\n",
    "    - patience: number of epochs to wait without improvement before stopping.\n",
    "    \"\"\"\n",
    "    train_acc_list = []\n",
    "    train_loss_list = []\n",
    "    test_acc_list = []\n",
    "    test_loss_list = []\n",
    "\n",
    "    best_accuracy = 0.0\n",
    "    epochs_no_improve = 0  \n",
    "    best_model_wts = None  \n",
    "\n",
    "    for epoch in range(n_epochs):\n",
    "        # Training phase\n",
    "        model.train()  # Set model to training mode\n",
    "        training_loss = 0.0\n",
    "        total = 0\n",
    "        correct = 0\n",
    "        \n",
    "        for inputs, labels in tqdm(train_loader):\n",
    "            inputs, labels = inputs.to(device), labels.to(device)\n",
    "            optimizer.zero_grad()  # Zero the parameter gradients\n",
    "            \n",
    "            outputs = model(inputs)\n",
    "            loss = criterion(outputs, labels)\n",
    "            loss.backward()\n",
    "            optimizer.step()\n",
    "            \n",
    "            training_loss += loss.item()\n",
    "            _, predicted = torch.max(outputs.data, 1)\n",
    "            total += labels.size(0)\n",
    "            correct += (predicted == labels).sum().item()\n",
    "        \n",
    "        train_loss = training_loss / len(train_loader)\n",
    "        train_accuracy = correct / total\n",
    "        train_acc_list.append(train_accuracy)\n",
    "        train_loss_list.append(train_loss)\n",
    "        \n",
    "        # Evaluation phase\n",
    "        model.eval()  # Set model to evaluation mode\n",
    "        testing_loss = 0.0\n",
    "        total = 0\n",
    "        correct = 0\n",
    "        \n",
    "        with torch.no_grad():\n",
    "            for inputs, labels in test_loader:\n",
    "                inputs, labels = inputs.to(device), labels.to(device)\n",
    "                outputs = model(inputs)\n",
    "                loss = criterion(outputs, labels)\n",
    "                testing_loss += loss.item()\n",
    "\n",
    "                _, predicted = torch.max(outputs.data, 1)\n",
    "                total += labels.size(0)\n",
    "                correct += (predicted == labels).sum().item()\n",
    "        \n",
    "            test_loss = testing_loss / len(test_loader)\n",
    "            test_accuracy = correct / total\n",
    "            test_acc_list.append(test_accuracy)\n",
    "            test_loss_list.append(test_loss)\n",
    "        \n",
    "        print(f\"Epoch {epoch+1}/{n_epochs} - Train Loss: {train_loss:.4f}, Train Accuracy: {train_accuracy:.4f}, Test Loss: {test_loss:.4f}, Test Accuracy: {test_accuracy:.4f}\")\n",
    "        \n",
    "        # Early Stopping Check\n",
    "        if test_accuracy > best_accuracy:\n",
    "            best_accuracy = test_accuracy\n",
    "            best_model_wts = model.state_dict()  # Save the best model weights\n",
    "            epochs_no_improve = 0  # Reset counter\n",
    "        else:\n",
    "            epochs_no_improve += 1  # Increment counter if no improvement\n",
    "            if epochs_no_improve >= patience:\n",
    "                print(f\"Early stopping triggered after {epoch+1} epochs.\")\n",
    "                break  # Exit the loop\n",
    "    \n",
    "    if save_path is not None and best_model_wts is not None:\n",
    "        # Ensure the directory exists\n",
    "        os.makedirs(save_path, exist_ok=True)\n",
    "        # Save the best model\n",
    "        torch.save(best_model_wts, os.path.join(save_path, 'cross_subject_conformer.pth'))\n",
    "        print(\"Best model saved with accuracy: {:.4f}\".format(best_accuracy))\n",
    "        # Reload the best model weights\n",
    "        model.load_state_dict(best_model_wts)\n",
    "    \n",
    "    return model, train_acc_list, train_loss_list, test_acc_list, test_loss_list\n"
   ]
  },
  {
   "cell_type": "code",
   "execution_count": 24,
   "metadata": {},
   "outputs": [
    {
     "name": "stderr",
     "output_type": "stream",
     "text": [
      "100%|██████████| 19/19 [00:12<00:00,  1.57it/s]\n"
     ]
    },
    {
     "name": "stdout",
     "output_type": "stream",
     "text": [
      "Epoch 1/300 - Train Loss: 0.7074, Train Accuracy: 0.5050, Test Loss: 0.6973, Test Accuracy: 0.4381\n"
     ]
    },
    {
     "name": "stderr",
     "output_type": "stream",
     "text": [
      "100%|██████████| 19/19 [00:11<00:00,  1.64it/s]\n"
     ]
    },
    {
     "name": "stdout",
     "output_type": "stream",
     "text": [
      "Epoch 2/300 - Train Loss: 0.7143, Train Accuracy: 0.5008, Test Loss: 0.6978, Test Accuracy: 0.4415\n"
     ]
    },
    {
     "name": "stderr",
     "output_type": "stream",
     "text": [
      "100%|██████████| 19/19 [00:12<00:00,  1.58it/s]\n"
     ]
    },
    {
     "name": "stdout",
     "output_type": "stream",
     "text": [
      "Epoch 3/300 - Train Loss: 0.7116, Train Accuracy: 0.4950, Test Loss: 0.6997, Test Accuracy: 0.4381\n"
     ]
    },
    {
     "name": "stderr",
     "output_type": "stream",
     "text": [
      "100%|██████████| 19/19 [00:12<00:00,  1.58it/s]\n"
     ]
    },
    {
     "name": "stdout",
     "output_type": "stream",
     "text": [
      "Epoch 4/300 - Train Loss: 0.6911, Train Accuracy: 0.5610, Test Loss: 0.6996, Test Accuracy: 0.4716\n"
     ]
    },
    {
     "name": "stderr",
     "output_type": "stream",
     "text": [
      "100%|██████████| 19/19 [00:11<00:00,  1.59it/s]\n"
     ]
    },
    {
     "name": "stdout",
     "output_type": "stream",
     "text": [
      "Epoch 5/300 - Train Loss: 0.7110, Train Accuracy: 0.5059, Test Loss: 0.6988, Test Accuracy: 0.5418\n"
     ]
    },
    {
     "name": "stderr",
     "output_type": "stream",
     "text": [
      "100%|██████████| 19/19 [00:12<00:00,  1.58it/s]\n"
     ]
    },
    {
     "name": "stdout",
     "output_type": "stream",
     "text": [
      "Epoch 6/300 - Train Loss: 0.7037, Train Accuracy: 0.5301, Test Loss: 0.6974, Test Accuracy: 0.5151\n"
     ]
    },
    {
     "name": "stderr",
     "output_type": "stream",
     "text": [
      "100%|██████████| 19/19 [00:11<00:00,  1.63it/s]\n"
     ]
    },
    {
     "name": "stdout",
     "output_type": "stream",
     "text": [
      "Epoch 7/300 - Train Loss: 0.7035, Train Accuracy: 0.5084, Test Loss: 0.6976, Test Accuracy: 0.5050\n"
     ]
    },
    {
     "name": "stderr",
     "output_type": "stream",
     "text": [
      "100%|██████████| 19/19 [00:12<00:00,  1.51it/s]\n"
     ]
    },
    {
     "name": "stdout",
     "output_type": "stream",
     "text": [
      "Epoch 8/300 - Train Loss: 0.7054, Train Accuracy: 0.5159, Test Loss: 0.6984, Test Accuracy: 0.4916\n"
     ]
    },
    {
     "name": "stderr",
     "output_type": "stream",
     "text": [
      "100%|██████████| 19/19 [00:11<00:00,  1.61it/s]\n"
     ]
    },
    {
     "name": "stdout",
     "output_type": "stream",
     "text": [
      "Epoch 9/300 - Train Loss: 0.6994, Train Accuracy: 0.5109, Test Loss: 0.6995, Test Accuracy: 0.5418\n"
     ]
    },
    {
     "name": "stderr",
     "output_type": "stream",
     "text": [
      "100%|██████████| 19/19 [00:11<00:00,  1.64it/s]\n"
     ]
    },
    {
     "name": "stdout",
     "output_type": "stream",
     "text": [
      "Epoch 10/300 - Train Loss: 0.6963, Train Accuracy: 0.5493, Test Loss: 0.6935, Test Accuracy: 0.5452\n"
     ]
    },
    {
     "name": "stderr",
     "output_type": "stream",
     "text": [
      "100%|██████████| 19/19 [00:11<00:00,  1.63it/s]\n"
     ]
    },
    {
     "name": "stdout",
     "output_type": "stream",
     "text": [
      "Epoch 11/300 - Train Loss: 0.6936, Train Accuracy: 0.5401, Test Loss: 0.6994, Test Accuracy: 0.5351\n"
     ]
    },
    {
     "name": "stderr",
     "output_type": "stream",
     "text": [
      "100%|██████████| 19/19 [00:11<00:00,  1.63it/s]\n"
     ]
    },
    {
     "name": "stdout",
     "output_type": "stream",
     "text": [
      "Epoch 12/300 - Train Loss: 0.6767, Train Accuracy: 0.5702, Test Loss: 0.7350, Test Accuracy: 0.5284\n"
     ]
    },
    {
     "name": "stderr",
     "output_type": "stream",
     "text": [
      "100%|██████████| 19/19 [00:11<00:00,  1.63it/s]\n"
     ]
    },
    {
     "name": "stdout",
     "output_type": "stream",
     "text": [
      "Epoch 13/300 - Train Loss: 0.6655, Train Accuracy: 0.5753, Test Loss: 0.7293, Test Accuracy: 0.5886\n"
     ]
    },
    {
     "name": "stderr",
     "output_type": "stream",
     "text": [
      "100%|██████████| 19/19 [00:11<00:00,  1.62it/s]\n"
     ]
    },
    {
     "name": "stdout",
     "output_type": "stream",
     "text": [
      "Epoch 14/300 - Train Loss: 0.6596, Train Accuracy: 0.5911, Test Loss: 0.7716, Test Accuracy: 0.5686\n"
     ]
    },
    {
     "name": "stderr",
     "output_type": "stream",
     "text": [
      "100%|██████████| 19/19 [00:11<00:00,  1.63it/s]\n"
     ]
    },
    {
     "name": "stdout",
     "output_type": "stream",
     "text": [
      "Epoch 15/300 - Train Loss: 0.6443, Train Accuracy: 0.6396, Test Loss: 0.8577, Test Accuracy: 0.5886\n"
     ]
    },
    {
     "name": "stderr",
     "output_type": "stream",
     "text": [
      "100%|██████████| 19/19 [00:12<00:00,  1.51it/s]\n"
     ]
    },
    {
     "name": "stdout",
     "output_type": "stream",
     "text": [
      "Epoch 16/300 - Train Loss: 0.6417, Train Accuracy: 0.6137, Test Loss: 0.8279, Test Accuracy: 0.5686\n"
     ]
    },
    {
     "name": "stderr",
     "output_type": "stream",
     "text": [
      "100%|██████████| 19/19 [00:11<00:00,  1.64it/s]\n"
     ]
    },
    {
     "name": "stdout",
     "output_type": "stream",
     "text": [
      "Epoch 17/300 - Train Loss: 0.6127, Train Accuracy: 0.6589, Test Loss: 1.0497, Test Accuracy: 0.5619\n"
     ]
    },
    {
     "name": "stderr",
     "output_type": "stream",
     "text": [
      "100%|██████████| 19/19 [00:11<00:00,  1.67it/s]\n"
     ]
    },
    {
     "name": "stdout",
     "output_type": "stream",
     "text": [
      "Epoch 18/300 - Train Loss: 0.6250, Train Accuracy: 0.6564, Test Loss: 1.0969, Test Accuracy: 0.5418\n"
     ]
    },
    {
     "name": "stderr",
     "output_type": "stream",
     "text": [
      "100%|██████████| 19/19 [00:11<00:00,  1.65it/s]\n"
     ]
    },
    {
     "name": "stdout",
     "output_type": "stream",
     "text": [
      "Epoch 19/300 - Train Loss: 0.6097, Train Accuracy: 0.6722, Test Loss: 0.8713, Test Accuracy: 0.6054\n"
     ]
    },
    {
     "name": "stderr",
     "output_type": "stream",
     "text": [
      "100%|██████████| 19/19 [00:11<00:00,  1.67it/s]\n"
     ]
    },
    {
     "name": "stdout",
     "output_type": "stream",
     "text": [
      "Epoch 20/300 - Train Loss: 0.6121, Train Accuracy: 0.6630, Test Loss: 0.8828, Test Accuracy: 0.5920\n"
     ]
    },
    {
     "name": "stderr",
     "output_type": "stream",
     "text": [
      "100%|██████████| 19/19 [00:11<00:00,  1.64it/s]\n"
     ]
    },
    {
     "name": "stdout",
     "output_type": "stream",
     "text": [
      "Epoch 21/300 - Train Loss: 0.5908, Train Accuracy: 0.6831, Test Loss: 1.0029, Test Accuracy: 0.6120\n"
     ]
    },
    {
     "name": "stderr",
     "output_type": "stream",
     "text": [
      "100%|██████████| 19/19 [00:11<00:00,  1.68it/s]\n"
     ]
    },
    {
     "name": "stdout",
     "output_type": "stream",
     "text": [
      "Epoch 22/300 - Train Loss: 0.5833, Train Accuracy: 0.6622, Test Loss: 0.9871, Test Accuracy: 0.5953\n"
     ]
    },
    {
     "name": "stderr",
     "output_type": "stream",
     "text": [
      "100%|██████████| 19/19 [00:11<00:00,  1.67it/s]\n"
     ]
    },
    {
     "name": "stdout",
     "output_type": "stream",
     "text": [
      "Epoch 23/300 - Train Loss: 0.5880, Train Accuracy: 0.6848, Test Loss: 1.1748, Test Accuracy: 0.5953\n"
     ]
    },
    {
     "name": "stderr",
     "output_type": "stream",
     "text": [
      "100%|██████████| 19/19 [00:11<00:00,  1.66it/s]\n"
     ]
    },
    {
     "name": "stdout",
     "output_type": "stream",
     "text": [
      "Epoch 24/300 - Train Loss: 0.5825, Train Accuracy: 0.6823, Test Loss: 0.9152, Test Accuracy: 0.6120\n"
     ]
    },
    {
     "name": "stderr",
     "output_type": "stream",
     "text": [
      "100%|██████████| 19/19 [00:11<00:00,  1.68it/s]\n"
     ]
    },
    {
     "name": "stdout",
     "output_type": "stream",
     "text": [
      "Epoch 25/300 - Train Loss: 0.5613, Train Accuracy: 0.7074, Test Loss: 0.8997, Test Accuracy: 0.6288\n"
     ]
    },
    {
     "name": "stderr",
     "output_type": "stream",
     "text": [
      "100%|██████████| 19/19 [00:11<00:00,  1.67it/s]\n"
     ]
    },
    {
     "name": "stdout",
     "output_type": "stream",
     "text": [
      "Epoch 26/300 - Train Loss: 0.5361, Train Accuracy: 0.7191, Test Loss: 1.0640, Test Accuracy: 0.6054\n"
     ]
    },
    {
     "name": "stderr",
     "output_type": "stream",
     "text": [
      "100%|██████████| 19/19 [00:11<00:00,  1.68it/s]\n"
     ]
    },
    {
     "name": "stdout",
     "output_type": "stream",
     "text": [
      "Epoch 27/300 - Train Loss: 0.5235, Train Accuracy: 0.7324, Test Loss: 1.0907, Test Accuracy: 0.6288\n"
     ]
    },
    {
     "name": "stderr",
     "output_type": "stream",
     "text": [
      "100%|██████████| 19/19 [00:11<00:00,  1.66it/s]\n"
     ]
    },
    {
     "name": "stdout",
     "output_type": "stream",
     "text": [
      "Epoch 28/300 - Train Loss: 0.5193, Train Accuracy: 0.7299, Test Loss: 1.3214, Test Accuracy: 0.5719\n"
     ]
    },
    {
     "name": "stderr",
     "output_type": "stream",
     "text": [
      "100%|██████████| 19/19 [00:11<00:00,  1.66it/s]\n"
     ]
    },
    {
     "name": "stdout",
     "output_type": "stream",
     "text": [
      "Epoch 29/300 - Train Loss: 0.5225, Train Accuracy: 0.7316, Test Loss: 1.2120, Test Accuracy: 0.6020\n"
     ]
    },
    {
     "name": "stderr",
     "output_type": "stream",
     "text": [
      "100%|██████████| 19/19 [00:11<00:00,  1.67it/s]\n"
     ]
    },
    {
     "name": "stdout",
     "output_type": "stream",
     "text": [
      "Epoch 30/300 - Train Loss: 0.5173, Train Accuracy: 0.7391, Test Loss: 1.1241, Test Accuracy: 0.6120\n"
     ]
    },
    {
     "name": "stderr",
     "output_type": "stream",
     "text": [
      "100%|██████████| 19/19 [00:11<00:00,  1.66it/s]\n"
     ]
    },
    {
     "name": "stdout",
     "output_type": "stream",
     "text": [
      "Epoch 31/300 - Train Loss: 0.5136, Train Accuracy: 0.7433, Test Loss: 1.8308, Test Accuracy: 0.5652\n"
     ]
    },
    {
     "name": "stderr",
     "output_type": "stream",
     "text": [
      "100%|██████████| 19/19 [00:11<00:00,  1.67it/s]\n"
     ]
    },
    {
     "name": "stdout",
     "output_type": "stream",
     "text": [
      "Epoch 32/300 - Train Loss: 0.5245, Train Accuracy: 0.7207, Test Loss: 1.1374, Test Accuracy: 0.6187\n"
     ]
    },
    {
     "name": "stderr",
     "output_type": "stream",
     "text": [
      "100%|██████████| 19/19 [00:11<00:00,  1.67it/s]\n"
     ]
    },
    {
     "name": "stdout",
     "output_type": "stream",
     "text": [
      "Epoch 33/300 - Train Loss: 0.5444, Train Accuracy: 0.7182, Test Loss: 1.1416, Test Accuracy: 0.5987\n"
     ]
    },
    {
     "name": "stderr",
     "output_type": "stream",
     "text": [
      "100%|██████████| 19/19 [00:11<00:00,  1.66it/s]\n"
     ]
    },
    {
     "name": "stdout",
     "output_type": "stream",
     "text": [
      "Epoch 34/300 - Train Loss: 0.5265, Train Accuracy: 0.7291, Test Loss: 1.0558, Test Accuracy: 0.6054\n"
     ]
    },
    {
     "name": "stderr",
     "output_type": "stream",
     "text": [
      "100%|██████████| 19/19 [00:11<00:00,  1.69it/s]\n"
     ]
    },
    {
     "name": "stdout",
     "output_type": "stream",
     "text": [
      "Epoch 35/300 - Train Loss: 0.5187, Train Accuracy: 0.7232, Test Loss: 1.0593, Test Accuracy: 0.6221\n"
     ]
    },
    {
     "name": "stderr",
     "output_type": "stream",
     "text": [
      "100%|██████████| 19/19 [00:11<00:00,  1.66it/s]\n"
     ]
    },
    {
     "name": "stdout",
     "output_type": "stream",
     "text": [
      "Epoch 36/300 - Train Loss: 0.4798, Train Accuracy: 0.7834, Test Loss: 1.2706, Test Accuracy: 0.6187\n"
     ]
    },
    {
     "name": "stderr",
     "output_type": "stream",
     "text": [
      "100%|██████████| 19/19 [00:11<00:00,  1.68it/s]\n"
     ]
    },
    {
     "name": "stdout",
     "output_type": "stream",
     "text": [
      "Epoch 37/300 - Train Loss: 0.4872, Train Accuracy: 0.7492, Test Loss: 1.3417, Test Accuracy: 0.6087\n"
     ]
    },
    {
     "name": "stderr",
     "output_type": "stream",
     "text": [
      "100%|██████████| 19/19 [00:11<00:00,  1.67it/s]\n"
     ]
    },
    {
     "name": "stdout",
     "output_type": "stream",
     "text": [
      "Epoch 38/300 - Train Loss: 0.4949, Train Accuracy: 0.7517, Test Loss: 1.1737, Test Accuracy: 0.6087\n"
     ]
    },
    {
     "name": "stderr",
     "output_type": "stream",
     "text": [
      "100%|██████████| 19/19 [00:12<00:00,  1.56it/s]\n"
     ]
    },
    {
     "name": "stdout",
     "output_type": "stream",
     "text": [
      "Epoch 39/300 - Train Loss: 0.4736, Train Accuracy: 0.7851, Test Loss: 1.7203, Test Accuracy: 0.5753\n"
     ]
    },
    {
     "name": "stderr",
     "output_type": "stream",
     "text": [
      "100%|██████████| 19/19 [00:11<00:00,  1.68it/s]\n"
     ]
    },
    {
     "name": "stdout",
     "output_type": "stream",
     "text": [
      "Epoch 40/300 - Train Loss: 0.4832, Train Accuracy: 0.7659, Test Loss: 1.3106, Test Accuracy: 0.6154\n"
     ]
    },
    {
     "name": "stderr",
     "output_type": "stream",
     "text": [
      "100%|██████████| 19/19 [00:11<00:00,  1.66it/s]\n"
     ]
    },
    {
     "name": "stdout",
     "output_type": "stream",
     "text": [
      "Epoch 41/300 - Train Loss: 0.5008, Train Accuracy: 0.7483, Test Loss: 1.2960, Test Accuracy: 0.6020\n"
     ]
    },
    {
     "name": "stderr",
     "output_type": "stream",
     "text": [
      "100%|██████████| 19/19 [00:11<00:00,  1.67it/s]\n"
     ]
    },
    {
     "name": "stdout",
     "output_type": "stream",
     "text": [
      "Epoch 42/300 - Train Loss: 0.4587, Train Accuracy: 0.7793, Test Loss: 1.2192, Test Accuracy: 0.6288\n"
     ]
    },
    {
     "name": "stderr",
     "output_type": "stream",
     "text": [
      "100%|██████████| 19/19 [00:11<00:00,  1.66it/s]\n"
     ]
    },
    {
     "name": "stdout",
     "output_type": "stream",
     "text": [
      "Epoch 43/300 - Train Loss: 0.4447, Train Accuracy: 0.7901, Test Loss: 1.9977, Test Accuracy: 0.5853\n"
     ]
    },
    {
     "name": "stderr",
     "output_type": "stream",
     "text": [
      "100%|██████████| 19/19 [00:11<00:00,  1.65it/s]\n"
     ]
    },
    {
     "name": "stdout",
     "output_type": "stream",
     "text": [
      "Epoch 44/300 - Train Loss: 0.5026, Train Accuracy: 0.7408, Test Loss: 1.0461, Test Accuracy: 0.6288\n"
     ]
    },
    {
     "name": "stderr",
     "output_type": "stream",
     "text": [
      "100%|██████████| 19/19 [00:11<00:00,  1.69it/s]\n"
     ]
    },
    {
     "name": "stdout",
     "output_type": "stream",
     "text": [
      "Epoch 45/300 - Train Loss: 0.4567, Train Accuracy: 0.7834, Test Loss: 1.3858, Test Accuracy: 0.6154\n"
     ]
    },
    {
     "name": "stderr",
     "output_type": "stream",
     "text": [
      "100%|██████████| 19/19 [00:11<00:00,  1.67it/s]\n"
     ]
    },
    {
     "name": "stdout",
     "output_type": "stream",
     "text": [
      "Epoch 46/300 - Train Loss: 0.4451, Train Accuracy: 0.7826, Test Loss: 1.4579, Test Accuracy: 0.6254\n"
     ]
    },
    {
     "name": "stderr",
     "output_type": "stream",
     "text": [
      "100%|██████████| 19/19 [00:11<00:00,  1.67it/s]\n"
     ]
    },
    {
     "name": "stdout",
     "output_type": "stream",
     "text": [
      "Epoch 47/300 - Train Loss: 0.4671, Train Accuracy: 0.7717, Test Loss: 1.9417, Test Accuracy: 0.6054\n"
     ]
    },
    {
     "name": "stderr",
     "output_type": "stream",
     "text": [
      "100%|██████████| 19/19 [00:11<00:00,  1.68it/s]\n"
     ]
    },
    {
     "name": "stdout",
     "output_type": "stream",
     "text": [
      "Epoch 48/300 - Train Loss: 0.4681, Train Accuracy: 0.7734, Test Loss: 1.8564, Test Accuracy: 0.5351\n"
     ]
    },
    {
     "name": "stderr",
     "output_type": "stream",
     "text": [
      "100%|██████████| 19/19 [00:11<00:00,  1.66it/s]\n"
     ]
    },
    {
     "name": "stdout",
     "output_type": "stream",
     "text": [
      "Epoch 49/300 - Train Loss: 0.4603, Train Accuracy: 0.7768, Test Loss: 1.2288, Test Accuracy: 0.6321\n"
     ]
    },
    {
     "name": "stderr",
     "output_type": "stream",
     "text": [
      "100%|██████████| 19/19 [00:11<00:00,  1.67it/s]\n"
     ]
    },
    {
     "name": "stdout",
     "output_type": "stream",
     "text": [
      "Epoch 50/300 - Train Loss: 0.4302, Train Accuracy: 0.7893, Test Loss: 2.0058, Test Accuracy: 0.5753\n"
     ]
    },
    {
     "name": "stderr",
     "output_type": "stream",
     "text": [
      "100%|██████████| 19/19 [00:11<00:00,  1.66it/s]\n"
     ]
    },
    {
     "name": "stdout",
     "output_type": "stream",
     "text": [
      "Epoch 51/300 - Train Loss: 0.4306, Train Accuracy: 0.7935, Test Loss: 1.3795, Test Accuracy: 0.6355\n"
     ]
    },
    {
     "name": "stderr",
     "output_type": "stream",
     "text": [
      "100%|██████████| 19/19 [00:11<00:00,  1.66it/s]\n"
     ]
    },
    {
     "name": "stdout",
     "output_type": "stream",
     "text": [
      "Epoch 52/300 - Train Loss: 0.4444, Train Accuracy: 0.7860, Test Loss: 1.5828, Test Accuracy: 0.6054\n"
     ]
    },
    {
     "name": "stderr",
     "output_type": "stream",
     "text": [
      "100%|██████████| 19/19 [00:11<00:00,  1.65it/s]\n"
     ]
    },
    {
     "name": "stdout",
     "output_type": "stream",
     "text": [
      "Epoch 53/300 - Train Loss: 0.4373, Train Accuracy: 0.8018, Test Loss: 1.3940, Test Accuracy: 0.6455\n"
     ]
    },
    {
     "name": "stderr",
     "output_type": "stream",
     "text": [
      "100%|██████████| 19/19 [00:11<00:00,  1.64it/s]\n"
     ]
    },
    {
     "name": "stdout",
     "output_type": "stream",
     "text": [
      "Epoch 54/300 - Train Loss: 0.4273, Train Accuracy: 0.7952, Test Loss: 2.1945, Test Accuracy: 0.5853\n"
     ]
    },
    {
     "name": "stderr",
     "output_type": "stream",
     "text": [
      "100%|██████████| 19/19 [00:12<00:00,  1.56it/s]\n"
     ]
    },
    {
     "name": "stdout",
     "output_type": "stream",
     "text": [
      "Epoch 55/300 - Train Loss: 0.4170, Train Accuracy: 0.8119, Test Loss: 1.6214, Test Accuracy: 0.6154\n"
     ]
    },
    {
     "name": "stderr",
     "output_type": "stream",
     "text": [
      "100%|██████████| 19/19 [00:11<00:00,  1.60it/s]\n"
     ]
    },
    {
     "name": "stdout",
     "output_type": "stream",
     "text": [
      "Epoch 56/300 - Train Loss: 0.4204, Train Accuracy: 0.8010, Test Loss: 1.4031, Test Accuracy: 0.6254\n"
     ]
    },
    {
     "name": "stderr",
     "output_type": "stream",
     "text": [
      "100%|██████████| 19/19 [00:11<00:00,  1.68it/s]\n"
     ]
    },
    {
     "name": "stdout",
     "output_type": "stream",
     "text": [
      "Epoch 57/300 - Train Loss: 0.4445, Train Accuracy: 0.7885, Test Loss: 2.0048, Test Accuracy: 0.5619\n"
     ]
    },
    {
     "name": "stderr",
     "output_type": "stream",
     "text": [
      "100%|██████████| 19/19 [00:11<00:00,  1.67it/s]\n"
     ]
    },
    {
     "name": "stdout",
     "output_type": "stream",
     "text": [
      "Epoch 58/300 - Train Loss: 0.4184, Train Accuracy: 0.7910, Test Loss: 1.7194, Test Accuracy: 0.5719\n"
     ]
    },
    {
     "name": "stderr",
     "output_type": "stream",
     "text": [
      "100%|██████████| 19/19 [00:11<00:00,  1.65it/s]\n"
     ]
    },
    {
     "name": "stdout",
     "output_type": "stream",
     "text": [
      "Epoch 59/300 - Train Loss: 0.4024, Train Accuracy: 0.8186, Test Loss: 1.8355, Test Accuracy: 0.6120\n"
     ]
    },
    {
     "name": "stderr",
     "output_type": "stream",
     "text": [
      "100%|██████████| 19/19 [00:11<00:00,  1.69it/s]\n"
     ]
    },
    {
     "name": "stdout",
     "output_type": "stream",
     "text": [
      "Epoch 60/300 - Train Loss: 0.4076, Train Accuracy: 0.8060, Test Loss: 1.4866, Test Accuracy: 0.6020\n"
     ]
    },
    {
     "name": "stderr",
     "output_type": "stream",
     "text": [
      "100%|██████████| 19/19 [00:11<00:00,  1.69it/s]\n"
     ]
    },
    {
     "name": "stdout",
     "output_type": "stream",
     "text": [
      "Epoch 61/300 - Train Loss: 0.4097, Train Accuracy: 0.7960, Test Loss: 1.3580, Test Accuracy: 0.6221\n"
     ]
    },
    {
     "name": "stderr",
     "output_type": "stream",
     "text": [
      "100%|██████████| 19/19 [00:11<00:00,  1.66it/s]\n"
     ]
    },
    {
     "name": "stdout",
     "output_type": "stream",
     "text": [
      "Epoch 62/300 - Train Loss: 0.4247, Train Accuracy: 0.7901, Test Loss: 1.9262, Test Accuracy: 0.5786\n"
     ]
    },
    {
     "name": "stderr",
     "output_type": "stream",
     "text": [
      "100%|██████████| 19/19 [00:11<00:00,  1.69it/s]\n"
     ]
    },
    {
     "name": "stdout",
     "output_type": "stream",
     "text": [
      "Epoch 63/300 - Train Loss: 0.3913, Train Accuracy: 0.8261, Test Loss: 1.6621, Test Accuracy: 0.6120\n"
     ]
    },
    {
     "name": "stderr",
     "output_type": "stream",
     "text": [
      "100%|██████████| 19/19 [00:11<00:00,  1.65it/s]\n"
     ]
    },
    {
     "name": "stdout",
     "output_type": "stream",
     "text": [
      "Epoch 64/300 - Train Loss: 0.3750, Train Accuracy: 0.8370, Test Loss: 1.6465, Test Accuracy: 0.6154\n"
     ]
    },
    {
     "name": "stderr",
     "output_type": "stream",
     "text": [
      "100%|██████████| 19/19 [00:11<00:00,  1.65it/s]\n"
     ]
    },
    {
     "name": "stdout",
     "output_type": "stream",
     "text": [
      "Epoch 65/300 - Train Loss: 0.3497, Train Accuracy: 0.8462, Test Loss: 2.3123, Test Accuracy: 0.5886\n"
     ]
    },
    {
     "name": "stderr",
     "output_type": "stream",
     "text": [
      "100%|██████████| 19/19 [00:11<00:00,  1.61it/s]\n"
     ]
    },
    {
     "name": "stdout",
     "output_type": "stream",
     "text": [
      "Epoch 66/300 - Train Loss: 0.3676, Train Accuracy: 0.8411, Test Loss: 2.4559, Test Accuracy: 0.5686\n"
     ]
    },
    {
     "name": "stderr",
     "output_type": "stream",
     "text": [
      "100%|██████████| 19/19 [00:11<00:00,  1.61it/s]\n"
     ]
    },
    {
     "name": "stdout",
     "output_type": "stream",
     "text": [
      "Epoch 67/300 - Train Loss: 0.4148, Train Accuracy: 0.8085, Test Loss: 1.0993, Test Accuracy: 0.6656\n"
     ]
    },
    {
     "name": "stderr",
     "output_type": "stream",
     "text": [
      "100%|██████████| 19/19 [00:11<00:00,  1.63it/s]\n"
     ]
    },
    {
     "name": "stdout",
     "output_type": "stream",
     "text": [
      "Epoch 68/300 - Train Loss: 0.3835, Train Accuracy: 0.8278, Test Loss: 1.6456, Test Accuracy: 0.5987\n"
     ]
    },
    {
     "name": "stderr",
     "output_type": "stream",
     "text": [
      "100%|██████████| 19/19 [00:11<00:00,  1.64it/s]\n"
     ]
    },
    {
     "name": "stdout",
     "output_type": "stream",
     "text": [
      "Epoch 69/300 - Train Loss: 0.3850, Train Accuracy: 0.8244, Test Loss: 1.6106, Test Accuracy: 0.6020\n"
     ]
    },
    {
     "name": "stderr",
     "output_type": "stream",
     "text": [
      "100%|██████████| 19/19 [00:11<00:00,  1.61it/s]\n"
     ]
    },
    {
     "name": "stdout",
     "output_type": "stream",
     "text": [
      "Epoch 70/300 - Train Loss: 0.3591, Train Accuracy: 0.8261, Test Loss: 1.5901, Test Accuracy: 0.6221\n"
     ]
    },
    {
     "name": "stderr",
     "output_type": "stream",
     "text": [
      "100%|██████████| 19/19 [00:11<00:00,  1.63it/s]\n"
     ]
    },
    {
     "name": "stdout",
     "output_type": "stream",
     "text": [
      "Epoch 71/300 - Train Loss: 0.3837, Train Accuracy: 0.8303, Test Loss: 1.3009, Test Accuracy: 0.6154\n"
     ]
    },
    {
     "name": "stderr",
     "output_type": "stream",
     "text": [
      "100%|██████████| 19/19 [00:11<00:00,  1.62it/s]\n"
     ]
    },
    {
     "name": "stdout",
     "output_type": "stream",
     "text": [
      "Epoch 72/300 - Train Loss: 0.3601, Train Accuracy: 0.8370, Test Loss: 1.7086, Test Accuracy: 0.6087\n"
     ]
    },
    {
     "name": "stderr",
     "output_type": "stream",
     "text": [
      "100%|██████████| 19/19 [00:11<00:00,  1.64it/s]\n"
     ]
    },
    {
     "name": "stdout",
     "output_type": "stream",
     "text": [
      "Epoch 73/300 - Train Loss: 0.3483, Train Accuracy: 0.8386, Test Loss: 1.6699, Test Accuracy: 0.5953\n"
     ]
    },
    {
     "name": "stderr",
     "output_type": "stream",
     "text": [
      "100%|██████████| 19/19 [00:11<00:00,  1.61it/s]\n"
     ]
    },
    {
     "name": "stdout",
     "output_type": "stream",
     "text": [
      "Epoch 74/300 - Train Loss: 0.3433, Train Accuracy: 0.8411, Test Loss: 1.4446, Test Accuracy: 0.6555\n"
     ]
    },
    {
     "name": "stderr",
     "output_type": "stream",
     "text": [
      "100%|██████████| 19/19 [00:11<00:00,  1.63it/s]\n"
     ]
    },
    {
     "name": "stdout",
     "output_type": "stream",
     "text": [
      "Epoch 75/300 - Train Loss: 0.3527, Train Accuracy: 0.8395, Test Loss: 1.7070, Test Accuracy: 0.6087\n"
     ]
    },
    {
     "name": "stderr",
     "output_type": "stream",
     "text": [
      "100%|██████████| 19/19 [00:11<00:00,  1.61it/s]\n"
     ]
    },
    {
     "name": "stdout",
     "output_type": "stream",
     "text": [
      "Epoch 76/300 - Train Loss: 0.3516, Train Accuracy: 0.8562, Test Loss: 2.2712, Test Accuracy: 0.5719\n"
     ]
    },
    {
     "name": "stderr",
     "output_type": "stream",
     "text": [
      "100%|██████████| 19/19 [00:11<00:00,  1.63it/s]\n"
     ]
    },
    {
     "name": "stdout",
     "output_type": "stream",
     "text": [
      "Epoch 77/300 - Train Loss: 0.3499, Train Accuracy: 0.8436, Test Loss: 1.5635, Test Accuracy: 0.6488\n"
     ]
    },
    {
     "name": "stderr",
     "output_type": "stream",
     "text": [
      "100%|██████████| 19/19 [00:11<00:00,  1.63it/s]\n"
     ]
    },
    {
     "name": "stdout",
     "output_type": "stream",
     "text": [
      "Epoch 78/300 - Train Loss: 0.3458, Train Accuracy: 0.8512, Test Loss: 2.2019, Test Accuracy: 0.5719\n"
     ]
    },
    {
     "name": "stderr",
     "output_type": "stream",
     "text": [
      "100%|██████████| 19/19 [00:11<00:00,  1.61it/s]\n"
     ]
    },
    {
     "name": "stdout",
     "output_type": "stream",
     "text": [
      "Epoch 79/300 - Train Loss: 0.3765, Train Accuracy: 0.8336, Test Loss: 1.3329, Test Accuracy: 0.6388\n"
     ]
    },
    {
     "name": "stderr",
     "output_type": "stream",
     "text": [
      "100%|██████████| 19/19 [00:11<00:00,  1.63it/s]\n"
     ]
    },
    {
     "name": "stdout",
     "output_type": "stream",
     "text": [
      "Epoch 80/300 - Train Loss: 0.3307, Train Accuracy: 0.8545, Test Loss: 2.0759, Test Accuracy: 0.6120\n"
     ]
    },
    {
     "name": "stderr",
     "output_type": "stream",
     "text": [
      "100%|██████████| 19/19 [00:11<00:00,  1.62it/s]\n"
     ]
    },
    {
     "name": "stdout",
     "output_type": "stream",
     "text": [
      "Epoch 81/300 - Train Loss: 0.3394, Train Accuracy: 0.8545, Test Loss: 2.4118, Test Accuracy: 0.5786\n"
     ]
    },
    {
     "name": "stderr",
     "output_type": "stream",
     "text": [
      "100%|██████████| 19/19 [00:11<00:00,  1.63it/s]\n"
     ]
    },
    {
     "name": "stdout",
     "output_type": "stream",
     "text": [
      "Epoch 82/300 - Train Loss: 0.3619, Train Accuracy: 0.8436, Test Loss: 2.7311, Test Accuracy: 0.5485\n"
     ]
    },
    {
     "name": "stderr",
     "output_type": "stream",
     "text": [
      "100%|██████████| 19/19 [00:11<00:00,  1.62it/s]\n"
     ]
    },
    {
     "name": "stdout",
     "output_type": "stream",
     "text": [
      "Epoch 83/300 - Train Loss: 0.3260, Train Accuracy: 0.8562, Test Loss: 1.8381, Test Accuracy: 0.6321\n"
     ]
    },
    {
     "name": "stderr",
     "output_type": "stream",
     "text": [
      "100%|██████████| 19/19 [00:11<00:00,  1.63it/s]\n"
     ]
    },
    {
     "name": "stdout",
     "output_type": "stream",
     "text": [
      "Epoch 84/300 - Train Loss: 0.3358, Train Accuracy: 0.8528, Test Loss: 1.5628, Test Accuracy: 0.6488\n"
     ]
    },
    {
     "name": "stderr",
     "output_type": "stream",
     "text": [
      "100%|██████████| 19/19 [00:11<00:00,  1.63it/s]\n"
     ]
    },
    {
     "name": "stdout",
     "output_type": "stream",
     "text": [
      "Epoch 85/300 - Train Loss: 0.3325, Train Accuracy: 0.8495, Test Loss: 2.9974, Test Accuracy: 0.5886\n"
     ]
    },
    {
     "name": "stderr",
     "output_type": "stream",
     "text": [
      "100%|██████████| 19/19 [00:11<00:00,  1.61it/s]\n"
     ]
    },
    {
     "name": "stdout",
     "output_type": "stream",
     "text": [
      "Epoch 86/300 - Train Loss: 0.3527, Train Accuracy: 0.8495, Test Loss: 1.7072, Test Accuracy: 0.6254\n"
     ]
    },
    {
     "name": "stderr",
     "output_type": "stream",
     "text": [
      "100%|██████████| 19/19 [00:11<00:00,  1.62it/s]\n"
     ]
    },
    {
     "name": "stdout",
     "output_type": "stream",
     "text": [
      "Epoch 87/300 - Train Loss: 0.3473, Train Accuracy: 0.8453, Test Loss: 2.2178, Test Accuracy: 0.5786\n"
     ]
    },
    {
     "name": "stderr",
     "output_type": "stream",
     "text": [
      "100%|██████████| 19/19 [00:11<00:00,  1.62it/s]\n"
     ]
    },
    {
     "name": "stdout",
     "output_type": "stream",
     "text": [
      "Epoch 88/300 - Train Loss: 0.3408, Train Accuracy: 0.8411, Test Loss: 1.9009, Test Accuracy: 0.6020\n"
     ]
    },
    {
     "name": "stderr",
     "output_type": "stream",
     "text": [
      "100%|██████████| 19/19 [00:11<00:00,  1.62it/s]\n"
     ]
    },
    {
     "name": "stdout",
     "output_type": "stream",
     "text": [
      "Epoch 89/300 - Train Loss: 0.3156, Train Accuracy: 0.8629, Test Loss: 2.1502, Test Accuracy: 0.6120\n"
     ]
    },
    {
     "name": "stderr",
     "output_type": "stream",
     "text": [
      "100%|██████████| 19/19 [00:11<00:00,  1.62it/s]\n"
     ]
    },
    {
     "name": "stdout",
     "output_type": "stream",
     "text": [
      "Epoch 90/300 - Train Loss: 0.3039, Train Accuracy: 0.8779, Test Loss: 2.3179, Test Accuracy: 0.5853\n"
     ]
    },
    {
     "name": "stderr",
     "output_type": "stream",
     "text": [
      "100%|██████████| 19/19 [00:11<00:00,  1.63it/s]\n"
     ]
    },
    {
     "name": "stdout",
     "output_type": "stream",
     "text": [
      "Epoch 91/300 - Train Loss: 0.3052, Train Accuracy: 0.8746, Test Loss: 2.2476, Test Accuracy: 0.5819\n"
     ]
    },
    {
     "name": "stderr",
     "output_type": "stream",
     "text": [
      "100%|██████████| 19/19 [00:11<00:00,  1.63it/s]\n"
     ]
    },
    {
     "name": "stdout",
     "output_type": "stream",
     "text": [
      "Epoch 92/300 - Train Loss: 0.3233, Train Accuracy: 0.8587, Test Loss: 1.7396, Test Accuracy: 0.6288\n"
     ]
    },
    {
     "name": "stderr",
     "output_type": "stream",
     "text": [
      "100%|██████████| 19/19 [00:11<00:00,  1.62it/s]\n"
     ]
    },
    {
     "name": "stdout",
     "output_type": "stream",
     "text": [
      "Epoch 93/300 - Train Loss: 0.3129, Train Accuracy: 0.8612, Test Loss: 2.3419, Test Accuracy: 0.5853\n"
     ]
    },
    {
     "name": "stderr",
     "output_type": "stream",
     "text": [
      "100%|██████████| 19/19 [00:11<00:00,  1.63it/s]\n"
     ]
    },
    {
     "name": "stdout",
     "output_type": "stream",
     "text": [
      "Epoch 94/300 - Train Loss: 0.3453, Train Accuracy: 0.8395, Test Loss: 2.3630, Test Accuracy: 0.5853\n"
     ]
    },
    {
     "name": "stderr",
     "output_type": "stream",
     "text": [
      "100%|██████████| 19/19 [00:11<00:00,  1.61it/s]\n"
     ]
    },
    {
     "name": "stdout",
     "output_type": "stream",
     "text": [
      "Epoch 95/300 - Train Loss: 0.3104, Train Accuracy: 0.8721, Test Loss: 2.4144, Test Accuracy: 0.5819\n"
     ]
    },
    {
     "name": "stderr",
     "output_type": "stream",
     "text": [
      "100%|██████████| 19/19 [00:11<00:00,  1.63it/s]\n"
     ]
    },
    {
     "name": "stdout",
     "output_type": "stream",
     "text": [
      "Epoch 96/300 - Train Loss: 0.3260, Train Accuracy: 0.8554, Test Loss: 1.6716, Test Accuracy: 0.6221\n"
     ]
    },
    {
     "name": "stderr",
     "output_type": "stream",
     "text": [
      "100%|██████████| 19/19 [00:11<00:00,  1.62it/s]\n"
     ]
    },
    {
     "name": "stdout",
     "output_type": "stream",
     "text": [
      "Epoch 97/300 - Train Loss: 0.2764, Train Accuracy: 0.8813, Test Loss: 2.2222, Test Accuracy: 0.6187\n"
     ]
    },
    {
     "name": "stderr",
     "output_type": "stream",
     "text": [
      "100%|██████████| 19/19 [00:11<00:00,  1.63it/s]\n"
     ]
    },
    {
     "name": "stdout",
     "output_type": "stream",
     "text": [
      "Epoch 98/300 - Train Loss: 0.2758, Train Accuracy: 0.8838, Test Loss: 2.4947, Test Accuracy: 0.6020\n"
     ]
    },
    {
     "name": "stderr",
     "output_type": "stream",
     "text": [
      "100%|██████████| 19/19 [00:11<00:00,  1.62it/s]\n"
     ]
    },
    {
     "name": "stdout",
     "output_type": "stream",
     "text": [
      "Epoch 99/300 - Train Loss: 0.3431, Train Accuracy: 0.8503, Test Loss: 2.0390, Test Accuracy: 0.6120\n"
     ]
    },
    {
     "name": "stderr",
     "output_type": "stream",
     "text": [
      "100%|██████████| 19/19 [00:11<00:00,  1.63it/s]\n"
     ]
    },
    {
     "name": "stdout",
     "output_type": "stream",
     "text": [
      "Epoch 100/300 - Train Loss: 0.3174, Train Accuracy: 0.8671, Test Loss: 1.6945, Test Accuracy: 0.6288\n"
     ]
    },
    {
     "name": "stderr",
     "output_type": "stream",
     "text": [
      "100%|██████████| 19/19 [00:11<00:00,  1.61it/s]\n"
     ]
    },
    {
     "name": "stdout",
     "output_type": "stream",
     "text": [
      "Epoch 101/300 - Train Loss: 0.3039, Train Accuracy: 0.8604, Test Loss: 2.1627, Test Accuracy: 0.6120\n"
     ]
    },
    {
     "name": "stderr",
     "output_type": "stream",
     "text": [
      "100%|██████████| 19/19 [00:11<00:00,  1.64it/s]\n"
     ]
    },
    {
     "name": "stdout",
     "output_type": "stream",
     "text": [
      "Epoch 102/300 - Train Loss: 0.2842, Train Accuracy: 0.8737, Test Loss: 2.2929, Test Accuracy: 0.6020\n"
     ]
    },
    {
     "name": "stderr",
     "output_type": "stream",
     "text": [
      "100%|██████████| 19/19 [00:11<00:00,  1.62it/s]\n"
     ]
    },
    {
     "name": "stdout",
     "output_type": "stream",
     "text": [
      "Epoch 103/300 - Train Loss: 0.2852, Train Accuracy: 0.8788, Test Loss: 2.0100, Test Accuracy: 0.6722\n"
     ]
    },
    {
     "name": "stderr",
     "output_type": "stream",
     "text": [
      "100%|██████████| 19/19 [00:11<00:00,  1.64it/s]\n"
     ]
    },
    {
     "name": "stdout",
     "output_type": "stream",
     "text": [
      "Epoch 104/300 - Train Loss: 0.2971, Train Accuracy: 0.8746, Test Loss: 2.2808, Test Accuracy: 0.5953\n"
     ]
    },
    {
     "name": "stderr",
     "output_type": "stream",
     "text": [
      "100%|██████████| 19/19 [00:11<00:00,  1.63it/s]\n"
     ]
    },
    {
     "name": "stdout",
     "output_type": "stream",
     "text": [
      "Epoch 105/300 - Train Loss: 0.3009, Train Accuracy: 0.8654, Test Loss: 2.0256, Test Accuracy: 0.6154\n"
     ]
    },
    {
     "name": "stderr",
     "output_type": "stream",
     "text": [
      "100%|██████████| 19/19 [00:11<00:00,  1.63it/s]\n"
     ]
    },
    {
     "name": "stdout",
     "output_type": "stream",
     "text": [
      "Epoch 106/300 - Train Loss: 0.3230, Train Accuracy: 0.8570, Test Loss: 1.7112, Test Accuracy: 0.6455\n"
     ]
    },
    {
     "name": "stderr",
     "output_type": "stream",
     "text": [
      "100%|██████████| 19/19 [00:11<00:00,  1.64it/s]\n"
     ]
    },
    {
     "name": "stdout",
     "output_type": "stream",
     "text": [
      "Epoch 107/300 - Train Loss: 0.2758, Train Accuracy: 0.8829, Test Loss: 1.9041, Test Accuracy: 0.6488\n"
     ]
    },
    {
     "name": "stderr",
     "output_type": "stream",
     "text": [
      "100%|██████████| 19/19 [00:11<00:00,  1.62it/s]\n"
     ]
    },
    {
     "name": "stdout",
     "output_type": "stream",
     "text": [
      "Epoch 108/300 - Train Loss: 0.2815, Train Accuracy: 0.8880, Test Loss: 1.8418, Test Accuracy: 0.6555\n"
     ]
    },
    {
     "name": "stderr",
     "output_type": "stream",
     "text": [
      "100%|██████████| 19/19 [00:11<00:00,  1.64it/s]\n"
     ]
    },
    {
     "name": "stdout",
     "output_type": "stream",
     "text": [
      "Epoch 109/300 - Train Loss: 0.2834, Train Accuracy: 0.8779, Test Loss: 2.0840, Test Accuracy: 0.6054\n"
     ]
    },
    {
     "name": "stderr",
     "output_type": "stream",
     "text": [
      "100%|██████████| 19/19 [00:11<00:00,  1.61it/s]\n"
     ]
    },
    {
     "name": "stdout",
     "output_type": "stream",
     "text": [
      "Epoch 110/300 - Train Loss: 0.2927, Train Accuracy: 0.8771, Test Loss: 2.1644, Test Accuracy: 0.5920\n"
     ]
    },
    {
     "name": "stderr",
     "output_type": "stream",
     "text": [
      "100%|██████████| 19/19 [00:11<00:00,  1.64it/s]\n"
     ]
    },
    {
     "name": "stdout",
     "output_type": "stream",
     "text": [
      "Epoch 111/300 - Train Loss: 0.2814, Train Accuracy: 0.8896, Test Loss: 1.5888, Test Accuracy: 0.6221\n"
     ]
    },
    {
     "name": "stderr",
     "output_type": "stream",
     "text": [
      "100%|██████████| 19/19 [00:11<00:00,  1.64it/s]\n"
     ]
    },
    {
     "name": "stdout",
     "output_type": "stream",
     "text": [
      "Epoch 112/300 - Train Loss: 0.2792, Train Accuracy: 0.8821, Test Loss: 1.9007, Test Accuracy: 0.6288\n"
     ]
    },
    {
     "name": "stderr",
     "output_type": "stream",
     "text": [
      "100%|██████████| 19/19 [00:11<00:00,  1.62it/s]\n"
     ]
    },
    {
     "name": "stdout",
     "output_type": "stream",
     "text": [
      "Epoch 113/300 - Train Loss: 0.2923, Train Accuracy: 0.8570, Test Loss: 1.6444, Test Accuracy: 0.6388\n"
     ]
    },
    {
     "name": "stderr",
     "output_type": "stream",
     "text": [
      "100%|██████████| 19/19 [00:11<00:00,  1.63it/s]\n"
     ]
    },
    {
     "name": "stdout",
     "output_type": "stream",
     "text": [
      "Epoch 114/300 - Train Loss: 0.2422, Train Accuracy: 0.8946, Test Loss: 2.1050, Test Accuracy: 0.6555\n"
     ]
    },
    {
     "name": "stderr",
     "output_type": "stream",
     "text": [
      "100%|██████████| 19/19 [00:11<00:00,  1.62it/s]\n"
     ]
    },
    {
     "name": "stdout",
     "output_type": "stream",
     "text": [
      "Epoch 115/300 - Train Loss: 0.2799, Train Accuracy: 0.8829, Test Loss: 1.9120, Test Accuracy: 0.6455\n"
     ]
    },
    {
     "name": "stderr",
     "output_type": "stream",
     "text": [
      "100%|██████████| 19/19 [00:11<00:00,  1.63it/s]\n"
     ]
    },
    {
     "name": "stdout",
     "output_type": "stream",
     "text": [
      "Epoch 116/300 - Train Loss: 0.2798, Train Accuracy: 0.8888, Test Loss: 2.2803, Test Accuracy: 0.6120\n"
     ]
    },
    {
     "name": "stderr",
     "output_type": "stream",
     "text": [
      "100%|██████████| 19/19 [00:11<00:00,  1.60it/s]\n"
     ]
    },
    {
     "name": "stdout",
     "output_type": "stream",
     "text": [
      "Epoch 117/300 - Train Loss: 0.3243, Train Accuracy: 0.8579, Test Loss: 2.1671, Test Accuracy: 0.5753\n"
     ]
    },
    {
     "name": "stderr",
     "output_type": "stream",
     "text": [
      "100%|██████████| 19/19 [00:11<00:00,  1.63it/s]\n"
     ]
    },
    {
     "name": "stdout",
     "output_type": "stream",
     "text": [
      "Epoch 118/300 - Train Loss: 0.2845, Train Accuracy: 0.8821, Test Loss: 2.1171, Test Accuracy: 0.6020\n"
     ]
    },
    {
     "name": "stderr",
     "output_type": "stream",
     "text": [
      "100%|██████████| 19/19 [00:11<00:00,  1.62it/s]\n"
     ]
    },
    {
     "name": "stdout",
     "output_type": "stream",
     "text": [
      "Epoch 119/300 - Train Loss: 0.2355, Train Accuracy: 0.9013, Test Loss: 2.4997, Test Accuracy: 0.6221\n"
     ]
    },
    {
     "name": "stderr",
     "output_type": "stream",
     "text": [
      "100%|██████████| 19/19 [00:11<00:00,  1.64it/s]\n"
     ]
    },
    {
     "name": "stdout",
     "output_type": "stream",
     "text": [
      "Epoch 120/300 - Train Loss: 0.2509, Train Accuracy: 0.8921, Test Loss: 3.3335, Test Accuracy: 0.5853\n"
     ]
    },
    {
     "name": "stderr",
     "output_type": "stream",
     "text": [
      "100%|██████████| 19/19 [00:11<00:00,  1.62it/s]\n"
     ]
    },
    {
     "name": "stdout",
     "output_type": "stream",
     "text": [
      "Epoch 121/300 - Train Loss: 0.2722, Train Accuracy: 0.8846, Test Loss: 2.3357, Test Accuracy: 0.6120\n"
     ]
    },
    {
     "name": "stderr",
     "output_type": "stream",
     "text": [
      "100%|██████████| 19/19 [00:11<00:00,  1.63it/s]\n"
     ]
    },
    {
     "name": "stdout",
     "output_type": "stream",
     "text": [
      "Epoch 122/300 - Train Loss: 0.2618, Train Accuracy: 0.8896, Test Loss: 2.0399, Test Accuracy: 0.6321\n"
     ]
    },
    {
     "name": "stderr",
     "output_type": "stream",
     "text": [
      "100%|██████████| 19/19 [00:11<00:00,  1.63it/s]\n"
     ]
    },
    {
     "name": "stdout",
     "output_type": "stream",
     "text": [
      "Epoch 123/300 - Train Loss: 0.2831, Train Accuracy: 0.8871, Test Loss: 1.7440, Test Accuracy: 0.6388\n"
     ]
    },
    {
     "name": "stderr",
     "output_type": "stream",
     "text": [
      "100%|██████████| 19/19 [00:11<00:00,  1.62it/s]\n"
     ]
    },
    {
     "name": "stdout",
     "output_type": "stream",
     "text": [
      "Epoch 124/300 - Train Loss: 0.3080, Train Accuracy: 0.8654, Test Loss: 1.8323, Test Accuracy: 0.6288\n"
     ]
    },
    {
     "name": "stderr",
     "output_type": "stream",
     "text": [
      "100%|██████████| 19/19 [00:11<00:00,  1.63it/s]\n"
     ]
    },
    {
     "name": "stdout",
     "output_type": "stream",
     "text": [
      "Epoch 125/300 - Train Loss: 0.2583, Train Accuracy: 0.8821, Test Loss: 2.1756, Test Accuracy: 0.6087\n"
     ]
    },
    {
     "name": "stderr",
     "output_type": "stream",
     "text": [
      "100%|██████████| 19/19 [00:11<00:00,  1.61it/s]\n"
     ]
    },
    {
     "name": "stdout",
     "output_type": "stream",
     "text": [
      "Epoch 126/300 - Train Loss: 0.2486, Train Accuracy: 0.9038, Test Loss: 2.3300, Test Accuracy: 0.6321\n"
     ]
    },
    {
     "name": "stderr",
     "output_type": "stream",
     "text": [
      "100%|██████████| 19/19 [00:11<00:00,  1.64it/s]\n"
     ]
    },
    {
     "name": "stdout",
     "output_type": "stream",
     "text": [
      "Epoch 127/300 - Train Loss: 0.2716, Train Accuracy: 0.8829, Test Loss: 2.9632, Test Accuracy: 0.5552\n"
     ]
    },
    {
     "name": "stderr",
     "output_type": "stream",
     "text": [
      "100%|██████████| 19/19 [00:11<00:00,  1.62it/s]\n"
     ]
    },
    {
     "name": "stdout",
     "output_type": "stream",
     "text": [
      "Epoch 128/300 - Train Loss: 0.2615, Train Accuracy: 0.8855, Test Loss: 1.8427, Test Accuracy: 0.6656\n"
     ]
    },
    {
     "name": "stderr",
     "output_type": "stream",
     "text": [
      "100%|██████████| 19/19 [00:11<00:00,  1.64it/s]\n"
     ]
    },
    {
     "name": "stdout",
     "output_type": "stream",
     "text": [
      "Epoch 129/300 - Train Loss: 0.2588, Train Accuracy: 0.8813, Test Loss: 3.0642, Test Accuracy: 0.5853\n"
     ]
    },
    {
     "name": "stderr",
     "output_type": "stream",
     "text": [
      "100%|██████████| 19/19 [00:11<00:00,  1.63it/s]\n"
     ]
    },
    {
     "name": "stdout",
     "output_type": "stream",
     "text": [
      "Epoch 130/300 - Train Loss: 0.2820, Train Accuracy: 0.8821, Test Loss: 1.5829, Test Accuracy: 0.6789\n"
     ]
    },
    {
     "name": "stderr",
     "output_type": "stream",
     "text": [
      "100%|██████████| 19/19 [00:11<00:00,  1.61it/s]\n"
     ]
    },
    {
     "name": "stdout",
     "output_type": "stream",
     "text": [
      "Epoch 131/300 - Train Loss: 0.2767, Train Accuracy: 0.8746, Test Loss: 1.7974, Test Accuracy: 0.6421\n"
     ]
    },
    {
     "name": "stderr",
     "output_type": "stream",
     "text": [
      "100%|██████████| 19/19 [00:11<00:00,  1.61it/s]\n"
     ]
    },
    {
     "name": "stdout",
     "output_type": "stream",
     "text": [
      "Epoch 132/300 - Train Loss: 0.2540, Train Accuracy: 0.8804, Test Loss: 1.9448, Test Accuracy: 0.6522\n"
     ]
    },
    {
     "name": "stderr",
     "output_type": "stream",
     "text": [
      "100%|██████████| 19/19 [00:11<00:00,  1.62it/s]\n"
     ]
    },
    {
     "name": "stdout",
     "output_type": "stream",
     "text": [
      "Epoch 133/300 - Train Loss: 0.2625, Train Accuracy: 0.8846, Test Loss: 1.9978, Test Accuracy: 0.6421\n"
     ]
    },
    {
     "name": "stderr",
     "output_type": "stream",
     "text": [
      "100%|██████████| 19/19 [00:11<00:00,  1.64it/s]\n"
     ]
    },
    {
     "name": "stdout",
     "output_type": "stream",
     "text": [
      "Epoch 134/300 - Train Loss: 0.2294, Train Accuracy: 0.9072, Test Loss: 2.4893, Test Accuracy: 0.6054\n"
     ]
    },
    {
     "name": "stderr",
     "output_type": "stream",
     "text": [
      "100%|██████████| 19/19 [00:11<00:00,  1.62it/s]\n"
     ]
    },
    {
     "name": "stdout",
     "output_type": "stream",
     "text": [
      "Epoch 135/300 - Train Loss: 0.2178, Train Accuracy: 0.9122, Test Loss: 2.8171, Test Accuracy: 0.6154\n"
     ]
    },
    {
     "name": "stderr",
     "output_type": "stream",
     "text": [
      "100%|██████████| 19/19 [00:12<00:00,  1.50it/s]\n"
     ]
    },
    {
     "name": "stdout",
     "output_type": "stream",
     "text": [
      "Epoch 136/300 - Train Loss: 0.2883, Train Accuracy: 0.8888, Test Loss: 3.2261, Test Accuracy: 0.5619\n"
     ]
    },
    {
     "name": "stderr",
     "output_type": "stream",
     "text": [
      "100%|██████████| 19/19 [00:11<00:00,  1.60it/s]\n"
     ]
    },
    {
     "name": "stdout",
     "output_type": "stream",
     "text": [
      "Epoch 137/300 - Train Loss: 0.3226, Train Accuracy: 0.8495, Test Loss: 2.3563, Test Accuracy: 0.5686\n"
     ]
    },
    {
     "name": "stderr",
     "output_type": "stream",
     "text": [
      "100%|██████████| 19/19 [00:11<00:00,  1.62it/s]\n"
     ]
    },
    {
     "name": "stdout",
     "output_type": "stream",
     "text": [
      "Epoch 138/300 - Train Loss: 0.2729, Train Accuracy: 0.8846, Test Loss: 2.0074, Test Accuracy: 0.6622\n"
     ]
    },
    {
     "name": "stderr",
     "output_type": "stream",
     "text": [
      "100%|██████████| 19/19 [00:11<00:00,  1.63it/s]\n"
     ]
    },
    {
     "name": "stdout",
     "output_type": "stream",
     "text": [
      "Epoch 139/300 - Train Loss: 0.2303, Train Accuracy: 0.9005, Test Loss: 2.1837, Test Accuracy: 0.6321\n"
     ]
    },
    {
     "name": "stderr",
     "output_type": "stream",
     "text": [
      "100%|██████████| 19/19 [00:11<00:00,  1.62it/s]\n"
     ]
    },
    {
     "name": "stdout",
     "output_type": "stream",
     "text": [
      "Epoch 140/300 - Train Loss: 0.2517, Train Accuracy: 0.8980, Test Loss: 1.8978, Test Accuracy: 0.6355\n"
     ]
    },
    {
     "name": "stderr",
     "output_type": "stream",
     "text": [
      "100%|██████████| 19/19 [00:11<00:00,  1.63it/s]\n"
     ]
    },
    {
     "name": "stdout",
     "output_type": "stream",
     "text": [
      "Epoch 141/300 - Train Loss: 0.2317, Train Accuracy: 0.9122, Test Loss: 2.0177, Test Accuracy: 0.6355\n"
     ]
    },
    {
     "name": "stderr",
     "output_type": "stream",
     "text": [
      "100%|██████████| 19/19 [00:11<00:00,  1.62it/s]\n"
     ]
    },
    {
     "name": "stdout",
     "output_type": "stream",
     "text": [
      "Epoch 142/300 - Train Loss: 0.1909, Train Accuracy: 0.9197, Test Loss: 2.3668, Test Accuracy: 0.6421\n"
     ]
    },
    {
     "name": "stderr",
     "output_type": "stream",
     "text": [
      "100%|██████████| 19/19 [00:11<00:00,  1.63it/s]\n"
     ]
    },
    {
     "name": "stdout",
     "output_type": "stream",
     "text": [
      "Epoch 143/300 - Train Loss: 0.2533, Train Accuracy: 0.8980, Test Loss: 2.1394, Test Accuracy: 0.6254\n"
     ]
    },
    {
     "name": "stderr",
     "output_type": "stream",
     "text": [
      "100%|██████████| 19/19 [00:11<00:00,  1.61it/s]\n"
     ]
    },
    {
     "name": "stdout",
     "output_type": "stream",
     "text": [
      "Epoch 144/300 - Train Loss: 0.2624, Train Accuracy: 0.8855, Test Loss: 2.4000, Test Accuracy: 0.5953\n"
     ]
    },
    {
     "name": "stderr",
     "output_type": "stream",
     "text": [
      "100%|██████████| 19/19 [00:11<00:00,  1.62it/s]\n"
     ]
    },
    {
     "name": "stdout",
     "output_type": "stream",
     "text": [
      "Epoch 145/300 - Train Loss: 0.2408, Train Accuracy: 0.9030, Test Loss: 2.4190, Test Accuracy: 0.6154\n"
     ]
    },
    {
     "name": "stderr",
     "output_type": "stream",
     "text": [
      "100%|██████████| 19/19 [00:11<00:00,  1.60it/s]\n"
     ]
    },
    {
     "name": "stdout",
     "output_type": "stream",
     "text": [
      "Epoch 146/300 - Train Loss: 0.2257, Train Accuracy: 0.9064, Test Loss: 1.8979, Test Accuracy: 0.6722\n"
     ]
    },
    {
     "name": "stderr",
     "output_type": "stream",
     "text": [
      "100%|██████████| 19/19 [00:11<00:00,  1.63it/s]\n"
     ]
    },
    {
     "name": "stdout",
     "output_type": "stream",
     "text": [
      "Epoch 147/300 - Train Loss: 0.2452, Train Accuracy: 0.9080, Test Loss: 2.2145, Test Accuracy: 0.6321\n"
     ]
    },
    {
     "name": "stderr",
     "output_type": "stream",
     "text": [
      "100%|██████████| 19/19 [00:11<00:00,  1.63it/s]\n"
     ]
    },
    {
     "name": "stdout",
     "output_type": "stream",
     "text": [
      "Epoch 148/300 - Train Loss: 0.2490, Train Accuracy: 0.8930, Test Loss: 3.7917, Test Accuracy: 0.5351\n"
     ]
    },
    {
     "name": "stderr",
     "output_type": "stream",
     "text": [
      "100%|██████████| 19/19 [00:11<00:00,  1.63it/s]\n"
     ]
    },
    {
     "name": "stdout",
     "output_type": "stream",
     "text": [
      "Epoch 149/300 - Train Loss: 0.3118, Train Accuracy: 0.8696, Test Loss: 1.5675, Test Accuracy: 0.6455\n"
     ]
    },
    {
     "name": "stderr",
     "output_type": "stream",
     "text": [
      "100%|██████████| 19/19 [00:11<00:00,  1.63it/s]\n"
     ]
    },
    {
     "name": "stdout",
     "output_type": "stream",
     "text": [
      "Epoch 150/300 - Train Loss: 0.2399, Train Accuracy: 0.8972, Test Loss: 2.2483, Test Accuracy: 0.6421\n"
     ]
    },
    {
     "name": "stderr",
     "output_type": "stream",
     "text": [
      "100%|██████████| 19/19 [00:11<00:00,  1.62it/s]\n"
     ]
    },
    {
     "name": "stdout",
     "output_type": "stream",
     "text": [
      "Epoch 151/300 - Train Loss: 0.2479, Train Accuracy: 0.8930, Test Loss: 2.4493, Test Accuracy: 0.6054\n"
     ]
    },
    {
     "name": "stderr",
     "output_type": "stream",
     "text": [
      "100%|██████████| 19/19 [00:11<00:00,  1.62it/s]\n"
     ]
    },
    {
     "name": "stdout",
     "output_type": "stream",
     "text": [
      "Epoch 152/300 - Train Loss: 0.2171, Train Accuracy: 0.9047, Test Loss: 1.9429, Test Accuracy: 0.6656\n"
     ]
    },
    {
     "name": "stderr",
     "output_type": "stream",
     "text": [
      "100%|██████████| 19/19 [00:11<00:00,  1.61it/s]\n"
     ]
    },
    {
     "name": "stdout",
     "output_type": "stream",
     "text": [
      "Epoch 153/300 - Train Loss: 0.2448, Train Accuracy: 0.8888, Test Loss: 2.7257, Test Accuracy: 0.6154\n"
     ]
    },
    {
     "name": "stderr",
     "output_type": "stream",
     "text": [
      "100%|██████████| 19/19 [00:11<00:00,  1.62it/s]\n"
     ]
    },
    {
     "name": "stdout",
     "output_type": "stream",
     "text": [
      "Epoch 154/300 - Train Loss: 0.2298, Train Accuracy: 0.9072, Test Loss: 2.2105, Test Accuracy: 0.6254\n"
     ]
    },
    {
     "name": "stderr",
     "output_type": "stream",
     "text": [
      "100%|██████████| 19/19 [00:11<00:00,  1.62it/s]\n"
     ]
    },
    {
     "name": "stdout",
     "output_type": "stream",
     "text": [
      "Epoch 155/300 - Train Loss: 0.2735, Train Accuracy: 0.8946, Test Loss: 1.5333, Test Accuracy: 0.6656\n"
     ]
    },
    {
     "name": "stderr",
     "output_type": "stream",
     "text": [
      "100%|██████████| 19/19 [00:11<00:00,  1.63it/s]\n"
     ]
    },
    {
     "name": "stdout",
     "output_type": "stream",
     "text": [
      "Epoch 156/300 - Train Loss: 0.2625, Train Accuracy: 0.8804, Test Loss: 1.9240, Test Accuracy: 0.6254\n"
     ]
    },
    {
     "name": "stderr",
     "output_type": "stream",
     "text": [
      "100%|██████████| 19/19 [00:11<00:00,  1.63it/s]\n"
     ]
    },
    {
     "name": "stdout",
     "output_type": "stream",
     "text": [
      "Epoch 157/300 - Train Loss: 0.2083, Train Accuracy: 0.9156, Test Loss: 2.4822, Test Accuracy: 0.6455\n"
     ]
    },
    {
     "name": "stderr",
     "output_type": "stream",
     "text": [
      "100%|██████████| 19/19 [00:11<00:00,  1.62it/s]\n"
     ]
    },
    {
     "name": "stdout",
     "output_type": "stream",
     "text": [
      "Epoch 158/300 - Train Loss: 0.2214, Train Accuracy: 0.9139, Test Loss: 2.0903, Test Accuracy: 0.6589\n"
     ]
    },
    {
     "name": "stderr",
     "output_type": "stream",
     "text": [
      "100%|██████████| 19/19 [00:11<00:00,  1.63it/s]\n"
     ]
    },
    {
     "name": "stdout",
     "output_type": "stream",
     "text": [
      "Epoch 159/300 - Train Loss: 0.2394, Train Accuracy: 0.9089, Test Loss: 2.0675, Test Accuracy: 0.6321\n"
     ]
    },
    {
     "name": "stderr",
     "output_type": "stream",
     "text": [
      "100%|██████████| 19/19 [00:11<00:00,  1.61it/s]\n"
     ]
    },
    {
     "name": "stdout",
     "output_type": "stream",
     "text": [
      "Epoch 160/300 - Train Loss: 0.2252, Train Accuracy: 0.9130, Test Loss: 2.7928, Test Accuracy: 0.5953\n"
     ]
    },
    {
     "name": "stderr",
     "output_type": "stream",
     "text": [
      "100%|██████████| 19/19 [00:11<00:00,  1.62it/s]\n"
     ]
    },
    {
     "name": "stdout",
     "output_type": "stream",
     "text": [
      "Epoch 161/300 - Train Loss: 0.2013, Train Accuracy: 0.9147, Test Loss: 3.2789, Test Accuracy: 0.5987\n"
     ]
    },
    {
     "name": "stderr",
     "output_type": "stream",
     "text": [
      "100%|██████████| 19/19 [00:11<00:00,  1.62it/s]\n"
     ]
    },
    {
     "name": "stdout",
     "output_type": "stream",
     "text": [
      "Epoch 162/300 - Train Loss: 0.2599, Train Accuracy: 0.8896, Test Loss: 2.2018, Test Accuracy: 0.6321\n"
     ]
    },
    {
     "name": "stderr",
     "output_type": "stream",
     "text": [
      "100%|██████████| 19/19 [00:11<00:00,  1.62it/s]\n"
     ]
    },
    {
     "name": "stdout",
     "output_type": "stream",
     "text": [
      "Epoch 163/300 - Train Loss: 0.2334, Train Accuracy: 0.8988, Test Loss: 1.9901, Test Accuracy: 0.6421\n"
     ]
    },
    {
     "name": "stderr",
     "output_type": "stream",
     "text": [
      "100%|██████████| 19/19 [00:11<00:00,  1.61it/s]\n"
     ]
    },
    {
     "name": "stdout",
     "output_type": "stream",
     "text": [
      "Epoch 164/300 - Train Loss: 0.2446, Train Accuracy: 0.9022, Test Loss: 2.5381, Test Accuracy: 0.6054\n"
     ]
    },
    {
     "name": "stderr",
     "output_type": "stream",
     "text": [
      "100%|██████████| 19/19 [00:11<00:00,  1.62it/s]\n"
     ]
    },
    {
     "name": "stdout",
     "output_type": "stream",
     "text": [
      "Epoch 165/300 - Train Loss: 0.2500, Train Accuracy: 0.8855, Test Loss: 1.7963, Test Accuracy: 0.6622\n"
     ]
    },
    {
     "name": "stderr",
     "output_type": "stream",
     "text": [
      "100%|██████████| 19/19 [00:11<00:00,  1.62it/s]\n"
     ]
    },
    {
     "name": "stdout",
     "output_type": "stream",
     "text": [
      "Epoch 166/300 - Train Loss: 0.2014, Train Accuracy: 0.9189, Test Loss: 3.4318, Test Accuracy: 0.5987\n"
     ]
    },
    {
     "name": "stderr",
     "output_type": "stream",
     "text": [
      "100%|██████████| 19/19 [00:11<00:00,  1.62it/s]\n"
     ]
    },
    {
     "name": "stdout",
     "output_type": "stream",
     "text": [
      "Epoch 167/300 - Train Loss: 0.1995, Train Accuracy: 0.9072, Test Loss: 3.1687, Test Accuracy: 0.6054\n"
     ]
    },
    {
     "name": "stderr",
     "output_type": "stream",
     "text": [
      "100%|██████████| 19/19 [00:11<00:00,  1.64it/s]\n"
     ]
    },
    {
     "name": "stdout",
     "output_type": "stream",
     "text": [
      "Epoch 168/300 - Train Loss: 0.2596, Train Accuracy: 0.8863, Test Loss: 4.0595, Test Accuracy: 0.5585\n"
     ]
    },
    {
     "name": "stderr",
     "output_type": "stream",
     "text": [
      "100%|██████████| 19/19 [00:11<00:00,  1.63it/s]\n"
     ]
    },
    {
     "name": "stdout",
     "output_type": "stream",
     "text": [
      "Epoch 169/300 - Train Loss: 0.2541, Train Accuracy: 0.8946, Test Loss: 2.5023, Test Accuracy: 0.6120\n"
     ]
    },
    {
     "name": "stderr",
     "output_type": "stream",
     "text": [
      "100%|██████████| 19/19 [00:11<00:00,  1.61it/s]\n"
     ]
    },
    {
     "name": "stdout",
     "output_type": "stream",
     "text": [
      "Epoch 170/300 - Train Loss: 0.2222, Train Accuracy: 0.9105, Test Loss: 2.1212, Test Accuracy: 0.6622\n"
     ]
    },
    {
     "name": "stderr",
     "output_type": "stream",
     "text": [
      "100%|██████████| 19/19 [00:11<00:00,  1.61it/s]\n"
     ]
    },
    {
     "name": "stdout",
     "output_type": "stream",
     "text": [
      "Epoch 171/300 - Train Loss: 0.2066, Train Accuracy: 0.9222, Test Loss: 2.4013, Test Accuracy: 0.6254\n"
     ]
    },
    {
     "name": "stderr",
     "output_type": "stream",
     "text": [
      "100%|██████████| 19/19 [00:11<00:00,  1.64it/s]\n"
     ]
    },
    {
     "name": "stdout",
     "output_type": "stream",
     "text": [
      "Epoch 172/300 - Train Loss: 0.2415, Train Accuracy: 0.9130, Test Loss: 2.2838, Test Accuracy: 0.6154\n"
     ]
    },
    {
     "name": "stderr",
     "output_type": "stream",
     "text": [
      "100%|██████████| 19/19 [00:11<00:00,  1.60it/s]\n"
     ]
    },
    {
     "name": "stdout",
     "output_type": "stream",
     "text": [
      "Epoch 173/300 - Train Loss: 0.1995, Train Accuracy: 0.9105, Test Loss: 2.3492, Test Accuracy: 0.6421\n"
     ]
    },
    {
     "name": "stderr",
     "output_type": "stream",
     "text": [
      "100%|██████████| 19/19 [00:11<00:00,  1.63it/s]\n"
     ]
    },
    {
     "name": "stdout",
     "output_type": "stream",
     "text": [
      "Epoch 174/300 - Train Loss: 0.1937, Train Accuracy: 0.9214, Test Loss: 2.6829, Test Accuracy: 0.6488\n"
     ]
    },
    {
     "name": "stderr",
     "output_type": "stream",
     "text": [
      "100%|██████████| 19/19 [00:11<00:00,  1.62it/s]\n"
     ]
    },
    {
     "name": "stdout",
     "output_type": "stream",
     "text": [
      "Epoch 175/300 - Train Loss: 0.2266, Train Accuracy: 0.9022, Test Loss: 2.1166, Test Accuracy: 0.6288\n"
     ]
    },
    {
     "name": "stderr",
     "output_type": "stream",
     "text": [
      "100%|██████████| 19/19 [00:11<00:00,  1.63it/s]\n"
     ]
    },
    {
     "name": "stdout",
     "output_type": "stream",
     "text": [
      "Epoch 176/300 - Train Loss: 0.2353, Train Accuracy: 0.9055, Test Loss: 1.6976, Test Accuracy: 0.6689\n"
     ]
    },
    {
     "name": "stderr",
     "output_type": "stream",
     "text": [
      "100%|██████████| 19/19 [00:11<00:00,  1.63it/s]\n"
     ]
    },
    {
     "name": "stdout",
     "output_type": "stream",
     "text": [
      "Epoch 177/300 - Train Loss: 0.2120, Train Accuracy: 0.9122, Test Loss: 2.1497, Test Accuracy: 0.6656\n"
     ]
    },
    {
     "name": "stderr",
     "output_type": "stream",
     "text": [
      "100%|██████████| 19/19 [00:11<00:00,  1.62it/s]\n"
     ]
    },
    {
     "name": "stdout",
     "output_type": "stream",
     "text": [
      "Epoch 178/300 - Train Loss: 0.2194, Train Accuracy: 0.9164, Test Loss: 1.9375, Test Accuracy: 0.6455\n"
     ]
    },
    {
     "name": "stderr",
     "output_type": "stream",
     "text": [
      "100%|██████████| 19/19 [00:11<00:00,  1.63it/s]\n"
     ]
    },
    {
     "name": "stdout",
     "output_type": "stream",
     "text": [
      "Epoch 179/300 - Train Loss: 0.2033, Train Accuracy: 0.9156, Test Loss: 3.1277, Test Accuracy: 0.6154\n"
     ]
    },
    {
     "name": "stderr",
     "output_type": "stream",
     "text": [
      "100%|██████████| 19/19 [00:11<00:00,  1.62it/s]\n"
     ]
    },
    {
     "name": "stdout",
     "output_type": "stream",
     "text": [
      "Epoch 180/300 - Train Loss: 0.2324, Train Accuracy: 0.9047, Test Loss: 1.7801, Test Accuracy: 0.6589\n"
     ]
    },
    {
     "name": "stderr",
     "output_type": "stream",
     "text": [
      "100%|██████████| 19/19 [00:11<00:00,  1.63it/s]\n"
     ]
    },
    {
     "name": "stdout",
     "output_type": "stream",
     "text": [
      "Epoch 181/300 - Train Loss: 0.1993, Train Accuracy: 0.9139, Test Loss: 3.4265, Test Accuracy: 0.5886\n"
     ]
    },
    {
     "name": "stderr",
     "output_type": "stream",
     "text": [
      "100%|██████████| 19/19 [00:11<00:00,  1.61it/s]\n"
     ]
    },
    {
     "name": "stdout",
     "output_type": "stream",
     "text": [
      "Epoch 182/300 - Train Loss: 0.1591, Train Accuracy: 0.9356, Test Loss: 3.9669, Test Accuracy: 0.5786\n"
     ]
    },
    {
     "name": "stderr",
     "output_type": "stream",
     "text": [
      "100%|██████████| 19/19 [00:11<00:00,  1.61it/s]\n"
     ]
    },
    {
     "name": "stdout",
     "output_type": "stream",
     "text": [
      "Epoch 183/300 - Train Loss: 0.2242, Train Accuracy: 0.9080, Test Loss: 3.7344, Test Accuracy: 0.5886\n"
     ]
    },
    {
     "name": "stderr",
     "output_type": "stream",
     "text": [
      "100%|██████████| 19/19 [00:11<00:00,  1.62it/s]\n"
     ]
    },
    {
     "name": "stdout",
     "output_type": "stream",
     "text": [
      "Epoch 184/300 - Train Loss: 0.2110, Train Accuracy: 0.9030, Test Loss: 2.2949, Test Accuracy: 0.6355\n"
     ]
    },
    {
     "name": "stderr",
     "output_type": "stream",
     "text": [
      "100%|██████████| 19/19 [00:11<00:00,  1.63it/s]\n"
     ]
    },
    {
     "name": "stdout",
     "output_type": "stream",
     "text": [
      "Epoch 185/300 - Train Loss: 0.2155, Train Accuracy: 0.9114, Test Loss: 2.2208, Test Accuracy: 0.6288\n"
     ]
    },
    {
     "name": "stderr",
     "output_type": "stream",
     "text": [
      "100%|██████████| 19/19 [00:11<00:00,  1.64it/s]\n"
     ]
    },
    {
     "name": "stdout",
     "output_type": "stream",
     "text": [
      "Epoch 186/300 - Train Loss: 0.2316, Train Accuracy: 0.9047, Test Loss: 3.1461, Test Accuracy: 0.5920\n"
     ]
    },
    {
     "name": "stderr",
     "output_type": "stream",
     "text": [
      "100%|██████████| 19/19 [00:11<00:00,  1.62it/s]\n"
     ]
    },
    {
     "name": "stdout",
     "output_type": "stream",
     "text": [
      "Epoch 187/300 - Train Loss: 0.1751, Train Accuracy: 0.9365, Test Loss: 2.7802, Test Accuracy: 0.6388\n"
     ]
    },
    {
     "name": "stderr",
     "output_type": "stream",
     "text": [
      "100%|██████████| 19/19 [00:11<00:00,  1.63it/s]\n"
     ]
    },
    {
     "name": "stdout",
     "output_type": "stream",
     "text": [
      "Epoch 188/300 - Train Loss: 0.2250, Train Accuracy: 0.8997, Test Loss: 2.7001, Test Accuracy: 0.6154\n"
     ]
    },
    {
     "name": "stderr",
     "output_type": "stream",
     "text": [
      "100%|██████████| 19/19 [00:11<00:00,  1.62it/s]\n"
     ]
    },
    {
     "name": "stdout",
     "output_type": "stream",
     "text": [
      "Epoch 189/300 - Train Loss: 0.2014, Train Accuracy: 0.9189, Test Loss: 2.8392, Test Accuracy: 0.5886\n"
     ]
    },
    {
     "name": "stderr",
     "output_type": "stream",
     "text": [
      "100%|██████████| 19/19 [00:11<00:00,  1.63it/s]\n"
     ]
    },
    {
     "name": "stdout",
     "output_type": "stream",
     "text": [
      "Epoch 190/300 - Train Loss: 0.2155, Train Accuracy: 0.9072, Test Loss: 3.2864, Test Accuracy: 0.5987\n"
     ]
    },
    {
     "name": "stderr",
     "output_type": "stream",
     "text": [
      "100%|██████████| 19/19 [00:11<00:00,  1.61it/s]\n"
     ]
    },
    {
     "name": "stdout",
     "output_type": "stream",
     "text": [
      "Epoch 191/300 - Train Loss: 0.2117, Train Accuracy: 0.9105, Test Loss: 2.4938, Test Accuracy: 0.6254\n"
     ]
    },
    {
     "name": "stderr",
     "output_type": "stream",
     "text": [
      "100%|██████████| 19/19 [00:11<00:00,  1.62it/s]\n"
     ]
    },
    {
     "name": "stdout",
     "output_type": "stream",
     "text": [
      "Epoch 192/300 - Train Loss: 0.1816, Train Accuracy: 0.9356, Test Loss: 2.5064, Test Accuracy: 0.6488\n"
     ]
    },
    {
     "name": "stderr",
     "output_type": "stream",
     "text": [
      "100%|██████████| 19/19 [00:11<00:00,  1.62it/s]\n"
     ]
    },
    {
     "name": "stdout",
     "output_type": "stream",
     "text": [
      "Epoch 193/300 - Train Loss: 0.1647, Train Accuracy: 0.9339, Test Loss: 2.8402, Test Accuracy: 0.6154\n"
     ]
    },
    {
     "name": "stderr",
     "output_type": "stream",
     "text": [
      "100%|██████████| 19/19 [00:11<00:00,  1.63it/s]\n"
     ]
    },
    {
     "name": "stdout",
     "output_type": "stream",
     "text": [
      "Epoch 194/300 - Train Loss: 0.1835, Train Accuracy: 0.9239, Test Loss: 2.3624, Test Accuracy: 0.6254\n"
     ]
    },
    {
     "name": "stderr",
     "output_type": "stream",
     "text": [
      "100%|██████████| 19/19 [00:11<00:00,  1.63it/s]\n"
     ]
    },
    {
     "name": "stdout",
     "output_type": "stream",
     "text": [
      "Epoch 195/300 - Train Loss: 0.2005, Train Accuracy: 0.9239, Test Loss: 2.4692, Test Accuracy: 0.6254\n"
     ]
    },
    {
     "name": "stderr",
     "output_type": "stream",
     "text": [
      "100%|██████████| 19/19 [00:11<00:00,  1.63it/s]\n"
     ]
    },
    {
     "name": "stdout",
     "output_type": "stream",
     "text": [
      "Epoch 196/300 - Train Loss: 0.2187, Train Accuracy: 0.9130, Test Loss: 2.5620, Test Accuracy: 0.6187\n"
     ]
    },
    {
     "name": "stderr",
     "output_type": "stream",
     "text": [
      "100%|██████████| 19/19 [00:11<00:00,  1.62it/s]\n"
     ]
    },
    {
     "name": "stdout",
     "output_type": "stream",
     "text": [
      "Epoch 197/300 - Train Loss: 0.2113, Train Accuracy: 0.9181, Test Loss: 2.9410, Test Accuracy: 0.5886\n"
     ]
    },
    {
     "name": "stderr",
     "output_type": "stream",
     "text": [
      "100%|██████████| 19/19 [00:11<00:00,  1.61it/s]\n"
     ]
    },
    {
     "name": "stdout",
     "output_type": "stream",
     "text": [
      "Epoch 198/300 - Train Loss: 0.1988, Train Accuracy: 0.9206, Test Loss: 2.4342, Test Accuracy: 0.6321\n"
     ]
    },
    {
     "name": "stderr",
     "output_type": "stream",
     "text": [
      "100%|██████████| 19/19 [00:11<00:00,  1.63it/s]\n"
     ]
    },
    {
     "name": "stdout",
     "output_type": "stream",
     "text": [
      "Epoch 199/300 - Train Loss: 0.1783, Train Accuracy: 0.9289, Test Loss: 2.7799, Test Accuracy: 0.6120\n"
     ]
    },
    {
     "name": "stderr",
     "output_type": "stream",
     "text": [
      "100%|██████████| 19/19 [00:11<00:00,  1.62it/s]\n"
     ]
    },
    {
     "name": "stdout",
     "output_type": "stream",
     "text": [
      "Epoch 200/300 - Train Loss: 0.2180, Train Accuracy: 0.9105, Test Loss: 2.6231, Test Accuracy: 0.6321\n"
     ]
    },
    {
     "name": "stderr",
     "output_type": "stream",
     "text": [
      "100%|██████████| 19/19 [00:11<00:00,  1.64it/s]\n"
     ]
    },
    {
     "name": "stdout",
     "output_type": "stream",
     "text": [
      "Epoch 201/300 - Train Loss: 0.2165, Train Accuracy: 0.9072, Test Loss: 1.9805, Test Accuracy: 0.6555\n"
     ]
    },
    {
     "name": "stderr",
     "output_type": "stream",
     "text": [
      "100%|██████████| 19/19 [00:11<00:00,  1.63it/s]\n"
     ]
    },
    {
     "name": "stdout",
     "output_type": "stream",
     "text": [
      "Epoch 202/300 - Train Loss: 0.2001, Train Accuracy: 0.9197, Test Loss: 2.2713, Test Accuracy: 0.6355\n"
     ]
    },
    {
     "name": "stderr",
     "output_type": "stream",
     "text": [
      "100%|██████████| 19/19 [00:11<00:00,  1.63it/s]\n"
     ]
    },
    {
     "name": "stdout",
     "output_type": "stream",
     "text": [
      "Epoch 203/300 - Train Loss: 0.1931, Train Accuracy: 0.9247, Test Loss: 2.2531, Test Accuracy: 0.6555\n"
     ]
    },
    {
     "name": "stderr",
     "output_type": "stream",
     "text": [
      "100%|██████████| 19/19 [00:11<00:00,  1.62it/s]\n"
     ]
    },
    {
     "name": "stdout",
     "output_type": "stream",
     "text": [
      "Epoch 204/300 - Train Loss: 0.1990, Train Accuracy: 0.9164, Test Loss: 2.9993, Test Accuracy: 0.6120\n"
     ]
    },
    {
     "name": "stderr",
     "output_type": "stream",
     "text": [
      "100%|██████████| 19/19 [00:11<00:00,  1.61it/s]\n"
     ]
    },
    {
     "name": "stdout",
     "output_type": "stream",
     "text": [
      "Epoch 205/300 - Train Loss: 0.2296, Train Accuracy: 0.9122, Test Loss: 1.8033, Test Accuracy: 0.6555\n"
     ]
    },
    {
     "name": "stderr",
     "output_type": "stream",
     "text": [
      "100%|██████████| 19/19 [00:11<00:00,  1.62it/s]\n"
     ]
    },
    {
     "name": "stdout",
     "output_type": "stream",
     "text": [
      "Epoch 206/300 - Train Loss: 0.1828, Train Accuracy: 0.9323, Test Loss: 2.2310, Test Accuracy: 0.6388\n"
     ]
    },
    {
     "name": "stderr",
     "output_type": "stream",
     "text": [
      "100%|██████████| 19/19 [00:11<00:00,  1.62it/s]\n"
     ]
    },
    {
     "name": "stdout",
     "output_type": "stream",
     "text": [
      "Epoch 207/300 - Train Loss: 0.2075, Train Accuracy: 0.9156, Test Loss: 2.0394, Test Accuracy: 0.6589\n"
     ]
    },
    {
     "name": "stderr",
     "output_type": "stream",
     "text": [
      "100%|██████████| 19/19 [00:12<00:00,  1.57it/s]\n"
     ]
    },
    {
     "name": "stdout",
     "output_type": "stream",
     "text": [
      "Epoch 208/300 - Train Loss: 0.1796, Train Accuracy: 0.9222, Test Loss: 3.0692, Test Accuracy: 0.6120\n"
     ]
    },
    {
     "name": "stderr",
     "output_type": "stream",
     "text": [
      "100%|██████████| 19/19 [00:11<00:00,  1.62it/s]\n"
     ]
    },
    {
     "name": "stdout",
     "output_type": "stream",
     "text": [
      "Epoch 209/300 - Train Loss: 0.1836, Train Accuracy: 0.9181, Test Loss: 2.0261, Test Accuracy: 0.6656\n"
     ]
    },
    {
     "name": "stderr",
     "output_type": "stream",
     "text": [
      "100%|██████████| 19/19 [00:11<00:00,  1.63it/s]\n"
     ]
    },
    {
     "name": "stdout",
     "output_type": "stream",
     "text": [
      "Epoch 210/300 - Train Loss: 0.1825, Train Accuracy: 0.9247, Test Loss: 2.2768, Test Accuracy: 0.6488\n"
     ]
    },
    {
     "name": "stderr",
     "output_type": "stream",
     "text": [
      "100%|██████████| 19/19 [00:11<00:00,  1.65it/s]\n"
     ]
    },
    {
     "name": "stdout",
     "output_type": "stream",
     "text": [
      "Epoch 211/300 - Train Loss: 0.2067, Train Accuracy: 0.9064, Test Loss: 1.8490, Test Accuracy: 0.6522\n"
     ]
    },
    {
     "name": "stderr",
     "output_type": "stream",
     "text": [
      "100%|██████████| 19/19 [00:11<00:00,  1.64it/s]\n"
     ]
    },
    {
     "name": "stdout",
     "output_type": "stream",
     "text": [
      "Epoch 212/300 - Train Loss: 0.1927, Train Accuracy: 0.9181, Test Loss: 3.3045, Test Accuracy: 0.5953\n"
     ]
    },
    {
     "name": "stderr",
     "output_type": "stream",
     "text": [
      "100%|██████████| 19/19 [00:11<00:00,  1.66it/s]\n"
     ]
    },
    {
     "name": "stdout",
     "output_type": "stream",
     "text": [
      "Epoch 213/300 - Train Loss: 0.1881, Train Accuracy: 0.9273, Test Loss: 3.6872, Test Accuracy: 0.5853\n"
     ]
    },
    {
     "name": "stderr",
     "output_type": "stream",
     "text": [
      "100%|██████████| 19/19 [00:11<00:00,  1.63it/s]\n"
     ]
    },
    {
     "name": "stdout",
     "output_type": "stream",
     "text": [
      "Epoch 214/300 - Train Loss: 0.1606, Train Accuracy: 0.9298, Test Loss: 2.4176, Test Accuracy: 0.6789\n"
     ]
    },
    {
     "name": "stderr",
     "output_type": "stream",
     "text": [
      "100%|██████████| 19/19 [00:11<00:00,  1.65it/s]\n"
     ]
    },
    {
     "name": "stdout",
     "output_type": "stream",
     "text": [
      "Epoch 215/300 - Train Loss: 0.1747, Train Accuracy: 0.9339, Test Loss: 2.3979, Test Accuracy: 0.6689\n"
     ]
    },
    {
     "name": "stderr",
     "output_type": "stream",
     "text": [
      "100%|██████████| 19/19 [00:11<00:00,  1.64it/s]\n"
     ]
    },
    {
     "name": "stdout",
     "output_type": "stream",
     "text": [
      "Epoch 216/300 - Train Loss: 0.1875, Train Accuracy: 0.9306, Test Loss: 2.3775, Test Accuracy: 0.6455\n"
     ]
    },
    {
     "name": "stderr",
     "output_type": "stream",
     "text": [
      "100%|██████████| 19/19 [00:11<00:00,  1.65it/s]\n"
     ]
    },
    {
     "name": "stdout",
     "output_type": "stream",
     "text": [
      "Epoch 217/300 - Train Loss: 0.1760, Train Accuracy: 0.9365, Test Loss: 4.6127, Test Accuracy: 0.5552\n"
     ]
    },
    {
     "name": "stderr",
     "output_type": "stream",
     "text": [
      "100%|██████████| 19/19 [00:11<00:00,  1.65it/s]\n"
     ]
    },
    {
     "name": "stdout",
     "output_type": "stream",
     "text": [
      "Epoch 218/300 - Train Loss: 0.1717, Train Accuracy: 0.9264, Test Loss: 3.6658, Test Accuracy: 0.5987\n"
     ]
    },
    {
     "name": "stderr",
     "output_type": "stream",
     "text": [
      "100%|██████████| 19/19 [00:11<00:00,  1.64it/s]\n"
     ]
    },
    {
     "name": "stdout",
     "output_type": "stream",
     "text": [
      "Epoch 219/300 - Train Loss: 0.1923, Train Accuracy: 0.9197, Test Loss: 2.2583, Test Accuracy: 0.6421\n"
     ]
    },
    {
     "name": "stderr",
     "output_type": "stream",
     "text": [
      "100%|██████████| 19/19 [00:11<00:00,  1.64it/s]\n"
     ]
    },
    {
     "name": "stdout",
     "output_type": "stream",
     "text": [
      "Epoch 220/300 - Train Loss: 0.2028, Train Accuracy: 0.9122, Test Loss: 2.5651, Test Accuracy: 0.6187\n"
     ]
    },
    {
     "name": "stderr",
     "output_type": "stream",
     "text": [
      "100%|██████████| 19/19 [00:11<00:00,  1.63it/s]\n"
     ]
    },
    {
     "name": "stdout",
     "output_type": "stream",
     "text": [
      "Epoch 221/300 - Train Loss: 0.1890, Train Accuracy: 0.9164, Test Loss: 2.7060, Test Accuracy: 0.6288\n"
     ]
    },
    {
     "name": "stderr",
     "output_type": "stream",
     "text": [
      "100%|██████████| 19/19 [00:11<00:00,  1.65it/s]\n"
     ]
    },
    {
     "name": "stdout",
     "output_type": "stream",
     "text": [
      "Epoch 222/300 - Train Loss: 0.2025, Train Accuracy: 0.9181, Test Loss: 3.8816, Test Accuracy: 0.5686\n"
     ]
    },
    {
     "name": "stderr",
     "output_type": "stream",
     "text": [
      "100%|██████████| 19/19 [00:11<00:00,  1.64it/s]\n"
     ]
    },
    {
     "name": "stdout",
     "output_type": "stream",
     "text": [
      "Epoch 223/300 - Train Loss: 0.2116, Train Accuracy: 0.9080, Test Loss: 2.4055, Test Accuracy: 0.6288\n"
     ]
    },
    {
     "name": "stderr",
     "output_type": "stream",
     "text": [
      "100%|██████████| 19/19 [00:11<00:00,  1.66it/s]\n"
     ]
    },
    {
     "name": "stdout",
     "output_type": "stream",
     "text": [
      "Epoch 224/300 - Train Loss: 0.2067, Train Accuracy: 0.9281, Test Loss: 2.1156, Test Accuracy: 0.6622\n"
     ]
    },
    {
     "name": "stderr",
     "output_type": "stream",
     "text": [
      "100%|██████████| 19/19 [00:11<00:00,  1.65it/s]\n"
     ]
    },
    {
     "name": "stdout",
     "output_type": "stream",
     "text": [
      "Epoch 225/300 - Train Loss: 0.1715, Train Accuracy: 0.9323, Test Loss: 2.8592, Test Accuracy: 0.6321\n"
     ]
    },
    {
     "name": "stderr",
     "output_type": "stream",
     "text": [
      "100%|██████████| 19/19 [00:11<00:00,  1.64it/s]\n"
     ]
    },
    {
     "name": "stdout",
     "output_type": "stream",
     "text": [
      "Epoch 226/300 - Train Loss: 0.2178, Train Accuracy: 0.9130, Test Loss: 2.5739, Test Accuracy: 0.5819\n"
     ]
    },
    {
     "name": "stderr",
     "output_type": "stream",
     "text": [
      "100%|██████████| 19/19 [00:11<00:00,  1.65it/s]\n"
     ]
    },
    {
     "name": "stdout",
     "output_type": "stream",
     "text": [
      "Epoch 227/300 - Train Loss: 0.1811, Train Accuracy: 0.9273, Test Loss: 2.9898, Test Accuracy: 0.6054\n"
     ]
    },
    {
     "name": "stderr",
     "output_type": "stream",
     "text": [
      "100%|██████████| 19/19 [00:11<00:00,  1.64it/s]\n"
     ]
    },
    {
     "name": "stdout",
     "output_type": "stream",
     "text": [
      "Epoch 228/300 - Train Loss: 0.2394, Train Accuracy: 0.9089, Test Loss: 2.1427, Test Accuracy: 0.6221\n"
     ]
    },
    {
     "name": "stderr",
     "output_type": "stream",
     "text": [
      "100%|██████████| 19/19 [00:11<00:00,  1.65it/s]\n"
     ]
    },
    {
     "name": "stdout",
     "output_type": "stream",
     "text": [
      "Epoch 229/300 - Train Loss: 0.1770, Train Accuracy: 0.9323, Test Loss: 1.8649, Test Accuracy: 0.6589\n"
     ]
    },
    {
     "name": "stderr",
     "output_type": "stream",
     "text": [
      "100%|██████████| 19/19 [00:11<00:00,  1.65it/s]\n"
     ]
    },
    {
     "name": "stdout",
     "output_type": "stream",
     "text": [
      "Epoch 230/300 - Train Loss: 0.1636, Train Accuracy: 0.9406, Test Loss: 2.1530, Test Accuracy: 0.6689\n",
      "Early stopping triggered after 230 epochs.\n",
      "Best model saved with accuracy: 0.6789\n"
     ]
    }
   ],
   "source": [
    "best_model, train_acc_list, train_loss_list, test_acc_list, test_loss_list = train(model, train_X, test_X, train_y, test_y, n_epochs=300)\n"
   ]
  },
  {
   "cell_type": "code",
   "execution_count": 25,
   "metadata": {},
   "outputs": [
    {
     "data": {
      "text/plain": [
       "Text(0.5, 0, 'epoch')"
      ]
     },
     "execution_count": 25,
     "metadata": {},
     "output_type": "execute_result"
    },
    {
     "data": {
      "image/png": "[encoded data removed]",
      "text/plain": [
       "<Figure size 640x480 with 1 Axes>"
      ]
     },
     "metadata": {},
     "output_type": "display_data"
    }
   ],
   "source": [
    "plt.plot(train_acc_list, label='train_acc')\n",
    "plt.plot(test_acc_list, label='test_acc')\n",
    "plt.xlabel('epoch')"
   ]
  },
  {
   "cell_type": "code",
   "execution_count": 26,
   "metadata": {},
   "outputs": [
    {
     "data": {
      "text/plain": [
       "Text(0.5, 0, 'epoch')"
      ]
     },
     "execution_count": 26,
     "metadata": {},
     "output_type": "execute_result"
    },
    {
     "data": {
      "image/png": "[encoded data removed]",
      "text/plain": [
       "<Figure size 640x480 with 1 Axes>"
      ]
     },
     "metadata": {},
     "output_type": "display_data"
    }
   ],
   "source": [
    "plt.plot(train_loss_list, label='train_loss')\n",
    "plt.plot(test_loss_list, label='test_loss')\n",
    "plt.xlabel('epoch')"
   ]
  },
  {
   "cell_type": "code",
   "execution_count": 27,
   "metadata": {},
   "outputs": [
    {
     "name": "stdout",
     "output_type": "stream",
     "text": [
      "Test Accuracy: 0.6689\n"
     ]
    }
   ],
   "source": [
    "best_model.eval()\n",
    "with torch.no_grad():\n",
    "    correct = 0\n",
    "    total = 0\n",
    "    \n",
    "    for inputs, labels in test_loader:\n",
    "        inputs = inputs.to(device)\n",
    "        labels = labels.to(device)\n",
    "        \n",
    "        outputs = best_model(inputs)\n",
    "        _, predicted = torch.max(outputs.data, 1)\n",
    "        # Remove the incorrect line attempting to use torch.max on labels\n",
    "        total += labels.size(0)\n",
    "        correct += (predicted == labels).sum().item()  # Compare predicted directly to labels\n",
    "    \n",
    "    test_accuracy = correct / total\n",
    "\n",
    "print(f\"Test Accuracy: {test_accuracy:.4f}\")\n"
   ]
  },
  {
   "cell_type": "code",
   "execution_count": null,
   "metadata": {},
   "outputs": [],
   "source": []
  }
 ],
 "metadata": {
  "kernelspec": {
   "display_name": "eeg_decoder",
   "language": "python",
   "name": "python3"
  },
  "language_info": {
   "codemirror_mode": {
    "name": "ipython",
    "version": 3
   },
   "file_extension": ".py",
   "mimetype": "text/x-python",
   "name": "python",
   "nbconvert_exporter": "python",
   "pygments_lexer": "ipython3",
   "version": "3.10.13"
  }
 },
 "nbformat": 4,
 "nbformat_minor": 2
}
