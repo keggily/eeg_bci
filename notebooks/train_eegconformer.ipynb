{
 "cells": [
  {
   "cell_type": "code",
   "execution_count": 1,
   "metadata": {},
   "outputs": [
    {
     "name": "stdout",
     "output_type": "stream",
     "text": [
      "local\n"
     ]
    }
   ],
   "source": [
    "import matplotlib.pyplot as plt\n",
    "import numpy as np\n",
    "import os\n",
    "import pandas as pd\n",
    "import sys\n",
    "import torch\n",
    "import torch.nn as nn\n",
    "import torch.optim as optim\n",
    "from torch.utils.data import DataLoader, TensorDataset\n",
    "from tqdm import tqdm\n",
    "\n",
    "from sklearn.discriminant_analysis import LinearDiscriminantAnalysis\n",
    "from sklearn.model_selection import ShuffleSplit, cross_val_score, train_test_split\n",
    "from sklearn.pipeline import Pipeline\n",
    "from sklearn.preprocessing import OneHotEncoder, LabelEncoder, RobustScaler\n",
    "\n",
    "import mne\n",
    "from mne import Epochs, pick_types, events_from_annotations\n",
    "from mne.channels import make_standard_montage\n",
    "from mne.datasets import eegbci\n",
    "from mne.decoding import CSP\n",
    "from mne.io import concatenate_raws, read_raw_edf\n",
    "from mne.preprocessing import ICA\n",
    "\n",
    "from braindecode.datasets import create_from_mne_raw, create_from_mne_epochs\n",
    "from braindecode.preprocessing import create_windows_from_events\n",
    "\n",
    "\n",
    "sys.path.append('../models')\n",
    "from eegconformer import EEGConformer\n"
   ]
  },
  {
   "cell_type": "markdown",
   "metadata": {},
   "source": [
    "### Loading data and preprocessing\n",
    "Using all runs for motor imagery task classifying hands vs. feet on first 50 subjects. "
   ]
  },
  {
   "cell_type": "code",
   "execution_count": 2,
   "metadata": {},
   "outputs": [
    {
     "name": "stdout",
     "output_type": "stream",
     "text": [
      "Automatically created module for IPython interactive environment\n",
      "Extracting EDF parameters from C:\\Users\\Hannah\\mne_data\\MNE-eegbci-data\\files\\eegmmidb\\1.0.0\\S001\\S001R06.edf...\n",
      "EDF file detected\n",
      "Setting channel info structure...\n",
      "Creating raw.info structure...\n",
      "Reading 0 ... 19999  =      0.000 ...   124.994 secs...\n",
      "Extracting EDF parameters from C:\\Users\\Hannah\\mne_data\\MNE-eegbci-data\\files\\eegmmidb\\1.0.0\\S001\\S001R10.edf...\n",
      "EDF file detected\n",
      "Setting channel info structure...\n",
      "Creating raw.info structure...\n",
      "Reading 0 ... 19999  =      0.000 ...   124.994 secs...\n",
      "Extracting EDF parameters from C:\\Users\\Hannah\\mne_data\\MNE-eegbci-data\\files\\eegmmidb\\1.0.0\\S001\\S001R14.edf...\n",
      "EDF file detected\n",
      "Setting channel info structure...\n",
      "Creating raw.info structure...\n",
      "Reading 0 ... 19999  =      0.000 ...   124.994 secs...\n",
      "Successfully processed subject 1.\n",
      "Extracting EDF parameters from C:\\Users\\Hannah\\mne_data\\MNE-eegbci-data\\files\\eegmmidb\\1.0.0\\S002\\S002R06.edf...\n",
      "EDF file detected\n",
      "Setting channel info structure...\n",
      "Creating raw.info structure...\n",
      "Reading 0 ... 19679  =      0.000 ...   122.994 secs...\n",
      "Extracting EDF parameters from C:\\Users\\Hannah\\mne_data\\MNE-eegbci-data\\files\\eegmmidb\\1.0.0\\S002\\S002R10.edf...\n",
      "EDF file detected\n",
      "Setting channel info structure...\n",
      "Creating raw.info structure...\n",
      "Reading 0 ... 19679  =      0.000 ...   122.994 secs...\n",
      "Extracting EDF parameters from C:\\Users\\Hannah\\mne_data\\MNE-eegbci-data\\files\\eegmmidb\\1.0.0\\S002\\S002R14.edf...\n",
      "EDF file detected\n",
      "Setting channel info structure...\n",
      "Creating raw.info structure...\n",
      "Reading 0 ... 19679  =      0.000 ...   122.994 secs...\n",
      "Successfully processed subject 2.\n",
      "Extracting EDF parameters from C:\\Users\\Hannah\\mne_data\\MNE-eegbci-data\\files\\eegmmidb\\1.0.0\\S003\\S003R06.edf...\n",
      "EDF file detected\n",
      "Setting channel info structure...\n",
      "Creating raw.info structure...\n",
      "Reading 0 ... 19999  =      0.000 ...   124.994 secs...\n",
      "Extracting EDF parameters from C:\\Users\\Hannah\\mne_data\\MNE-eegbci-data\\files\\eegmmidb\\1.0.0\\S003\\S003R10.edf...\n",
      "EDF file detected\n",
      "Setting channel info structure...\n",
      "Creating raw.info structure...\n",
      "Reading 0 ... 19999  =      0.000 ...   124.994 secs...\n",
      "Extracting EDF parameters from C:\\Users\\Hannah\\mne_data\\MNE-eegbci-data\\files\\eegmmidb\\1.0.0\\S003\\S003R14.edf...\n",
      "EDF file detected\n",
      "Setting channel info structure...\n",
      "Creating raw.info structure...\n",
      "Reading 0 ... 19999  =      0.000 ...   124.994 secs...\n",
      "Successfully processed subject 3.\n",
      "Extracting EDF parameters from C:\\Users\\Hannah\\mne_data\\MNE-eegbci-data\\files\\eegmmidb\\1.0.0\\S004\\S004R06.edf...\n",
      "EDF file detected\n",
      "Setting channel info structure...\n",
      "Creating raw.info structure...\n",
      "Reading 0 ... 19679  =      0.000 ...   122.994 secs...\n",
      "Extracting EDF parameters from C:\\Users\\Hannah\\mne_data\\MNE-eegbci-data\\files\\eegmmidb\\1.0.0\\S004\\S004R10.edf...\n",
      "EDF file detected\n",
      "Setting channel info structure...\n",
      "Creating raw.info structure...\n",
      "Reading 0 ... 19679  =      0.000 ...   122.994 secs...\n",
      "Extracting EDF parameters from C:\\Users\\Hannah\\mne_data\\MNE-eegbci-data\\files\\eegmmidb\\1.0.0\\S004\\S004R14.edf...\n",
      "EDF file detected\n",
      "Setting channel info structure...\n",
      "Creating raw.info structure...\n",
      "Reading 0 ... 19679  =      0.000 ...   122.994 secs...\n",
      "Successfully processed subject 4.\n",
      "Extracting EDF parameters from C:\\Users\\Hannah\\mne_data\\MNE-eegbci-data\\files\\eegmmidb\\1.0.0\\S005\\S005R06.edf...\n",
      "EDF file detected\n",
      "Setting channel info structure...\n",
      "Creating raw.info structure...\n",
      "Reading 0 ... 19679  =      0.000 ...   122.994 secs...\n",
      "Extracting EDF parameters from C:\\Users\\Hannah\\mne_data\\MNE-eegbci-data\\files\\eegmmidb\\1.0.0\\S005\\S005R10.edf...\n",
      "EDF file detected\n",
      "Setting channel info structure...\n",
      "Creating raw.info structure...\n",
      "Reading 0 ... 19679  =      0.000 ...   122.994 secs...\n",
      "Extracting EDF parameters from C:\\Users\\Hannah\\mne_data\\MNE-eegbci-data\\files\\eegmmidb\\1.0.0\\S005\\S005R14.edf...\n",
      "EDF file detected\n",
      "Setting channel info structure...\n",
      "Creating raw.info structure...\n",
      "Reading 0 ... 19679  =      0.000 ...   122.994 secs...\n",
      "Successfully processed subject 5.\n",
      "Extracting EDF parameters from C:\\Users\\Hannah\\mne_data\\MNE-eegbci-data\\files\\eegmmidb\\1.0.0\\S006\\S006R06.edf...\n",
      "EDF file detected\n",
      "Setting channel info structure...\n",
      "Creating raw.info structure...\n",
      "Reading 0 ... 19679  =      0.000 ...   122.994 secs...\n",
      "Extracting EDF parameters from C:\\Users\\Hannah\\mne_data\\MNE-eegbci-data\\files\\eegmmidb\\1.0.0\\S006\\S006R10.edf...\n",
      "EDF file detected\n",
      "Setting channel info structure...\n",
      "Creating raw.info structure...\n",
      "Reading 0 ... 19679  =      0.000 ...   122.994 secs...\n",
      "Extracting EDF parameters from C:\\Users\\Hannah\\mne_data\\MNE-eegbci-data\\files\\eegmmidb\\1.0.0\\S006\\S006R14.edf...\n",
      "EDF file detected\n",
      "Setting channel info structure...\n",
      "Creating raw.info structure...\n",
      "Reading 0 ... 19679  =      0.000 ...   122.994 secs...\n",
      "Successfully processed subject 6.\n",
      "Extracting EDF parameters from C:\\Users\\Hannah\\mne_data\\MNE-eegbci-data\\files\\eegmmidb\\1.0.0\\S007\\S007R06.edf...\n",
      "EDF file detected\n",
      "Setting channel info structure...\n",
      "Creating raw.info structure...\n",
      "Reading 0 ... 19999  =      0.000 ...   124.994 secs...\n",
      "Extracting EDF parameters from C:\\Users\\Hannah\\mne_data\\MNE-eegbci-data\\files\\eegmmidb\\1.0.0\\S007\\S007R10.edf...\n",
      "EDF file detected\n",
      "Setting channel info structure...\n",
      "Creating raw.info structure...\n",
      "Reading 0 ... 19999  =      0.000 ...   124.994 secs...\n",
      "Extracting EDF parameters from C:\\Users\\Hannah\\mne_data\\MNE-eegbci-data\\files\\eegmmidb\\1.0.0\\S007\\S007R14.edf...\n",
      "EDF file detected\n",
      "Setting channel info structure...\n",
      "Creating raw.info structure...\n",
      "Reading 0 ... 19999  =      0.000 ...   124.994 secs...\n",
      "Successfully processed subject 7.\n",
      "Extracting EDF parameters from C:\\Users\\Hannah\\mne_data\\MNE-eegbci-data\\files\\eegmmidb\\1.0.0\\S008\\S008R06.edf...\n",
      "EDF file detected\n",
      "Setting channel info structure...\n",
      "Creating raw.info structure...\n",
      "Reading 0 ... 19679  =      0.000 ...   122.994 secs...\n",
      "Extracting EDF parameters from C:\\Users\\Hannah\\mne_data\\MNE-eegbci-data\\files\\eegmmidb\\1.0.0\\S008\\S008R10.edf...\n",
      "EDF file detected\n",
      "Setting channel info structure...\n",
      "Creating raw.info structure...\n",
      "Reading 0 ... 19679  =      0.000 ...   122.994 secs...\n",
      "Extracting EDF parameters from C:\\Users\\Hannah\\mne_data\\MNE-eegbci-data\\files\\eegmmidb\\1.0.0\\S008\\S008R14.edf...\n",
      "EDF file detected\n",
      "Setting channel info structure...\n",
      "Creating raw.info structure...\n",
      "Reading 0 ... 19679  =      0.000 ...   122.994 secs...\n",
      "Successfully processed subject 8.\n",
      "Extracting EDF parameters from C:\\Users\\Hannah\\mne_data\\MNE-eegbci-data\\files\\eegmmidb\\1.0.0\\S009\\S009R06.edf...\n",
      "EDF file detected\n",
      "Setting channel info structure...\n",
      "Creating raw.info structure...\n",
      "Reading 0 ... 19679  =      0.000 ...   122.994 secs...\n",
      "Extracting EDF parameters from C:\\Users\\Hannah\\mne_data\\MNE-eegbci-data\\files\\eegmmidb\\1.0.0\\S009\\S009R10.edf...\n",
      "EDF file detected\n",
      "Setting channel info structure...\n",
      "Creating raw.info structure...\n",
      "Reading 0 ... 19679  =      0.000 ...   122.994 secs...\n",
      "Extracting EDF parameters from C:\\Users\\Hannah\\mne_data\\MNE-eegbci-data\\files\\eegmmidb\\1.0.0\\S009\\S009R14.edf...\n",
      "EDF file detected\n",
      "Setting channel info structure...\n",
      "Creating raw.info structure...\n",
      "Reading 0 ... 19679  =      0.000 ...   122.994 secs...\n",
      "Successfully processed subject 9.\n",
      "Extracting EDF parameters from C:\\Users\\Hannah\\mne_data\\MNE-eegbci-data\\files\\eegmmidb\\1.0.0\\S010\\S010R06.edf...\n",
      "EDF file detected\n",
      "Setting channel info structure...\n",
      "Creating raw.info structure...\n",
      "Reading 0 ... 19679  =      0.000 ...   122.994 secs...\n",
      "Extracting EDF parameters from C:\\Users\\Hannah\\mne_data\\MNE-eegbci-data\\files\\eegmmidb\\1.0.0\\S010\\S010R10.edf...\n",
      "EDF file detected\n",
      "Setting channel info structure...\n",
      "Creating raw.info structure...\n",
      "Reading 0 ... 19679  =      0.000 ...   122.994 secs...\n",
      "Extracting EDF parameters from C:\\Users\\Hannah\\mne_data\\MNE-eegbci-data\\files\\eegmmidb\\1.0.0\\S010\\S010R14.edf...\n",
      "EDF file detected\n",
      "Setting channel info structure...\n",
      "Creating raw.info structure...\n",
      "Reading 0 ... 19679  =      0.000 ...   122.994 secs...\n",
      "Successfully processed subject 10.\n",
      "Extracting EDF parameters from C:\\Users\\Hannah\\mne_data\\MNE-eegbci-data\\files\\eegmmidb\\1.0.0\\S011\\S011R06.edf...\n",
      "EDF file detected\n",
      "Setting channel info structure...\n",
      "Creating raw.info structure...\n",
      "Reading 0 ... 19679  =      0.000 ...   122.994 secs...\n",
      "Extracting EDF parameters from C:\\Users\\Hannah\\mne_data\\MNE-eegbci-data\\files\\eegmmidb\\1.0.0\\S011\\S011R10.edf...\n",
      "EDF file detected\n",
      "Setting channel info structure...\n",
      "Creating raw.info structure...\n",
      "Reading 0 ... 19679  =      0.000 ...   122.994 secs...\n",
      "Extracting EDF parameters from C:\\Users\\Hannah\\mne_data\\MNE-eegbci-data\\files\\eegmmidb\\1.0.0\\S011\\S011R14.edf...\n",
      "EDF file detected\n",
      "Setting channel info structure...\n",
      "Creating raw.info structure...\n",
      "Reading 0 ... 19679  =      0.000 ...   122.994 secs...\n",
      "Successfully processed subject 11.\n",
      "Extracting EDF parameters from C:\\Users\\Hannah\\mne_data\\MNE-eegbci-data\\files\\eegmmidb\\1.0.0\\S012\\S012R06.edf...\n",
      "EDF file detected\n",
      "Setting channel info structure...\n",
      "Creating raw.info structure...\n",
      "Reading 0 ... 19679  =      0.000 ...   122.994 secs...\n",
      "Extracting EDF parameters from C:\\Users\\Hannah\\mne_data\\MNE-eegbci-data\\files\\eegmmidb\\1.0.0\\S012\\S012R10.edf...\n",
      "EDF file detected\n",
      "Setting channel info structure...\n",
      "Creating raw.info structure...\n",
      "Reading 0 ... 19679  =      0.000 ...   122.994 secs...\n",
      "Extracting EDF parameters from C:\\Users\\Hannah\\mne_data\\MNE-eegbci-data\\files\\eegmmidb\\1.0.0\\S012\\S012R14.edf...\n",
      "EDF file detected\n",
      "Setting channel info structure...\n",
      "Creating raw.info structure...\n",
      "Reading 0 ... 19679  =      0.000 ...   122.994 secs...\n",
      "Successfully processed subject 12.\n",
      "Extracting EDF parameters from C:\\Users\\Hannah\\mne_data\\MNE-eegbci-data\\files\\eegmmidb\\1.0.0\\S013\\S013R06.edf...\n",
      "EDF file detected\n",
      "Setting channel info structure...\n",
      "Creating raw.info structure...\n",
      "Reading 0 ... 19679  =      0.000 ...   122.994 secs...\n",
      "Extracting EDF parameters from C:\\Users\\Hannah\\mne_data\\MNE-eegbci-data\\files\\eegmmidb\\1.0.0\\S013\\S013R10.edf...\n",
      "EDF file detected\n",
      "Setting channel info structure...\n",
      "Creating raw.info structure...\n",
      "Reading 0 ... 19679  =      0.000 ...   122.994 secs...\n",
      "Extracting EDF parameters from C:\\Users\\Hannah\\mne_data\\MNE-eegbci-data\\files\\eegmmidb\\1.0.0\\S013\\S013R14.edf...\n",
      "EDF file detected\n",
      "Setting channel info structure...\n",
      "Creating raw.info structure...\n",
      "Reading 0 ... 19679  =      0.000 ...   122.994 secs...\n",
      "Successfully processed subject 13.\n",
      "Extracting EDF parameters from C:\\Users\\Hannah\\mne_data\\MNE-eegbci-data\\files\\eegmmidb\\1.0.0\\S014\\S014R06.edf...\n",
      "EDF file detected\n",
      "Setting channel info structure...\n",
      "Creating raw.info structure...\n",
      "Reading 0 ... 19679  =      0.000 ...   122.994 secs...\n",
      "Extracting EDF parameters from C:\\Users\\Hannah\\mne_data\\MNE-eegbci-data\\files\\eegmmidb\\1.0.0\\S014\\S014R10.edf...\n",
      "EDF file detected\n",
      "Setting channel info structure...\n",
      "Creating raw.info structure...\n",
      "Reading 0 ... 19679  =      0.000 ...   122.994 secs...\n",
      "Extracting EDF parameters from C:\\Users\\Hannah\\mne_data\\MNE-eegbci-data\\files\\eegmmidb\\1.0.0\\S014\\S014R14.edf...\n",
      "EDF file detected\n",
      "Setting channel info structure...\n",
      "Creating raw.info structure...\n",
      "Reading 0 ... 19679  =      0.000 ...   122.994 secs...\n",
      "Successfully processed subject 14.\n",
      "Extracting EDF parameters from C:\\Users\\Hannah\\mne_data\\MNE-eegbci-data\\files\\eegmmidb\\1.0.0\\S015\\S015R06.edf...\n",
      "EDF file detected\n",
      "Setting channel info structure...\n",
      "Creating raw.info structure...\n",
      "Reading 0 ... 19679  =      0.000 ...   122.994 secs...\n",
      "Extracting EDF parameters from C:\\Users\\Hannah\\mne_data\\MNE-eegbci-data\\files\\eegmmidb\\1.0.0\\S015\\S015R10.edf...\n",
      "EDF file detected\n",
      "Setting channel info structure...\n",
      "Creating raw.info structure...\n",
      "Reading 0 ... 19679  =      0.000 ...   122.994 secs...\n",
      "Extracting EDF parameters from C:\\Users\\Hannah\\mne_data\\MNE-eegbci-data\\files\\eegmmidb\\1.0.0\\S015\\S015R14.edf...\n",
      "EDF file detected\n",
      "Setting channel info structure...\n",
      "Creating raw.info structure...\n",
      "Reading 0 ... 19679  =      0.000 ...   122.994 secs...\n",
      "Successfully processed subject 15.\n",
      "Extracting EDF parameters from C:\\Users\\Hannah\\mne_data\\MNE-eegbci-data\\files\\eegmmidb\\1.0.0\\S016\\S016R06.edf...\n",
      "EDF file detected\n",
      "Setting channel info structure...\n",
      "Creating raw.info structure...\n",
      "Reading 0 ... 19679  =      0.000 ...   122.994 secs...\n",
      "Extracting EDF parameters from C:\\Users\\Hannah\\mne_data\\MNE-eegbci-data\\files\\eegmmidb\\1.0.0\\S016\\S016R10.edf...\n",
      "EDF file detected\n",
      "Setting channel info structure...\n",
      "Creating raw.info structure...\n",
      "Reading 0 ... 19679  =      0.000 ...   122.994 secs...\n",
      "Extracting EDF parameters from C:\\Users\\Hannah\\mne_data\\MNE-eegbci-data\\files\\eegmmidb\\1.0.0\\S016\\S016R14.edf...\n",
      "EDF file detected\n",
      "Setting channel info structure...\n",
      "Creating raw.info structure...\n",
      "Reading 0 ... 19679  =      0.000 ...   122.994 secs...\n",
      "Successfully processed subject 16.\n",
      "Extracting EDF parameters from C:\\Users\\Hannah\\mne_data\\MNE-eegbci-data\\files\\eegmmidb\\1.0.0\\S017\\S017R06.edf...\n",
      "EDF file detected\n",
      "Setting channel info structure...\n",
      "Creating raw.info structure...\n",
      "Reading 0 ... 19679  =      0.000 ...   122.994 secs...\n",
      "Extracting EDF parameters from C:\\Users\\Hannah\\mne_data\\MNE-eegbci-data\\files\\eegmmidb\\1.0.0\\S017\\S017R10.edf...\n",
      "EDF file detected\n",
      "Setting channel info structure...\n",
      "Creating raw.info structure...\n",
      "Reading 0 ... 19679  =      0.000 ...   122.994 secs...\n",
      "Extracting EDF parameters from C:\\Users\\Hannah\\mne_data\\MNE-eegbci-data\\files\\eegmmidb\\1.0.0\\S017\\S017R14.edf...\n",
      "EDF file detected\n",
      "Setting channel info structure...\n",
      "Creating raw.info structure...\n",
      "Reading 0 ... 19679  =      0.000 ...   122.994 secs...\n",
      "Successfully processed subject 17.\n",
      "Extracting EDF parameters from C:\\Users\\Hannah\\mne_data\\MNE-eegbci-data\\files\\eegmmidb\\1.0.0\\S018\\S018R06.edf...\n",
      "EDF file detected\n",
      "Setting channel info structure...\n",
      "Creating raw.info structure...\n",
      "Reading 0 ... 19679  =      0.000 ...   122.994 secs...\n",
      "Extracting EDF parameters from C:\\Users\\Hannah\\mne_data\\MNE-eegbci-data\\files\\eegmmidb\\1.0.0\\S018\\S018R10.edf...\n",
      "EDF file detected\n",
      "Setting channel info structure...\n",
      "Creating raw.info structure...\n",
      "Reading 0 ... 19679  =      0.000 ...   122.994 secs...\n",
      "Extracting EDF parameters from C:\\Users\\Hannah\\mne_data\\MNE-eegbci-data\\files\\eegmmidb\\1.0.0\\S018\\S018R14.edf...\n",
      "EDF file detected\n",
      "Setting channel info structure...\n",
      "Creating raw.info structure...\n",
      "Reading 0 ... 19679  =      0.000 ...   122.994 secs...\n",
      "Successfully processed subject 18.\n",
      "Extracting EDF parameters from C:\\Users\\Hannah\\mne_data\\MNE-eegbci-data\\files\\eegmmidb\\1.0.0\\S019\\S019R06.edf...\n",
      "EDF file detected\n",
      "Setting channel info structure...\n",
      "Creating raw.info structure...\n",
      "Reading 0 ... 19679  =      0.000 ...   122.994 secs...\n",
      "Extracting EDF parameters from C:\\Users\\Hannah\\mne_data\\MNE-eegbci-data\\files\\eegmmidb\\1.0.0\\S019\\S019R10.edf...\n",
      "EDF file detected\n",
      "Setting channel info structure...\n",
      "Creating raw.info structure...\n",
      "Reading 0 ... 19679  =      0.000 ...   122.994 secs...\n",
      "Extracting EDF parameters from C:\\Users\\Hannah\\mne_data\\MNE-eegbci-data\\files\\eegmmidb\\1.0.0\\S019\\S019R14.edf...\n",
      "EDF file detected\n",
      "Setting channel info structure...\n",
      "Creating raw.info structure...\n",
      "Reading 0 ... 19679  =      0.000 ...   122.994 secs...\n",
      "Successfully processed subject 19.\n",
      "Extracting EDF parameters from C:\\Users\\Hannah\\mne_data\\MNE-eegbci-data\\files\\eegmmidb\\1.0.0\\S020\\S020R06.edf...\n",
      "EDF file detected\n",
      "Setting channel info structure...\n",
      "Creating raw.info structure...\n",
      "Reading 0 ... 19679  =      0.000 ...   122.994 secs...\n",
      "Extracting EDF parameters from C:\\Users\\Hannah\\mne_data\\MNE-eegbci-data\\files\\eegmmidb\\1.0.0\\S020\\S020R10.edf...\n",
      "EDF file detected\n",
      "Setting channel info structure...\n",
      "Creating raw.info structure...\n",
      "Reading 0 ... 19679  =      0.000 ...   122.994 secs...\n",
      "Extracting EDF parameters from C:\\Users\\Hannah\\mne_data\\MNE-eegbci-data\\files\\eegmmidb\\1.0.0\\S020\\S020R14.edf...\n",
      "EDF file detected\n",
      "Setting channel info structure...\n",
      "Creating raw.info structure...\n",
      "Reading 0 ... 19679  =      0.000 ...   122.994 secs...\n",
      "Successfully processed subject 20.\n",
      "Extracting EDF parameters from C:\\Users\\Hannah\\mne_data\\MNE-eegbci-data\\files\\eegmmidb\\1.0.0\\S021\\S021R06.edf...\n",
      "EDF file detected\n",
      "Setting channel info structure...\n",
      "Creating raw.info structure...\n",
      "Reading 0 ... 19999  =      0.000 ...   124.994 secs...\n",
      "Extracting EDF parameters from C:\\Users\\Hannah\\mne_data\\MNE-eegbci-data\\files\\eegmmidb\\1.0.0\\S021\\S021R10.edf...\n",
      "EDF file detected\n",
      "Setting channel info structure...\n",
      "Creating raw.info structure...\n",
      "Reading 0 ... 19999  =      0.000 ...   124.994 secs...\n",
      "Extracting EDF parameters from C:\\Users\\Hannah\\mne_data\\MNE-eegbci-data\\files\\eegmmidb\\1.0.0\\S021\\S021R14.edf...\n",
      "EDF file detected\n",
      "Setting channel info structure...\n",
      "Creating raw.info structure...\n",
      "Reading 0 ... 19999  =      0.000 ...   124.994 secs...\n",
      "Successfully processed subject 21.\n",
      "Extracting EDF parameters from C:\\Users\\Hannah\\mne_data\\MNE-eegbci-data\\files\\eegmmidb\\1.0.0\\S022\\S022R06.edf...\n",
      "EDF file detected\n",
      "Setting channel info structure...\n",
      "Creating raw.info structure...\n",
      "Reading 0 ... 19999  =      0.000 ...   124.994 secs...\n",
      "Extracting EDF parameters from C:\\Users\\Hannah\\mne_data\\MNE-eegbci-data\\files\\eegmmidb\\1.0.0\\S022\\S022R10.edf...\n",
      "EDF file detected\n",
      "Setting channel info structure...\n",
      "Creating raw.info structure...\n",
      "Reading 0 ... 19999  =      0.000 ...   124.994 secs...\n",
      "Extracting EDF parameters from C:\\Users\\Hannah\\mne_data\\MNE-eegbci-data\\files\\eegmmidb\\1.0.0\\S022\\S022R14.edf...\n",
      "EDF file detected\n",
      "Setting channel info structure...\n",
      "Creating raw.info structure...\n",
      "Reading 0 ... 19999  =      0.000 ...   124.994 secs...\n",
      "Successfully processed subject 22.\n",
      "Extracting EDF parameters from C:\\Users\\Hannah\\mne_data\\MNE-eegbci-data\\files\\eegmmidb\\1.0.0\\S023\\S023R06.edf...\n",
      "EDF file detected\n",
      "Setting channel info structure...\n",
      "Creating raw.info structure...\n",
      "Reading 0 ... 19679  =      0.000 ...   122.994 secs...\n",
      "Extracting EDF parameters from C:\\Users\\Hannah\\mne_data\\MNE-eegbci-data\\files\\eegmmidb\\1.0.0\\S023\\S023R10.edf...\n",
      "EDF file detected\n",
      "Setting channel info structure...\n",
      "Creating raw.info structure...\n",
      "Reading 0 ... 19679  =      0.000 ...   122.994 secs...\n",
      "Extracting EDF parameters from C:\\Users\\Hannah\\mne_data\\MNE-eegbci-data\\files\\eegmmidb\\1.0.0\\S023\\S023R14.edf...\n",
      "EDF file detected\n",
      "Setting channel info structure...\n",
      "Creating raw.info structure...\n",
      "Reading 0 ... 19679  =      0.000 ...   122.994 secs...\n",
      "Successfully processed subject 23.\n",
      "Extracting EDF parameters from C:\\Users\\Hannah\\mne_data\\MNE-eegbci-data\\files\\eegmmidb\\1.0.0\\S024\\S024R06.edf...\n",
      "EDF file detected\n",
      "Setting channel info structure...\n",
      "Creating raw.info structure...\n",
      "Reading 0 ... 19679  =      0.000 ...   122.994 secs...\n",
      "Extracting EDF parameters from C:\\Users\\Hannah\\mne_data\\MNE-eegbci-data\\files\\eegmmidb\\1.0.0\\S024\\S024R10.edf...\n",
      "EDF file detected\n",
      "Setting channel info structure...\n",
      "Creating raw.info structure...\n",
      "Reading 0 ... 19679  =      0.000 ...   122.994 secs...\n",
      "Extracting EDF parameters from C:\\Users\\Hannah\\mne_data\\MNE-eegbci-data\\files\\eegmmidb\\1.0.0\\S024\\S024R14.edf...\n",
      "EDF file detected\n",
      "Setting channel info structure...\n",
      "Creating raw.info structure...\n",
      "Reading 0 ... 19679  =      0.000 ...   122.994 secs...\n",
      "Successfully processed subject 24.\n",
      "Extracting EDF parameters from C:\\Users\\Hannah\\mne_data\\MNE-eegbci-data\\files\\eegmmidb\\1.0.0\\S025\\S025R06.edf...\n",
      "EDF file detected\n",
      "Setting channel info structure...\n",
      "Creating raw.info structure...\n",
      "Reading 0 ... 19679  =      0.000 ...   122.994 secs...\n",
      "Extracting EDF parameters from C:\\Users\\Hannah\\mne_data\\MNE-eegbci-data\\files\\eegmmidb\\1.0.0\\S025\\S025R10.edf...\n",
      "EDF file detected\n",
      "Setting channel info structure...\n",
      "Creating raw.info structure...\n",
      "Reading 0 ... 19679  =      0.000 ...   122.994 secs...\n",
      "Extracting EDF parameters from C:\\Users\\Hannah\\mne_data\\MNE-eegbci-data\\files\\eegmmidb\\1.0.0\\S025\\S025R14.edf...\n",
      "EDF file detected\n",
      "Setting channel info structure...\n",
      "Creating raw.info structure...\n",
      "Reading 0 ... 19679  =      0.000 ...   122.994 secs...\n",
      "Successfully processed subject 25.\n",
      "Extracting EDF parameters from C:\\Users\\Hannah\\mne_data\\MNE-eegbci-data\\files\\eegmmidb\\1.0.0\\S026\\S026R06.edf...\n",
      "EDF file detected\n",
      "Setting channel info structure...\n",
      "Creating raw.info structure...\n",
      "Reading 0 ... 19679  =      0.000 ...   122.994 secs...\n",
      "Extracting EDF parameters from C:\\Users\\Hannah\\mne_data\\MNE-eegbci-data\\files\\eegmmidb\\1.0.0\\S026\\S026R10.edf...\n",
      "EDF file detected\n",
      "Setting channel info structure...\n",
      "Creating raw.info structure...\n",
      "Reading 0 ... 19679  =      0.000 ...   122.994 secs...\n",
      "Extracting EDF parameters from C:\\Users\\Hannah\\mne_data\\MNE-eegbci-data\\files\\eegmmidb\\1.0.0\\S026\\S026R14.edf...\n",
      "EDF file detected\n",
      "Setting channel info structure...\n",
      "Creating raw.info structure...\n",
      "Reading 0 ... 19679  =      0.000 ...   122.994 secs...\n",
      "Successfully processed subject 26.\n",
      "Extracting EDF parameters from C:\\Users\\Hannah\\mne_data\\MNE-eegbci-data\\files\\eegmmidb\\1.0.0\\S027\\S027R06.edf...\n",
      "EDF file detected\n",
      "Setting channel info structure...\n",
      "Creating raw.info structure...\n",
      "Reading 0 ... 19679  =      0.000 ...   122.994 secs...\n",
      "Extracting EDF parameters from C:\\Users\\Hannah\\mne_data\\MNE-eegbci-data\\files\\eegmmidb\\1.0.0\\S027\\S027R10.edf...\n",
      "EDF file detected\n",
      "Setting channel info structure...\n",
      "Creating raw.info structure...\n",
      "Reading 0 ... 19679  =      0.000 ...   122.994 secs...\n",
      "Extracting EDF parameters from C:\\Users\\Hannah\\mne_data\\MNE-eegbci-data\\files\\eegmmidb\\1.0.0\\S027\\S027R14.edf...\n",
      "EDF file detected\n",
      "Setting channel info structure...\n",
      "Creating raw.info structure...\n",
      "Reading 0 ... 19679  =      0.000 ...   122.994 secs...\n",
      "Successfully processed subject 27.\n",
      "Extracting EDF parameters from C:\\Users\\Hannah\\mne_data\\MNE-eegbci-data\\files\\eegmmidb\\1.0.0\\S028\\S028R06.edf...\n",
      "EDF file detected\n",
      "Setting channel info structure...\n",
      "Creating raw.info structure...\n",
      "Reading 0 ... 19679  =      0.000 ...   122.994 secs...\n",
      "Extracting EDF parameters from C:\\Users\\Hannah\\mne_data\\MNE-eegbci-data\\files\\eegmmidb\\1.0.0\\S028\\S028R10.edf...\n",
      "EDF file detected\n",
      "Setting channel info structure...\n",
      "Creating raw.info structure...\n",
      "Reading 0 ... 19679  =      0.000 ...   122.994 secs...\n",
      "Extracting EDF parameters from C:\\Users\\Hannah\\mne_data\\MNE-eegbci-data\\files\\eegmmidb\\1.0.0\\S028\\S028R14.edf...\n",
      "EDF file detected\n",
      "Setting channel info structure...\n",
      "Creating raw.info structure...\n",
      "Reading 0 ... 19679  =      0.000 ...   122.994 secs...\n",
      "Successfully processed subject 28.\n",
      "Extracting EDF parameters from C:\\Users\\Hannah\\mne_data\\MNE-eegbci-data\\files\\eegmmidb\\1.0.0\\S029\\S029R06.edf...\n",
      "EDF file detected\n",
      "Setting channel info structure...\n",
      "Creating raw.info structure...\n",
      "Reading 0 ... 19839  =      0.000 ...   123.994 secs...\n",
      "Extracting EDF parameters from C:\\Users\\Hannah\\mne_data\\MNE-eegbci-data\\files\\eegmmidb\\1.0.0\\S029\\S029R10.edf...\n",
      "EDF file detected\n",
      "Setting channel info structure...\n",
      "Creating raw.info structure...\n",
      "Reading 0 ... 19839  =      0.000 ...   123.994 secs...\n",
      "Extracting EDF parameters from C:\\Users\\Hannah\\mne_data\\MNE-eegbci-data\\files\\eegmmidb\\1.0.0\\S029\\S029R14.edf...\n",
      "EDF file detected\n",
      "Setting channel info structure...\n",
      "Creating raw.info structure...\n",
      "Reading 0 ... 19839  =      0.000 ...   123.994 secs...\n",
      "Successfully processed subject 29.\n",
      "Extracting EDF parameters from C:\\Users\\Hannah\\mne_data\\MNE-eegbci-data\\files\\eegmmidb\\1.0.0\\S030\\S030R06.edf...\n",
      "EDF file detected\n",
      "Setting channel info structure...\n",
      "Creating raw.info structure...\n",
      "Reading 0 ... 19839  =      0.000 ...   123.994 secs...\n",
      "Extracting EDF parameters from C:\\Users\\Hannah\\mne_data\\MNE-eegbci-data\\files\\eegmmidb\\1.0.0\\S030\\S030R10.edf...\n",
      "EDF file detected\n",
      "Setting channel info structure...\n",
      "Creating raw.info structure...\n",
      "Reading 0 ... 19839  =      0.000 ...   123.994 secs...\n",
      "Extracting EDF parameters from C:\\Users\\Hannah\\mne_data\\MNE-eegbci-data\\files\\eegmmidb\\1.0.0\\S030\\S030R14.edf...\n",
      "EDF file detected\n",
      "Setting channel info structure...\n",
      "Creating raw.info structure...\n",
      "Reading 0 ... 19839  =      0.000 ...   123.994 secs...\n",
      "Successfully processed subject 30.\n",
      "Extracting EDF parameters from C:\\Users\\Hannah\\mne_data\\MNE-eegbci-data\\files\\eegmmidb\\1.0.0\\S031\\S031R06.edf...\n",
      "EDF file detected\n",
      "Setting channel info structure...\n",
      "Creating raw.info structure...\n",
      "Reading 0 ... 19679  =      0.000 ...   122.994 secs...\n",
      "Extracting EDF parameters from C:\\Users\\Hannah\\mne_data\\MNE-eegbci-data\\files\\eegmmidb\\1.0.0\\S031\\S031R10.edf...\n",
      "EDF file detected\n",
      "Setting channel info structure...\n",
      "Creating raw.info structure...\n",
      "Reading 0 ... 19679  =      0.000 ...   122.994 secs...\n",
      "Extracting EDF parameters from C:\\Users\\Hannah\\mne_data\\MNE-eegbci-data\\files\\eegmmidb\\1.0.0\\S031\\S031R14.edf...\n",
      "EDF file detected\n",
      "Setting channel info structure...\n",
      "Creating raw.info structure...\n",
      "Reading 0 ... 19679  =      0.000 ...   122.994 secs...\n",
      "Successfully processed subject 31.\n",
      "Extracting EDF parameters from C:\\Users\\Hannah\\mne_data\\MNE-eegbci-data\\files\\eegmmidb\\1.0.0\\S032\\S032R06.edf...\n",
      "EDF file detected\n",
      "Setting channel info structure...\n",
      "Creating raw.info structure...\n",
      "Reading 0 ... 19999  =      0.000 ...   124.994 secs...\n",
      "Extracting EDF parameters from C:\\Users\\Hannah\\mne_data\\MNE-eegbci-data\\files\\eegmmidb\\1.0.0\\S032\\S032R10.edf...\n",
      "EDF file detected\n",
      "Setting channel info structure...\n",
      "Creating raw.info structure...\n",
      "Reading 0 ... 19999  =      0.000 ...   124.994 secs...\n",
      "Extracting EDF parameters from C:\\Users\\Hannah\\mne_data\\MNE-eegbci-data\\files\\eegmmidb\\1.0.0\\S032\\S032R14.edf...\n",
      "EDF file detected\n",
      "Setting channel info structure...\n",
      "Creating raw.info structure...\n",
      "Reading 0 ... 19999  =      0.000 ...   124.994 secs...\n",
      "Successfully processed subject 32.\n",
      "Extracting EDF parameters from C:\\Users\\Hannah\\mne_data\\MNE-eegbci-data\\files\\eegmmidb\\1.0.0\\S033\\S033R06.edf...\n",
      "EDF file detected\n",
      "Setting channel info structure...\n",
      "Creating raw.info structure...\n",
      "Reading 0 ... 19679  =      0.000 ...   122.994 secs...\n",
      "Extracting EDF parameters from C:\\Users\\Hannah\\mne_data\\MNE-eegbci-data\\files\\eegmmidb\\1.0.0\\S033\\S033R10.edf...\n",
      "EDF file detected\n",
      "Setting channel info structure...\n",
      "Creating raw.info structure...\n",
      "Reading 0 ... 19679  =      0.000 ...   122.994 secs...\n",
      "Extracting EDF parameters from C:\\Users\\Hannah\\mne_data\\MNE-eegbci-data\\files\\eegmmidb\\1.0.0\\S033\\S033R14.edf...\n",
      "EDF file detected\n",
      "Setting channel info structure...\n",
      "Creating raw.info structure...\n",
      "Reading 0 ... 19679  =      0.000 ...   122.994 secs...\n",
      "Successfully processed subject 33.\n",
      "Extracting EDF parameters from C:\\Users\\Hannah\\mne_data\\MNE-eegbci-data\\files\\eegmmidb\\1.0.0\\S034\\S034R06.edf...\n",
      "EDF file detected\n",
      "Setting channel info structure...\n",
      "Creating raw.info structure...\n",
      "Reading 0 ... 19679  =      0.000 ...   122.994 secs...\n",
      "Extracting EDF parameters from C:\\Users\\Hannah\\mne_data\\MNE-eegbci-data\\files\\eegmmidb\\1.0.0\\S034\\S034R10.edf...\n",
      "EDF file detected\n",
      "Setting channel info structure...\n",
      "Creating raw.info structure...\n",
      "Reading 0 ... 19679  =      0.000 ...   122.994 secs...\n",
      "Extracting EDF parameters from C:\\Users\\Hannah\\mne_data\\MNE-eegbci-data\\files\\eegmmidb\\1.0.0\\S034\\S034R14.edf...\n",
      "EDF file detected\n",
      "Setting channel info structure...\n",
      "Creating raw.info structure...\n",
      "Reading 0 ... 19679  =      0.000 ...   122.994 secs...\n",
      "Successfully processed subject 34.\n",
      "Extracting EDF parameters from C:\\Users\\Hannah\\mne_data\\MNE-eegbci-data\\files\\eegmmidb\\1.0.0\\S035\\S035R06.edf...\n",
      "EDF file detected\n",
      "Setting channel info structure...\n",
      "Creating raw.info structure...\n",
      "Reading 0 ... 19999  =      0.000 ...   124.994 secs...\n",
      "Extracting EDF parameters from C:\\Users\\Hannah\\mne_data\\MNE-eegbci-data\\files\\eegmmidb\\1.0.0\\S035\\S035R10.edf...\n",
      "EDF file detected\n",
      "Setting channel info structure...\n",
      "Creating raw.info structure...\n",
      "Reading 0 ... 19999  =      0.000 ...   124.994 secs...\n",
      "Extracting EDF parameters from C:\\Users\\Hannah\\mne_data\\MNE-eegbci-data\\files\\eegmmidb\\1.0.0\\S035\\S035R14.edf...\n",
      "EDF file detected\n",
      "Setting channel info structure...\n",
      "Creating raw.info structure...\n",
      "Reading 0 ... 19999  =      0.000 ...   124.994 secs...\n",
      "Successfully processed subject 35.\n",
      "Extracting EDF parameters from C:\\Users\\Hannah\\mne_data\\MNE-eegbci-data\\files\\eegmmidb\\1.0.0\\S036\\S036R06.edf...\n",
      "EDF file detected\n",
      "Setting channel info structure...\n",
      "Creating raw.info structure...\n",
      "Reading 0 ... 19679  =      0.000 ...   122.994 secs...\n",
      "Extracting EDF parameters from C:\\Users\\Hannah\\mne_data\\MNE-eegbci-data\\files\\eegmmidb\\1.0.0\\S036\\S036R10.edf...\n",
      "EDF file detected\n",
      "Setting channel info structure...\n",
      "Creating raw.info structure...\n",
      "Reading 0 ... 19679  =      0.000 ...   122.994 secs...\n",
      "Extracting EDF parameters from C:\\Users\\Hannah\\mne_data\\MNE-eegbci-data\\files\\eegmmidb\\1.0.0\\S036\\S036R14.edf...\n",
      "EDF file detected\n",
      "Setting channel info structure...\n",
      "Creating raw.info structure...\n",
      "Reading 0 ... 19679  =      0.000 ...   122.994 secs...\n",
      "Successfully processed subject 36.\n",
      "Extracting EDF parameters from C:\\Users\\Hannah\\mne_data\\MNE-eegbci-data\\files\\eegmmidb\\1.0.0\\S037\\S037R06.edf...\n",
      "EDF file detected\n",
      "Setting channel info structure...\n",
      "Creating raw.info structure...\n",
      "Reading 0 ... 19679  =      0.000 ...   122.994 secs...\n",
      "Extracting EDF parameters from C:\\Users\\Hannah\\mne_data\\MNE-eegbci-data\\files\\eegmmidb\\1.0.0\\S037\\S037R10.edf...\n",
      "EDF file detected\n",
      "Setting channel info structure...\n",
      "Creating raw.info structure...\n",
      "Reading 0 ... 19679  =      0.000 ...   122.994 secs...\n",
      "Extracting EDF parameters from C:\\Users\\Hannah\\mne_data\\MNE-eegbci-data\\files\\eegmmidb\\1.0.0\\S037\\S037R14.edf...\n",
      "EDF file detected\n",
      "Setting channel info structure...\n",
      "Creating raw.info structure...\n",
      "Reading 0 ... 19679  =      0.000 ...   122.994 secs...\n",
      "Successfully processed subject 37.\n",
      "Extracting EDF parameters from C:\\Users\\Hannah\\mne_data\\MNE-eegbci-data\\files\\eegmmidb\\1.0.0\\S038\\S038R06.edf...\n",
      "EDF file detected\n",
      "Setting channel info structure...\n",
      "Creating raw.info structure...\n",
      "Reading 0 ... 19679  =      0.000 ...   122.994 secs...\n",
      "Extracting EDF parameters from C:\\Users\\Hannah\\mne_data\\MNE-eegbci-data\\files\\eegmmidb\\1.0.0\\S038\\S038R10.edf...\n",
      "EDF file detected\n",
      "Setting channel info structure...\n",
      "Creating raw.info structure...\n",
      "Reading 0 ... 19679  =      0.000 ...   122.994 secs...\n",
      "Extracting EDF parameters from C:\\Users\\Hannah\\mne_data\\MNE-eegbci-data\\files\\eegmmidb\\1.0.0\\S038\\S038R14.edf...\n",
      "EDF file detected\n",
      "Setting channel info structure...\n",
      "Creating raw.info structure...\n",
      "Reading 0 ... 19679  =      0.000 ...   122.994 secs...\n",
      "Successfully processed subject 38.\n",
      "Extracting EDF parameters from C:\\Users\\Hannah\\mne_data\\MNE-eegbci-data\\files\\eegmmidb\\1.0.0\\S039\\S039R06.edf...\n",
      "EDF file detected\n",
      "Setting channel info structure...\n",
      "Creating raw.info structure...\n",
      "Reading 0 ... 19679  =      0.000 ...   122.994 secs...\n",
      "Extracting EDF parameters from C:\\Users\\Hannah\\mne_data\\MNE-eegbci-data\\files\\eegmmidb\\1.0.0\\S039\\S039R10.edf...\n",
      "EDF file detected\n",
      "Setting channel info structure...\n",
      "Creating raw.info structure...\n",
      "Reading 0 ... 19679  =      0.000 ...   122.994 secs...\n",
      "Extracting EDF parameters from C:\\Users\\Hannah\\mne_data\\MNE-eegbci-data\\files\\eegmmidb\\1.0.0\\S039\\S039R14.edf...\n",
      "EDF file detected\n",
      "Setting channel info structure...\n",
      "Creating raw.info structure...\n",
      "Reading 0 ... 19679  =      0.000 ...   122.994 secs...\n",
      "Successfully processed subject 39.\n",
      "Extracting EDF parameters from C:\\Users\\Hannah\\mne_data\\MNE-eegbci-data\\files\\eegmmidb\\1.0.0\\S040\\S040R06.edf...\n",
      "EDF file detected\n",
      "Setting channel info structure...\n",
      "Creating raw.info structure...\n",
      "Reading 0 ... 19679  =      0.000 ...   122.994 secs...\n",
      "Extracting EDF parameters from C:\\Users\\Hannah\\mne_data\\MNE-eegbci-data\\files\\eegmmidb\\1.0.0\\S040\\S040R10.edf...\n",
      "EDF file detected\n",
      "Setting channel info structure...\n",
      "Creating raw.info structure...\n",
      "Reading 0 ... 19679  =      0.000 ...   122.994 secs...\n",
      "Extracting EDF parameters from C:\\Users\\Hannah\\mne_data\\MNE-eegbci-data\\files\\eegmmidb\\1.0.0\\S040\\S040R14.edf...\n",
      "EDF file detected\n",
      "Setting channel info structure...\n",
      "Creating raw.info structure...\n",
      "Reading 0 ... 19679  =      0.000 ...   122.994 secs...\n",
      "Successfully processed subject 40.\n",
      "Extracting EDF parameters from C:\\Users\\Hannah\\mne_data\\MNE-eegbci-data\\files\\eegmmidb\\1.0.0\\S041\\S041R06.edf...\n",
      "EDF file detected\n",
      "Setting channel info structure...\n",
      "Creating raw.info structure...\n",
      "Reading 0 ... 19679  =      0.000 ...   122.994 secs...\n",
      "Extracting EDF parameters from C:\\Users\\Hannah\\mne_data\\MNE-eegbci-data\\files\\eegmmidb\\1.0.0\\S041\\S041R10.edf...\n",
      "EDF file detected\n",
      "Setting channel info structure...\n",
      "Creating raw.info structure...\n",
      "Reading 0 ... 19839  =      0.000 ...   123.994 secs...\n",
      "Extracting EDF parameters from C:\\Users\\Hannah\\mne_data\\MNE-eegbci-data\\files\\eegmmidb\\1.0.0\\S041\\S041R14.edf...\n",
      "EDF file detected\n",
      "Setting channel info structure...\n",
      "Creating raw.info structure...\n",
      "Reading 0 ... 19839  =      0.000 ...   123.994 secs...\n",
      "Successfully processed subject 41.\n",
      "Extracting EDF parameters from C:\\Users\\Hannah\\mne_data\\MNE-eegbci-data\\files\\eegmmidb\\1.0.0\\S042\\S042R06.edf...\n",
      "EDF file detected\n",
      "Setting channel info structure...\n",
      "Creating raw.info structure...\n",
      "Reading 0 ... 19679  =      0.000 ...   122.994 secs...\n",
      "Extracting EDF parameters from C:\\Users\\Hannah\\mne_data\\MNE-eegbci-data\\files\\eegmmidb\\1.0.0\\S042\\S042R10.edf...\n",
      "EDF file detected\n",
      "Setting channel info structure...\n",
      "Creating raw.info structure...\n",
      "Reading 0 ... 19679  =      0.000 ...   122.994 secs...\n",
      "Extracting EDF parameters from C:\\Users\\Hannah\\mne_data\\MNE-eegbci-data\\files\\eegmmidb\\1.0.0\\S042\\S042R14.edf...\n",
      "EDF file detected\n",
      "Setting channel info structure...\n",
      "Creating raw.info structure...\n",
      "Reading 0 ... 19679  =      0.000 ...   122.994 secs...\n",
      "Successfully processed subject 42.\n",
      "Extracting EDF parameters from C:\\Users\\Hannah\\mne_data\\MNE-eegbci-data\\files\\eegmmidb\\1.0.0\\S043\\S043R06.edf...\n",
      "EDF file detected\n",
      "Setting channel info structure...\n",
      "Creating raw.info structure...\n",
      "Reading 0 ... 19679  =      0.000 ...   122.994 secs...\n",
      "Extracting EDF parameters from C:\\Users\\Hannah\\mne_data\\MNE-eegbci-data\\files\\eegmmidb\\1.0.0\\S043\\S043R10.edf...\n",
      "EDF file detected\n",
      "Setting channel info structure...\n",
      "Creating raw.info structure...\n",
      "Reading 0 ... 19679  =      0.000 ...   122.994 secs...\n",
      "Extracting EDF parameters from C:\\Users\\Hannah\\mne_data\\MNE-eegbci-data\\files\\eegmmidb\\1.0.0\\S043\\S043R14.edf...\n",
      "EDF file detected\n",
      "Setting channel info structure...\n",
      "Creating raw.info structure...\n",
      "Reading 0 ... 19679  =      0.000 ...   122.994 secs...\n",
      "Successfully processed subject 43.\n",
      "Extracting EDF parameters from C:\\Users\\Hannah\\mne_data\\MNE-eegbci-data\\files\\eegmmidb\\1.0.0\\S044\\S044R06.edf...\n",
      "EDF file detected\n",
      "Setting channel info structure...\n",
      "Creating raw.info structure...\n",
      "Reading 0 ... 19679  =      0.000 ...   122.994 secs...\n",
      "Extracting EDF parameters from C:\\Users\\Hannah\\mne_data\\MNE-eegbci-data\\files\\eegmmidb\\1.0.0\\S044\\S044R10.edf...\n",
      "EDF file detected\n",
      "Setting channel info structure...\n",
      "Creating raw.info structure...\n",
      "Reading 0 ... 19679  =      0.000 ...   122.994 secs...\n",
      "Extracting EDF parameters from C:\\Users\\Hannah\\mne_data\\MNE-eegbci-data\\files\\eegmmidb\\1.0.0\\S044\\S044R14.edf...\n",
      "EDF file detected\n",
      "Setting channel info structure...\n",
      "Creating raw.info structure...\n",
      "Reading 0 ... 19679  =      0.000 ...   122.994 secs...\n",
      "Successfully processed subject 44.\n",
      "Extracting EDF parameters from C:\\Users\\Hannah\\mne_data\\MNE-eegbci-data\\files\\eegmmidb\\1.0.0\\S045\\S045R06.edf...\n",
      "EDF file detected\n",
      "Setting channel info structure...\n",
      "Creating raw.info structure...\n",
      "Reading 0 ... 19679  =      0.000 ...   122.994 secs...\n",
      "Extracting EDF parameters from C:\\Users\\Hannah\\mne_data\\MNE-eegbci-data\\files\\eegmmidb\\1.0.0\\S045\\S045R10.edf...\n",
      "EDF file detected\n",
      "Setting channel info structure...\n",
      "Creating raw.info structure...\n",
      "Reading 0 ... 19679  =      0.000 ...   122.994 secs...\n",
      "Extracting EDF parameters from C:\\Users\\Hannah\\mne_data\\MNE-eegbci-data\\files\\eegmmidb\\1.0.0\\S045\\S045R14.edf...\n",
      "EDF file detected\n",
      "Setting channel info structure...\n",
      "Creating raw.info structure...\n",
      "Reading 0 ... 19679  =      0.000 ...   122.994 secs...\n",
      "Successfully processed subject 45.\n",
      "Extracting EDF parameters from C:\\Users\\Hannah\\mne_data\\MNE-eegbci-data\\files\\eegmmidb\\1.0.0\\S046\\S046R06.edf...\n",
      "EDF file detected\n",
      "Setting channel info structure...\n",
      "Creating raw.info structure...\n",
      "Reading 0 ... 19999  =      0.000 ...   124.994 secs...\n",
      "Extracting EDF parameters from C:\\Users\\Hannah\\mne_data\\MNE-eegbci-data\\files\\eegmmidb\\1.0.0\\S046\\S046R10.edf...\n",
      "EDF file detected\n",
      "Setting channel info structure...\n",
      "Creating raw.info structure...\n",
      "Reading 0 ... 19999  =      0.000 ...   124.994 secs...\n",
      "Extracting EDF parameters from C:\\Users\\Hannah\\mne_data\\MNE-eegbci-data\\files\\eegmmidb\\1.0.0\\S046\\S046R14.edf...\n",
      "EDF file detected\n",
      "Setting channel info structure...\n",
      "Creating raw.info structure...\n",
      "Reading 0 ... 19999  =      0.000 ...   124.994 secs...\n",
      "Successfully processed subject 46.\n",
      "Extracting EDF parameters from C:\\Users\\Hannah\\mne_data\\MNE-eegbci-data\\files\\eegmmidb\\1.0.0\\S047\\S047R06.edf...\n",
      "EDF file detected\n",
      "Setting channel info structure...\n",
      "Creating raw.info structure...\n",
      "Reading 0 ... 19679  =      0.000 ...   122.994 secs...\n",
      "Extracting EDF parameters from C:\\Users\\Hannah\\mne_data\\MNE-eegbci-data\\files\\eegmmidb\\1.0.0\\S047\\S047R10.edf...\n",
      "EDF file detected\n",
      "Setting channel info structure...\n",
      "Creating raw.info structure...\n",
      "Reading 0 ... 19679  =      0.000 ...   122.994 secs...\n",
      "Extracting EDF parameters from C:\\Users\\Hannah\\mne_data\\MNE-eegbci-data\\files\\eegmmidb\\1.0.0\\S047\\S047R14.edf...\n",
      "EDF file detected\n",
      "Setting channel info structure...\n",
      "Creating raw.info structure...\n",
      "Reading 0 ... 19679  =      0.000 ...   122.994 secs...\n",
      "Successfully processed subject 47.\n",
      "Extracting EDF parameters from C:\\Users\\Hannah\\mne_data\\MNE-eegbci-data\\files\\eegmmidb\\1.0.0\\S048\\S048R06.edf...\n",
      "EDF file detected\n",
      "Setting channel info structure...\n",
      "Creating raw.info structure...\n",
      "Reading 0 ... 19679  =      0.000 ...   122.994 secs...\n",
      "Extracting EDF parameters from C:\\Users\\Hannah\\mne_data\\MNE-eegbci-data\\files\\eegmmidb\\1.0.0\\S048\\S048R10.edf...\n",
      "EDF file detected\n",
      "Setting channel info structure...\n",
      "Creating raw.info structure...\n",
      "Reading 0 ... 19679  =      0.000 ...   122.994 secs...\n",
      "Extracting EDF parameters from C:\\Users\\Hannah\\mne_data\\MNE-eegbci-data\\files\\eegmmidb\\1.0.0\\S048\\S048R14.edf...\n",
      "EDF file detected\n",
      "Setting channel info structure...\n",
      "Creating raw.info structure...\n",
      "Reading 0 ... 19679  =      0.000 ...   122.994 secs...\n",
      "Successfully processed subject 48.\n",
      "Extracting EDF parameters from C:\\Users\\Hannah\\mne_data\\MNE-eegbci-data\\files\\eegmmidb\\1.0.0\\S049\\S049R06.edf...\n",
      "EDF file detected\n",
      "Setting channel info structure...\n",
      "Creating raw.info structure...\n",
      "Reading 0 ... 19679  =      0.000 ...   122.994 secs...\n",
      "Extracting EDF parameters from C:\\Users\\Hannah\\mne_data\\MNE-eegbci-data\\files\\eegmmidb\\1.0.0\\S049\\S049R10.edf...\n",
      "EDF file detected\n",
      "Setting channel info structure...\n",
      "Creating raw.info structure...\n",
      "Reading 0 ... 19679  =      0.000 ...   122.994 secs...\n",
      "Extracting EDF parameters from C:\\Users\\Hannah\\mne_data\\MNE-eegbci-data\\files\\eegmmidb\\1.0.0\\S049\\S049R14.edf...\n",
      "EDF file detected\n",
      "Setting channel info structure...\n",
      "Creating raw.info structure...\n",
      "Reading 0 ... 19679  =      0.000 ...   122.994 secs...\n",
      "Successfully processed subject 49.\n",
      "Extracting EDF parameters from C:\\Users\\Hannah\\mne_data\\MNE-eegbci-data\\files\\eegmmidb\\1.0.0\\S050\\S050R06.edf...\n",
      "EDF file detected\n",
      "Setting channel info structure...\n",
      "Creating raw.info structure...\n",
      "Reading 0 ... 19679  =      0.000 ...   122.994 secs...\n",
      "Extracting EDF parameters from C:\\Users\\Hannah\\mne_data\\MNE-eegbci-data\\files\\eegmmidb\\1.0.0\\S050\\S050R10.edf...\n",
      "EDF file detected\n",
      "Setting channel info structure...\n",
      "Creating raw.info structure...\n",
      "Reading 0 ... 19679  =      0.000 ...   122.994 secs...\n",
      "Extracting EDF parameters from C:\\Users\\Hannah\\mne_data\\MNE-eegbci-data\\files\\eegmmidb\\1.0.0\\S050\\S050R14.edf...\n",
      "EDF file detected\n",
      "Setting channel info structure...\n",
      "Creating raw.info structure...\n",
      "Reading 0 ... 19679  =      0.000 ...   122.994 secs...\n",
      "Successfully processed subject 50.\n"
     ]
    }
   ],
   "source": [
    "print(__doc__)\n",
    "models_dir = '../models/trained/'\n",
    "\n",
    "tmin, tmax = -1.0, 4.0\n",
    "subjects = range(1, 51)  # Training on the first 50 subjects\n",
    "runs = [6, 10, 14]  # Motor imagery: hands vs feet\n",
    "raws = []\n",
    "\n",
    "for subject in subjects:\n",
    "    try:\n",
    "        # Attempt to load the data for the current subject\n",
    "        raw_fnames = eegbci.load_data(subject, runs)\n",
    "        # For each subject, load their raw data and append to the 'raws' list\n",
    "        raws.extend([read_raw_edf(f, preload=True) for f in raw_fnames])\n",
    "        print(f\"Successfully processed subject {subject}.\")\n",
    "    except Exception as e:\n",
    "        # If an error occurs, skip to the next subject\n",
    "        print(f\"Error processing subject {subject}: {e}. Skipping to next subject.\")\n",
    "        continue\n",
    "\n",
    "# Concatenate all Raw objects into a single Raw object\n",
    "raw = concatenate_raws(raws)"
   ]
  },
  {
   "cell_type": "markdown",
   "metadata": {},
   "source": [
    "### Creating Epochs"
   ]
  },
  {
   "cell_type": "code",
   "execution_count": 3,
   "metadata": {},
   "outputs": [
    {
     "name": "stdout",
     "output_type": "stream",
     "text": [
      "Automatically created module for IPython interactive environment\n",
      "Filtering raw data in 150 contiguous segments\n",
      "Setting up band-pass filter from 7 - 30 Hz\n",
      "\n",
      "FIR filter parameters\n",
      "---------------------\n",
      "Designing a one-pass, zero-phase, non-causal bandpass filter:\n",
      "- Windowed time-domain design (firwin) method\n",
      "- Hamming window with 0.0194 passband ripple and 53 dB stopband attenuation\n",
      "- Lower passband edge: 7.00\n",
      "- Lower transition bandwidth: 2.00 Hz (-6 dB cutoff frequency: 6.00 Hz)\n",
      "- Upper passband edge: 30.00 Hz\n",
      "- Upper transition bandwidth: 7.50 Hz (-6 dB cutoff frequency: 33.75 Hz)\n",
      "- Filter length: 265 samples (1.656 s)\n",
      "\n"
     ]
    },
    {
     "name": "stderr",
     "output_type": "stream",
     "text": [
      "[Parallel(n_jobs=1)]: Done  17 tasks      | elapsed:    0.0s\n"
     ]
    },
    {
     "name": "stdout",
     "output_type": "stream",
     "text": [
      "Used Annotations descriptions: ['T1', 'T2']\n",
      "Not setting metadata\n",
      "2250 matching events found\n",
      "No baseline correction applied\n",
      "0 projection items activated\n",
      "Using data from preloaded Raw for 2250 events and 801 original time points ...\n",
      "7 bad epochs dropped\n"
     ]
    }
   ],
   "source": [
    "print(__doc__)\n",
    "\n",
    "eegbci.standardize(raw)  # set channel names\n",
    "montage = make_standard_montage(\"standard_1005\")\n",
    "raw.set_montage(montage)\n",
    "#raw.annotations.rename(dict(T1=\"hands\", T2=\"feet\"))\n",
    "\n",
    "\n",
    "# Apply band-pass filter\n",
    "raw.filter(7.0, 30.0, fir_design=\"firwin\", skip_by_annotation=\"edge\")\n",
    "\n",
    "picks = pick_types(raw.info, meg=False, eeg=True, stim=False, eog=False, exclude=\"bads\")\n",
    "\n",
    "# Read epochs to train between -1 and 4 seconds\n",
    "\n",
    "events, _ = events_from_annotations(raw, event_id=dict(T1=2, T2=3))\n",
    "event_id = dict(hands=2, feet=3)\n",
    "\n",
    "epochs = Epochs(\n",
    "    raw,\n",
    "    events = events, \n",
    "    event_id= event_id,\n",
    "    tmin=tmin,\n",
    "    tmax=tmax,\n",
    "    proj=True,\n",
    "    picks=picks,\n",
    "    baseline=None,\n",
    "    preload=True,\n",
    ")\n",
    "epochs_train = epochs.copy().crop(tmin=1.0, tmax=2.0)\n",
    "labels = epochs.events[:, -1] - 2\n",
    "\n",
    "epochs_data = epochs.get_data(copy=False)\n",
    "#epochs_data_train = epochs_train.get_data(copy=False)"
   ]
  },
  {
   "cell_type": "code",
   "execution_count": 4,
   "metadata": {},
   "outputs": [
    {
     "name": "stderr",
     "output_type": "stream",
     "text": [
      "C:\\Users\\Hannah\\AppData\\Local\\Temp\\ipykernel_17624\\3777005902.py:1: FutureWarning: The current default of copy=False will change to copy=True in 1.7. Set the value of copy explicitly to avoid this warning\n",
      "  eeg_data = epochs.get_data()  # Shape: (n_epochs, n_channels, n_times)\n"
     ]
    },
    {
     "name": "stdout",
     "output_type": "stream",
     "text": [
      "(2243, 64, 801)\n"
     ]
    }
   ],
   "source": [
    "\n",
    "eeg_data = epochs.get_data()  # Shape: (n_epochs, n_channels, n_times)\n",
    "print(eeg_data.shape)\n",
    "\n",
    "# Flatten the data for scaling, then scale, and reshape back\n",
    "scaler = RobustScaler()\n",
    "eeg_data_flattened = eeg_data.reshape(eeg_data.shape[0], -1)  # Flatten\n",
    "eeg_data_scaled = scaler.fit_transform(eeg_data_flattened)\n",
    "eeg_data_scaled = eeg_data_scaled.reshape(eeg_data.shape)  # Reshape back"
   ]
  },
  {
   "cell_type": "markdown",
   "metadata": {},
   "source": [
    "### Splitting into Training and Testing"
   ]
  },
  {
   "cell_type": "code",
   "execution_count": 5,
   "metadata": {},
   "outputs": [],
   "source": [
    "\n",
    "# Split the data and labels into training and testing sets\n",
    "train_X, test_X, train_y, test_y = train_test_split(\n",
    "    eeg_data_scaled,  # Scaled EEG data\n",
    "    labels, \n",
    "    test_size=0.2,  # 20% of the data for testing\n",
    "    random_state=42 \n",
    ")\n",
    "# Encode the training and testing labels\n",
    "le = LabelEncoder()\n",
    "encoded_train_y = le.fit_transform(train_y)\n",
    "encoded_test_y = le.transform(test_y)\n",
    "\n",
    "# One-hot encode the encoded labels\n",
    "train_y = pd.get_dummies(encoded_train_y)\n",
    "test_y = pd.get_dummies(encoded_test_y)"
   ]
  },
  {
   "cell_type": "code",
   "execution_count": 6,
   "metadata": {},
   "outputs": [
    {
     "data": {
      "text/plain": [
       "((1794, 64, 801), (449, 64, 801), (1794, 2), (449, 2))"
      ]
     },
     "execution_count": 6,
     "metadata": {},
     "output_type": "execute_result"
    }
   ],
   "source": [
    "train_X.shape, test_X.shape, train_y.shape, test_y.shape"
   ]
  },
  {
   "cell_type": "code",
   "execution_count": 7,
   "metadata": {},
   "outputs": [
    {
     "name": "stdout",
     "output_type": "stream",
     "text": [
      "False\n"
     ]
    }
   ],
   "source": [
    "cuda = torch.cuda.is_available()\n",
    "print(cuda)\n",
    "device = \"cuda\" if cuda else \"cpu\""
   ]
  },
  {
   "cell_type": "code",
   "execution_count": 8,
   "metadata": {},
   "outputs": [],
   "source": [
    "cuda_version = torch.version.cuda\n",
    "cuda_version"
   ]
  },
  {
   "cell_type": "markdown",
   "metadata": {},
   "source": [
    "### EEG Conformer"
   ]
  },
  {
   "cell_type": "code",
   "execution_count": 9,
   "metadata": {},
   "outputs": [
    {
     "name": "stdout",
     "output_type": "stream",
     "text": [
      "================================================================================================================================================================\n",
      "Layer (type (var_name):depth-idx)                            Input Shape               Output Shape              Param #                   Kernel Shape\n",
      "================================================================================================================================================================\n",
      "EEGConformer (EEGConformer)                                  [1, 64, 801]              [1, 2]                    --                        --\n",
      "├─_PatchEmbedding (patch_embedding): 1-1                     [1, 1, 64, 801]           [1, 47, 40]               --                        --\n",
      "│    └─Sequential (shallownet): 2-1                          [1, 1, 64, 801]           [1, 40, 1, 47]            --                        --\n",
      "│    │    └─Conv2d (0): 3-1                                  [1, 1, 64, 801]           [1, 40, 64, 777]          1,040                     [1, 25]\n",
      "│    │    └─Conv2d (1): 3-2                                  [1, 40, 64, 777]          [1, 40, 1, 777]           102,440                   [64, 1]\n",
      "│    │    └─BatchNorm2d (2): 3-3                             [1, 40, 1, 777]           [1, 40, 1, 777]           80                        --\n",
      "│    │    └─ELU (3): 3-4                                     [1, 40, 1, 777]           [1, 40, 1, 777]           --                        --\n",
      "│    │    └─AvgPool2d (4): 3-5                               [1, 40, 1, 777]           [1, 40, 1, 47]            --                        [1, 75]\n",
      "│    │    └─Dropout (5): 3-6                                 [1, 40, 1, 47]            [1, 40, 1, 47]            --                        --\n",
      "│    └─Sequential (projection): 2-2                          [1, 40, 1, 47]            [1, 47, 40]               --                        --\n",
      "│    │    └─Conv2d (0): 3-7                                  [1, 40, 1, 47]            [1, 40, 1, 47]            1,640                     [1, 1]\n",
      "│    │    └─Rearrange (1): 3-8                               [1, 40, 1, 47]            [1, 47, 40]               --                        --\n",
      "├─_TransformerEncoder (transformer): 1-2                     [1, 47, 40]               [1, 47, 40]               --                        --\n",
      "│    └─_TransformerEncoderBlock (0): 2-3                     [1, 47, 40]               [1, 47, 40]               --                        --\n",
      "│    │    └─_ResidualAdd (0): 3-9                            [1, 47, 40]               [1, 47, 40]               6,640                     --\n",
      "│    │    └─_ResidualAdd (1): 3-10                           [1, 47, 40]               [1, 47, 40]               13,080                    --\n",
      "│    └─_TransformerEncoderBlock (1): 2-4                     [1, 47, 40]               [1, 47, 40]               --                        --\n",
      "│    │    └─_ResidualAdd (0): 3-11                           [1, 47, 40]               [1, 47, 40]               6,640                     --\n",
      "│    │    └─_ResidualAdd (1): 3-12                           [1, 47, 40]               [1, 47, 40]               13,080                    --\n",
      "│    └─_TransformerEncoderBlock (2): 2-5                     [1, 47, 40]               [1, 47, 40]               --                        --\n",
      "│    │    └─_ResidualAdd (0): 3-13                           [1, 47, 40]               [1, 47, 40]               6,640                     --\n",
      "│    │    └─_ResidualAdd (1): 3-14                           [1, 47, 40]               [1, 47, 40]               13,080                    --\n",
      "├─_FullyConnected (fc): 1-3                                  [1, 47, 40]               [1, 32]                   --                        --\n",
      "│    └─Sequential (fc): 2-6                                  [1, 1880]                 [1, 32]                   --                        --\n",
      "│    │    └─Linear (0): 3-15                                 [1, 1880]                 [1, 256]                  481,536                   --\n",
      "│    │    └─ELU (1): 3-16                                    [1, 256]                  [1, 256]                  --                        --\n",
      "│    │    └─Dropout (2): 3-17                                [1, 256]                  [1, 256]                  --                        --\n",
      "│    │    └─Linear (3): 3-18                                 [1, 256]                  [1, 32]                   8,224                     --\n",
      "│    │    └─ELU (4): 3-19                                    [1, 32]                   [1, 32]                   --                        --\n",
      "│    │    └─Dropout (5): 3-20                                [1, 32]                   [1, 32]                   --                        --\n",
      "├─_FinalLayer (final_layer): 1-4                             [1, 32]                   [1, 2]                    --                        --\n",
      "│    └─Sequential (final_layer): 2-7                         [1, 32]                   [1, 2]                    --                        --\n",
      "│    │    └─Linear (0): 3-21                                 [1, 32]                   [1, 2]                    66                        --\n",
      "│    │    └─LogSoftmax (classification): 3-22                [1, 2]                    [1, 2]                    --                        --\n",
      "================================================================================================================================================================\n",
      "Total params: 654,186\n",
      "Trainable params: 654,186\n",
      "Non-trainable params: 0\n",
      "Total mult-adds (M): 131.94\n",
      "================================================================================================================================================================\n",
      "Input size (MB): 0.21\n",
      "Forward/backward pass size (MB): 16.92\n",
      "Params size (MB): 2.62\n",
      "Estimated Total Size (MB): 19.75\n",
      "================================================================================================================================================================\n"
     ]
    },
    {
     "name": "stderr",
     "output_type": "stream",
     "text": [
      "c:\\Users\\Hannah\\OneDrive\\Documents\\GitHub\\eeg\\notebooks\\../models\\base.py:180: UserWarning: LogSoftmax final layer will be removed! Please adjust your loss function accordingly (e.g. CrossEntropyLoss)!\n",
      "  warnings.warn(\"LogSoftmax final layer will be removed! \" +\n"
     ]
    }
   ],
   "source": [
    "seed = 202403\n",
    "\n",
    "model = EEGConformer(\n",
    "    n_outputs=2,\n",
    "    n_chans=64,\n",
    "    sfreq=160,\n",
    "    n_times = epochs_data.shape[2],\n",
    "    n_filters_time=40, \n",
    "    filter_time_length=25,\n",
    "    pool_time_length=75,\n",
    "    pool_time_stride=15,\n",
    "    drop_prob=0.7,\n",
    "    att_depth=3,\n",
    "    att_heads=10,\n",
    "    att_drop_prob=0.7,\n",
    "    final_fc_length='auto', # could be 'auto' or int\n",
    "    return_features=False, # returns the features before the last classification layer if True\n",
    "    chs_info=None,\n",
    "    input_window_seconds=None,\n",
    "    add_log_softmax=True,\n",
    ")\n",
    "\n",
    "print(model)"
   ]
  },
  {
   "cell_type": "code",
   "execution_count": 10,
   "metadata": {},
   "outputs": [],
   "source": [
    "if cuda:\n",
    "    model.cuda()"
   ]
  },
  {
   "cell_type": "code",
   "execution_count": 11,
   "metadata": {},
   "outputs": [],
   "source": [
    "batch_size = 64\n",
    "\n",
    "# Convert pandas dataframe to numpy, then find argmax if one-hot encoded\n",
    "if len(train_y.shape) > 1:  # Check if train_y is one-hot encoded\n",
    "    train_y_indices = np.argmax(train_y.values, axis=1)\n",
    "else:\n",
    "    train_y_indices = train_y.values  \n",
    "\n",
    "if len(test_y.shape) > 1:  # Check if test_y is one-hot encoded\n",
    "    test_y_indices = np.argmax(test_y.values, axis=1)\n",
    "else:\n",
    "    test_y_indices = test_y.values  \n",
    "\n",
    "# Convert features and labels to tensors\n",
    "x_train_tensor = torch.from_numpy(train_X).to(torch.float32).to(device)\n",
    "y_train_tensor = torch.tensor(train_y_indices).to(torch.long).to(device)  # Use torch.long for class indices\n",
    "\n",
    "x_test_tensor = torch.from_numpy(test_X).to(torch.float32).to(device)\n",
    "y_test_tensor = torch.tensor(test_y_indices).to(torch.long).to(device)  # Use torch.long for class indices\n",
    "\n",
    "# Create datasets and loaders\n",
    "train_dataset = TensorDataset(x_train_tensor, y_train_tensor)\n",
    "train_loader = DataLoader(train_dataset, batch_size=batch_size, shuffle=True)\n",
    "\n",
    "test_dataset = TensorDataset(x_test_tensor, y_test_tensor)\n",
    "test_loader = DataLoader(test_dataset, batch_size=batch_size, shuffle=False)\n",
    "\n",
    "# Criterion and optimizer\n",
    "criterion = nn.CrossEntropyLoss()\n",
    "optimizer = optim.Adam(model.parameters(), lr=0.0002, betas=(0.9, 0.999))\n"
   ]
  },
  {
   "cell_type": "markdown",
   "metadata": {},
   "source": [
    "### Training"
   ]
  },
  {
   "cell_type": "code",
   "execution_count": 12,
   "metadata": {},
   "outputs": [],
   "source": [
    "def train(model, x_train, y_train, x_test, y_test, save_path='../models/', n_epochs=100, patience=100):\n",
    "    \"\"\"\n",
    "    the training function with early stopping.\n",
    "    Attributes:\n",
    "    - model: the instance of the network\n",
    "    - save_path: the path to which the model state will be saved. None means w/o saving.\n",
    "    - n_epochs: number of epochs to train the model for.\n",
    "    - patience: number of epochs to wait without improvement before stopping.\n",
    "    \"\"\"\n",
    "    train_acc_list = []\n",
    "    train_loss_list = []\n",
    "    test_acc_list = []\n",
    "    test_loss_list = []\n",
    "\n",
    "    best_accuracy = 0.0\n",
    "    epochs_no_improve = 0  \n",
    "    best_model_wts = None  \n",
    "\n",
    "    for epoch in range(n_epochs):\n",
    "        # Training phase\n",
    "        model.train()  # Set model to training mode\n",
    "        training_loss = 0.0\n",
    "        total = 0\n",
    "        correct = 0\n",
    "        \n",
    "        for inputs, labels in tqdm(train_loader):\n",
    "            inputs, labels = inputs.to(device), labels.to(device)\n",
    "            optimizer.zero_grad()  # Zero the parameter gradients\n",
    "            \n",
    "            outputs = model(inputs)\n",
    "            loss = criterion(outputs, labels)\n",
    "            loss.backward()\n",
    "            optimizer.step()\n",
    "            \n",
    "            training_loss += loss.item()\n",
    "            _, predicted = torch.max(outputs.data, 1)\n",
    "            total += labels.size(0)\n",
    "            correct += (predicted == labels).sum().item()\n",
    "        \n",
    "        train_loss = training_loss / len(train_loader)\n",
    "        train_accuracy = correct / total\n",
    "        train_acc_list.append(train_accuracy)\n",
    "        train_loss_list.append(train_loss)\n",
    "        \n",
    "        # Evaluation phase\n",
    "        model.eval()  # Set model to evaluation mode\n",
    "        testing_loss = 0.0\n",
    "        total = 0\n",
    "        correct = 0\n",
    "        \n",
    "        with torch.no_grad():\n",
    "            for inputs, labels in test_loader:\n",
    "                inputs, labels = inputs.to(device), labels.to(device)\n",
    "                outputs = model(inputs)\n",
    "                loss = criterion(outputs, labels)\n",
    "                testing_loss += loss.item()\n",
    "\n",
    "                _, predicted = torch.max(outputs.data, 1)\n",
    "                total += labels.size(0)\n",
    "                correct += (predicted == labels).sum().item()\n",
    "        \n",
    "            test_loss = testing_loss / len(test_loader)\n",
    "            test_accuracy = correct / total\n",
    "            test_acc_list.append(test_accuracy)\n",
    "            test_loss_list.append(test_loss)\n",
    "        \n",
    "        print(f\"Epoch {epoch+1}/{n_epochs} - Train Loss: {train_loss:.4f}, Train Accuracy: {train_accuracy:.4f}, Test Loss: {test_loss:.4f}, Test Accuracy: {test_accuracy:.4f}\")\n",
    "        \n",
    "        # Early Stopping Check\n",
    "        if test_accuracy > best_accuracy:\n",
    "            best_accuracy = test_accuracy\n",
    "            best_model_wts = model.state_dict()  # Save the best model weights\n",
    "            epochs_no_improve = 0  # Reset counter\n",
    "        else:\n",
    "            epochs_no_improve += 1  # Increment counter if no improvement\n",
    "            if epochs_no_improve >= patience:\n",
    "                print(f\"Early stopping triggered after {epoch+1} epochs.\")\n",
    "                break  # Exit the loop\n",
    "    \n",
    "    if save_path is not None and best_model_wts is not None:\n",
    "        # Ensure the directory exists\n",
    "        os.makedirs(save_path, exist_ok=True)\n",
    "        # Save the best model\n",
    "        torch.save(best_model_wts, os.path.join(save_path, 'conformer.pth'))\n",
    "        print(\"Best model saved with accuracy: {:.4f}\".format(best_accuracy))\n",
    "        # Reload the best model weights\n",
    "        model.load_state_dict(best_model_wts)\n",
    "    \n",
    "    return model, train_acc_list, train_loss_list, test_acc_list, test_loss_list\n"
   ]
  },
  {
   "cell_type": "code",
   "execution_count": 13,
   "metadata": {},
   "outputs": [
    {
     "name": "stderr",
     "output_type": "stream",
     "text": [
      "100%|██████████| 29/29 [00:20<00:00,  1.39it/s]\n"
     ]
    },
    {
     "name": "stdout",
     "output_type": "stream",
     "text": [
      "Epoch 1/300 - Train Loss: 0.7174, Train Accuracy: 0.5000, Test Loss: 0.6922, Test Accuracy: 0.5122\n"
     ]
    },
    {
     "name": "stderr",
     "output_type": "stream",
     "text": [
      "100%|██████████| 29/29 [00:20<00:00,  1.39it/s]\n"
     ]
    },
    {
     "name": "stdout",
     "output_type": "stream",
     "text": [
      "Epoch 2/300 - Train Loss: 0.7325, Train Accuracy: 0.4872, Test Loss: 0.6858, Test Accuracy: 0.5122\n"
     ]
    },
    {
     "name": "stderr",
     "output_type": "stream",
     "text": [
      "100%|██████████| 29/29 [00:21<00:00,  1.32it/s]\n"
     ]
    },
    {
     "name": "stdout",
     "output_type": "stream",
     "text": [
      "Epoch 3/300 - Train Loss: 0.7128, Train Accuracy: 0.5106, Test Loss: 0.7189, Test Accuracy: 0.4878\n"
     ]
    },
    {
     "name": "stderr",
     "output_type": "stream",
     "text": [
      "100%|██████████| 29/29 [00:21<00:00,  1.34it/s]\n"
     ]
    },
    {
     "name": "stdout",
     "output_type": "stream",
     "text": [
      "Epoch 4/300 - Train Loss: 0.7147, Train Accuracy: 0.5162, Test Loss: 0.6948, Test Accuracy: 0.4989\n"
     ]
    },
    {
     "name": "stderr",
     "output_type": "stream",
     "text": [
      "100%|██████████| 29/29 [00:21<00:00,  1.36it/s]\n"
     ]
    },
    {
     "name": "stdout",
     "output_type": "stream",
     "text": [
      "Epoch 5/300 - Train Loss: 0.7157, Train Accuracy: 0.5033, Test Loss: 0.7007, Test Accuracy: 0.4967\n"
     ]
    },
    {
     "name": "stderr",
     "output_type": "stream",
     "text": [
      "100%|██████████| 29/29 [00:21<00:00,  1.38it/s]\n"
     ]
    },
    {
     "name": "stdout",
     "output_type": "stream",
     "text": [
      "Epoch 6/300 - Train Loss: 0.7101, Train Accuracy: 0.5045, Test Loss: 0.6962, Test Accuracy: 0.5056\n"
     ]
    },
    {
     "name": "stderr",
     "output_type": "stream",
     "text": [
      "100%|██████████| 29/29 [00:21<00:00,  1.37it/s]\n"
     ]
    },
    {
     "name": "stdout",
     "output_type": "stream",
     "text": [
      "Epoch 7/300 - Train Loss: 0.7003, Train Accuracy: 0.5139, Test Loss: 0.7071, Test Accuracy: 0.4900\n"
     ]
    },
    {
     "name": "stderr",
     "output_type": "stream",
     "text": [
      "100%|██████████| 29/29 [00:20<00:00,  1.39it/s]\n"
     ]
    },
    {
     "name": "stdout",
     "output_type": "stream",
     "text": [
      "Epoch 8/300 - Train Loss: 0.7092, Train Accuracy: 0.4950, Test Loss: 0.6867, Test Accuracy: 0.5256\n"
     ]
    },
    {
     "name": "stderr",
     "output_type": "stream",
     "text": [
      "100%|██████████| 29/29 [00:21<00:00,  1.37it/s]\n"
     ]
    },
    {
     "name": "stdout",
     "output_type": "stream",
     "text": [
      "Epoch 9/300 - Train Loss: 0.7082, Train Accuracy: 0.5173, Test Loss: 0.6913, Test Accuracy: 0.5167\n"
     ]
    },
    {
     "name": "stderr",
     "output_type": "stream",
     "text": [
      "100%|██████████| 29/29 [00:20<00:00,  1.39it/s]\n"
     ]
    },
    {
     "name": "stdout",
     "output_type": "stream",
     "text": [
      "Epoch 10/300 - Train Loss: 0.7003, Train Accuracy: 0.5078, Test Loss: 0.7112, Test Accuracy: 0.5011\n"
     ]
    },
    {
     "name": "stderr",
     "output_type": "stream",
     "text": [
      "100%|██████████| 29/29 [00:21<00:00,  1.32it/s]\n"
     ]
    },
    {
     "name": "stdout",
     "output_type": "stream",
     "text": [
      "Epoch 11/300 - Train Loss: 0.7082, Train Accuracy: 0.4972, Test Loss: 0.6980, Test Accuracy: 0.5122\n"
     ]
    },
    {
     "name": "stderr",
     "output_type": "stream",
     "text": [
      "100%|██████████| 29/29 [00:21<00:00,  1.32it/s]\n"
     ]
    },
    {
     "name": "stdout",
     "output_type": "stream",
     "text": [
      "Epoch 12/300 - Train Loss: 0.7074, Train Accuracy: 0.4872, Test Loss: 0.7132, Test Accuracy: 0.4989\n"
     ]
    },
    {
     "name": "stderr",
     "output_type": "stream",
     "text": [
      "100%|██████████| 29/29 [00:21<00:00,  1.34it/s]\n"
     ]
    },
    {
     "name": "stdout",
     "output_type": "stream",
     "text": [
      "Epoch 13/300 - Train Loss: 0.7046, Train Accuracy: 0.5173, Test Loss: 0.6835, Test Accuracy: 0.4922\n"
     ]
    },
    {
     "name": "stderr",
     "output_type": "stream",
     "text": [
      "100%|██████████| 29/29 [00:21<00:00,  1.35it/s]\n"
     ]
    },
    {
     "name": "stdout",
     "output_type": "stream",
     "text": [
      "Epoch 14/300 - Train Loss: 0.7059, Train Accuracy: 0.5056, Test Loss: 0.6873, Test Accuracy: 0.5122\n"
     ]
    },
    {
     "name": "stderr",
     "output_type": "stream",
     "text": [
      "100%|██████████| 29/29 [00:21<00:00,  1.36it/s]\n"
     ]
    },
    {
     "name": "stdout",
     "output_type": "stream",
     "text": [
      "Epoch 15/300 - Train Loss: 0.7120, Train Accuracy: 0.5111, Test Loss: 0.6897, Test Accuracy: 0.5212\n"
     ]
    },
    {
     "name": "stderr",
     "output_type": "stream",
     "text": [
      "100%|██████████| 29/29 [00:21<00:00,  1.35it/s]\n"
     ]
    },
    {
     "name": "stdout",
     "output_type": "stream",
     "text": [
      "Epoch 16/300 - Train Loss: 0.6977, Train Accuracy: 0.5167, Test Loss: 0.6770, Test Accuracy: 0.5122\n"
     ]
    },
    {
     "name": "stderr",
     "output_type": "stream",
     "text": [
      "100%|██████████| 29/29 [00:21<00:00,  1.36it/s]\n"
     ]
    },
    {
     "name": "stdout",
     "output_type": "stream",
     "text": [
      "Epoch 17/300 - Train Loss: 0.6948, Train Accuracy: 0.5351, Test Loss: 0.6700, Test Accuracy: 0.5189\n"
     ]
    },
    {
     "name": "stderr",
     "output_type": "stream",
     "text": [
      "100%|██████████| 29/29 [00:21<00:00,  1.35it/s]\n"
     ]
    },
    {
     "name": "stdout",
     "output_type": "stream",
     "text": [
      "Epoch 18/300 - Train Loss: 0.6947, Train Accuracy: 0.5100, Test Loss: 0.6762, Test Accuracy: 0.5234\n"
     ]
    },
    {
     "name": "stderr",
     "output_type": "stream",
     "text": [
      "100%|██████████| 29/29 [00:21<00:00,  1.38it/s]\n"
     ]
    },
    {
     "name": "stdout",
     "output_type": "stream",
     "text": [
      "Epoch 19/300 - Train Loss: 0.6956, Train Accuracy: 0.5251, Test Loss: 0.6682, Test Accuracy: 0.5145\n"
     ]
    },
    {
     "name": "stderr",
     "output_type": "stream",
     "text": [
      "100%|██████████| 29/29 [00:21<00:00,  1.37it/s]\n"
     ]
    },
    {
     "name": "stdout",
     "output_type": "stream",
     "text": [
      "Epoch 20/300 - Train Loss: 0.6963, Train Accuracy: 0.5111, Test Loss: 0.6544, Test Accuracy: 0.5033\n"
     ]
    },
    {
     "name": "stderr",
     "output_type": "stream",
     "text": [
      "100%|██████████| 29/29 [00:21<00:00,  1.37it/s]\n"
     ]
    },
    {
     "name": "stdout",
     "output_type": "stream",
     "text": [
      "Epoch 21/300 - Train Loss: 0.6966, Train Accuracy: 0.5357, Test Loss: 0.6540, Test Accuracy: 0.5323\n"
     ]
    },
    {
     "name": "stderr",
     "output_type": "stream",
     "text": [
      "100%|██████████| 29/29 [00:21<00:00,  1.34it/s]\n"
     ]
    },
    {
     "name": "stdout",
     "output_type": "stream",
     "text": [
      "Epoch 22/300 - Train Loss: 0.7020, Train Accuracy: 0.5223, Test Loss: 0.6314, Test Accuracy: 0.5412\n"
     ]
    },
    {
     "name": "stderr",
     "output_type": "stream",
     "text": [
      "100%|██████████| 29/29 [00:23<00:00,  1.22it/s]\n"
     ]
    },
    {
     "name": "stdout",
     "output_type": "stream",
     "text": [
      "Epoch 23/300 - Train Loss: 0.7021, Train Accuracy: 0.5256, Test Loss: 0.6219, Test Accuracy: 0.5523\n"
     ]
    },
    {
     "name": "stderr",
     "output_type": "stream",
     "text": [
      "100%|██████████| 29/29 [00:21<00:00,  1.35it/s]\n"
     ]
    },
    {
     "name": "stdout",
     "output_type": "stream",
     "text": [
      "Epoch 24/300 - Train Loss: 0.6788, Train Accuracy: 0.5541, Test Loss: 0.6142, Test Accuracy: 0.5479\n"
     ]
    },
    {
     "name": "stderr",
     "output_type": "stream",
     "text": [
      "100%|██████████| 29/29 [00:26<00:00,  1.09it/s]\n"
     ]
    },
    {
     "name": "stdout",
     "output_type": "stream",
     "text": [
      "Epoch 25/300 - Train Loss: 0.6786, Train Accuracy: 0.5602, Test Loss: 0.6454, Test Accuracy: 0.5724\n"
     ]
    },
    {
     "name": "stderr",
     "output_type": "stream",
     "text": [
      "100%|██████████| 29/29 [00:32<00:00,  1.11s/it]\n"
     ]
    },
    {
     "name": "stdout",
     "output_type": "stream",
     "text": [
      "Epoch 26/300 - Train Loss: 0.6838, Train Accuracy: 0.5808, Test Loss: 0.6289, Test Accuracy: 0.5857\n"
     ]
    },
    {
     "name": "stderr",
     "output_type": "stream",
     "text": [
      "100%|██████████| 29/29 [00:30<00:00,  1.06s/it]\n"
     ]
    },
    {
     "name": "stdout",
     "output_type": "stream",
     "text": [
      "Epoch 27/300 - Train Loss: 0.6928, Train Accuracy: 0.5546, Test Loss: 0.5983, Test Accuracy: 0.5991\n"
     ]
    },
    {
     "name": "stderr",
     "output_type": "stream",
     "text": [
      "100%|██████████| 29/29 [00:31<00:00,  1.09s/it]\n"
     ]
    },
    {
     "name": "stdout",
     "output_type": "stream",
     "text": [
      "Epoch 28/300 - Train Loss: 0.6793, Train Accuracy: 0.5691, Test Loss: 0.6044, Test Accuracy: 0.5523\n"
     ]
    },
    {
     "name": "stderr",
     "output_type": "stream",
     "text": [
      "100%|██████████| 29/29 [00:31<00:00,  1.08s/it]\n"
     ]
    },
    {
     "name": "stdout",
     "output_type": "stream",
     "text": [
      "Epoch 29/300 - Train Loss: 0.6606, Train Accuracy: 0.5814, Test Loss: 0.7071, Test Accuracy: 0.5813\n"
     ]
    },
    {
     "name": "stderr",
     "output_type": "stream",
     "text": [
      "100%|██████████| 29/29 [00:30<00:00,  1.06s/it]\n"
     ]
    },
    {
     "name": "stdout",
     "output_type": "stream",
     "text": [
      "Epoch 30/300 - Train Loss: 0.6464, Train Accuracy: 0.6031, Test Loss: 0.6179, Test Accuracy: 0.6013\n"
     ]
    },
    {
     "name": "stderr",
     "output_type": "stream",
     "text": [
      "100%|██████████| 29/29 [00:31<00:00,  1.07s/it]\n"
     ]
    },
    {
     "name": "stdout",
     "output_type": "stream",
     "text": [
      "Epoch 31/300 - Train Loss: 0.6861, Train Accuracy: 0.6070, Test Loss: 0.6608, Test Accuracy: 0.5924\n"
     ]
    },
    {
     "name": "stderr",
     "output_type": "stream",
     "text": [
      "100%|██████████| 29/29 [00:26<00:00,  1.08it/s]\n"
     ]
    },
    {
     "name": "stdout",
     "output_type": "stream",
     "text": [
      "Epoch 32/300 - Train Loss: 0.6600, Train Accuracy: 0.5936, Test Loss: 0.6302, Test Accuracy: 0.5857\n"
     ]
    },
    {
     "name": "stderr",
     "output_type": "stream",
     "text": [
      "100%|██████████| 29/29 [00:21<00:00,  1.34it/s]\n"
     ]
    },
    {
     "name": "stdout",
     "output_type": "stream",
     "text": [
      "Epoch 33/300 - Train Loss: 0.6545, Train Accuracy: 0.5931, Test Loss: 0.6042, Test Accuracy: 0.5679\n"
     ]
    },
    {
     "name": "stderr",
     "output_type": "stream",
     "text": [
      "100%|██████████| 29/29 [00:29<00:00,  1.03s/it]\n"
     ]
    },
    {
     "name": "stdout",
     "output_type": "stream",
     "text": [
      "Epoch 34/300 - Train Loss: 0.6302, Train Accuracy: 0.6366, Test Loss: 0.7175, Test Accuracy: 0.6013\n"
     ]
    },
    {
     "name": "stderr",
     "output_type": "stream",
     "text": [
      "100%|██████████| 29/29 [00:20<00:00,  1.40it/s]\n"
     ]
    },
    {
     "name": "stdout",
     "output_type": "stream",
     "text": [
      "Epoch 35/300 - Train Loss: 0.6368, Train Accuracy: 0.6427, Test Loss: 0.6989, Test Accuracy: 0.5924\n"
     ]
    },
    {
     "name": "stderr",
     "output_type": "stream",
     "text": [
      "100%|██████████| 29/29 [00:20<00:00,  1.42it/s]\n"
     ]
    },
    {
     "name": "stdout",
     "output_type": "stream",
     "text": [
      "Epoch 36/300 - Train Loss: 0.6415, Train Accuracy: 0.6321, Test Loss: 0.6468, Test Accuracy: 0.6058\n"
     ]
    },
    {
     "name": "stderr",
     "output_type": "stream",
     "text": [
      "100%|██████████| 29/29 [00:20<00:00,  1.41it/s]\n"
     ]
    },
    {
     "name": "stdout",
     "output_type": "stream",
     "text": [
      "Epoch 37/300 - Train Loss: 0.6369, Train Accuracy: 0.6315, Test Loss: 0.6360, Test Accuracy: 0.5813\n"
     ]
    },
    {
     "name": "stderr",
     "output_type": "stream",
     "text": [
      "100%|██████████| 29/29 [00:20<00:00,  1.40it/s]\n"
     ]
    },
    {
     "name": "stdout",
     "output_type": "stream",
     "text": [
      "Epoch 38/300 - Train Loss: 0.6250, Train Accuracy: 0.6276, Test Loss: 0.6277, Test Accuracy: 0.6236\n"
     ]
    },
    {
     "name": "stderr",
     "output_type": "stream",
     "text": [
      "100%|██████████| 29/29 [00:19<00:00,  1.47it/s]\n"
     ]
    },
    {
     "name": "stdout",
     "output_type": "stream",
     "text": [
      "Epoch 39/300 - Train Loss: 0.6003, Train Accuracy: 0.6427, Test Loss: 0.7397, Test Accuracy: 0.5947\n"
     ]
    },
    {
     "name": "stderr",
     "output_type": "stream",
     "text": [
      "100%|██████████| 29/29 [00:20<00:00,  1.42it/s]\n"
     ]
    },
    {
     "name": "stdout",
     "output_type": "stream",
     "text": [
      "Epoch 40/300 - Train Loss: 0.6013, Train Accuracy: 0.6494, Test Loss: 0.6173, Test Accuracy: 0.6169\n"
     ]
    },
    {
     "name": "stderr",
     "output_type": "stream",
     "text": [
      "100%|██████████| 29/29 [00:20<00:00,  1.42it/s]\n"
     ]
    },
    {
     "name": "stdout",
     "output_type": "stream",
     "text": [
      "Epoch 41/300 - Train Loss: 0.5914, Train Accuracy: 0.6616, Test Loss: 0.8169, Test Accuracy: 0.5991\n"
     ]
    },
    {
     "name": "stderr",
     "output_type": "stream",
     "text": [
      "100%|██████████| 29/29 [00:20<00:00,  1.44it/s]\n"
     ]
    },
    {
     "name": "stdout",
     "output_type": "stream",
     "text": [
      "Epoch 42/300 - Train Loss: 0.6248, Train Accuracy: 0.6728, Test Loss: 0.7296, Test Accuracy: 0.6169\n"
     ]
    },
    {
     "name": "stderr",
     "output_type": "stream",
     "text": [
      "100%|██████████| 29/29 [00:19<00:00,  1.45it/s]\n"
     ]
    },
    {
     "name": "stdout",
     "output_type": "stream",
     "text": [
      "Epoch 43/300 - Train Loss: 0.6244, Train Accuracy: 0.6366, Test Loss: 0.6127, Test Accuracy: 0.6147\n"
     ]
    },
    {
     "name": "stderr",
     "output_type": "stream",
     "text": [
      "100%|██████████| 29/29 [00:20<00:00,  1.41it/s]\n"
     ]
    },
    {
     "name": "stdout",
     "output_type": "stream",
     "text": [
      "Epoch 44/300 - Train Loss: 0.6227, Train Accuracy: 0.6734, Test Loss: 0.7243, Test Accuracy: 0.6214\n"
     ]
    },
    {
     "name": "stderr",
     "output_type": "stream",
     "text": [
      "100%|██████████| 29/29 [00:20<00:00,  1.40it/s]\n"
     ]
    },
    {
     "name": "stdout",
     "output_type": "stream",
     "text": [
      "Epoch 45/300 - Train Loss: 0.6129, Train Accuracy: 0.6561, Test Loss: 0.7136, Test Accuracy: 0.5991\n"
     ]
    },
    {
     "name": "stderr",
     "output_type": "stream",
     "text": [
      "100%|██████████| 29/29 [00:20<00:00,  1.39it/s]\n"
     ]
    },
    {
     "name": "stdout",
     "output_type": "stream",
     "text": [
      "Epoch 46/300 - Train Loss: 0.6077, Train Accuracy: 0.6488, Test Loss: 0.6615, Test Accuracy: 0.6236\n"
     ]
    },
    {
     "name": "stderr",
     "output_type": "stream",
     "text": [
      "100%|██████████| 29/29 [00:21<00:00,  1.38it/s]\n"
     ]
    },
    {
     "name": "stdout",
     "output_type": "stream",
     "text": [
      "Epoch 47/300 - Train Loss: 0.5825, Train Accuracy: 0.6739, Test Loss: 0.8285, Test Accuracy: 0.6013\n"
     ]
    },
    {
     "name": "stderr",
     "output_type": "stream",
     "text": [
      "100%|██████████| 29/29 [00:21<00:00,  1.36it/s]\n"
     ]
    },
    {
     "name": "stdout",
     "output_type": "stream",
     "text": [
      "Epoch 48/300 - Train Loss: 0.5965, Train Accuracy: 0.6589, Test Loss: 0.6253, Test Accuracy: 0.6303\n"
     ]
    },
    {
     "name": "stderr",
     "output_type": "stream",
     "text": [
      " 90%|████████▉ | 26/29 [00:20<00:02,  1.15it/s]"
     ]
    }
   ],
   "source": [
    "best_model, train_acc_list, train_loss_list, test_acc_list, test_loss_list = train(model, train_X, test_X, train_y, test_y, n_epochs=300)\n"
   ]
  },
  {
   "cell_type": "code",
   "execution_count": null,
   "metadata": {},
   "outputs": [],
   "source": [
    "plt.plot(train_acc_list, label='train_acc')\n",
    "plt.plot(test_acc_list, label='test_acc')\n",
    "plt.xlabel('epoch')"
   ]
  },
  {
   "cell_type": "code",
   "execution_count": null,
   "metadata": {},
   "outputs": [],
   "source": [
    "plt.plot(train_loss_list, label='train_loss')\n",
    "plt.plot(test_loss_list, label='test_loss')\n",
    "plt.xlabel('epoch')"
   ]
  },
  {
   "cell_type": "code",
   "execution_count": null,
   "metadata": {},
   "outputs": [],
   "source": [
    "best_model.eval()\n",
    "with torch.no_grad():\n",
    "    correct = 0\n",
    "    total = 0\n",
    "    \n",
    "    for inputs, labels in test_loader:\n",
    "        inputs = inputs.to(device)\n",
    "        labels = labels.to(device)\n",
    "        \n",
    "        outputs = best_model(inputs)\n",
    "        _, predicted = torch.max(outputs.data, 1)\n",
    "        # Remove the incorrect line attempting to use torch.max on labels\n",
    "        total += labels.size(0)\n",
    "        correct += (predicted == labels).sum().item()  # Compare predicted directly to labels\n",
    "    \n",
    "    test_accuracy = correct / total\n",
    "\n",
    "print(f\"Test Accuracy: {test_accuracy:.4f}\")\n"
   ]
  },
  {
   "cell_type": "code",
   "execution_count": null,
   "metadata": {},
   "outputs": [],
   "source": []
  }
 ],
 "metadata": {
  "kernelspec": {
   "display_name": "eeg_decoder",
   "language": "python",
   "name": "python3"
  },
  "language_info": {
   "codemirror_mode": {
    "name": "ipython",
    "version": 3
   },
   "file_extension": ".py",
   "mimetype": "text/x-python",
   "name": "python",
   "nbconvert_exporter": "python",
   "pygments_lexer": "ipython3",
   "version": "3.10.13"
  }
 },
 "nbformat": 4,
 "nbformat_minor": 2
}
