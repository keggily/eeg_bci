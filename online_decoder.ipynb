{
 "cells": [
  {
   "cell_type": "code",
   "execution_count": 1,
   "metadata": {},
   "outputs": [
    {
     "name": "stdout",
     "output_type": "stream",
     "text": [
      "Intel MKL WARNING: Support of Intel(R) Streaming SIMD Extensions 4.2 (Intel(R) SSE4.2) enabled only processors has been deprecated. Intel oneAPI Math Kernel Library 2025.0 will require Intel(R) Advanced Vector Extensions (Intel(R) AVX) instructions.\n",
      "Intel MKL WARNING: Support of Intel(R) Streaming SIMD Extensions 4.2 (Intel(R) SSE4.2) enabled only processors has been deprecated. Intel oneAPI Math Kernel Library 2025.0 will require Intel(R) Advanced Vector Extensions (Intel(R) AVX) instructions.\n"
     ]
    }
   ],
   "source": [
    "from pylsl import StreamInlet, resolve_stream\n",
    "import numpy as np\n",
    "import joblib  # Used for loading sklearn models\n",
    "import sys\n",
    "import os\n",
    "\n",
    "sys.path.append('./src/processing')\n",
    "from preprocessing import *\n",
    "\n"
   ]
  },
  {
   "cell_type": "code",
   "execution_count": 2,
   "metadata": {},
   "outputs": [
    {
     "name": "stdout",
     "output_type": "stream",
     "text": [
      "Looking for an EEG stream...\n"
     ]
    },
    {
     "name": "stderr",
     "output_type": "stream",
     "text": [
      "2024-03-11 16:19:59.280 (  16.543s) [          456F24]      netinterfaces.cpp:91    INFO| netif 'lo0' (status: 1, multicast: 32768, broadcast: 0)\n",
      "2024-03-11 16:19:59.280 (  16.543s) [          456F24]      netinterfaces.cpp:91    INFO| netif 'lo0' (status: 1, multicast: 32768, broadcast: 0)\n",
      "2024-03-11 16:19:59.281 (  16.543s) [          456F24]      netinterfaces.cpp:102   INFO| \tIPv4 addr: 7f000001\n",
      "2024-03-11 16:19:59.281 (  16.543s) [          456F24]      netinterfaces.cpp:91    INFO| netif 'lo0' (status: 1, multicast: 32768, broadcast: 0)\n",
      "2024-03-11 16:19:59.281 (  16.543s) [          456F24]      netinterfaces.cpp:105   INFO| \tIPv6 addr: ::1\n",
      "2024-03-11 16:19:59.281 (  16.543s) [          456F24]      netinterfaces.cpp:91    INFO| netif 'lo0' (status: 1, multicast: 32768, broadcast: 0)\n",
      "2024-03-11 16:19:59.281 (  16.543s) [          456F24]      netinterfaces.cpp:105   INFO| \tIPv6 addr: fe80::1%lo0\n",
      "2024-03-11 16:19:59.281 (  16.543s) [          456F24]      netinterfaces.cpp:91    INFO| netif 'gif0' (status: 0, multicast: 32768, broadcast: 0)\n",
      "2024-03-11 16:19:59.281 (  16.543s) [          456F24]      netinterfaces.cpp:91    INFO| netif 'stf0' (status: 0, multicast: 0, broadcast: 0)\n",
      "2024-03-11 16:19:59.281 (  16.543s) [          456F24]      netinterfaces.cpp:91    INFO| netif 'anpi0' (status: 1, multicast: 32768, broadcast: 2)\n",
      "2024-03-11 16:19:59.281 (  16.543s) [          456F24]      netinterfaces.cpp:91    INFO| netif 'anpi0' (status: 1, multicast: 32768, broadcast: 2)\n",
      "2024-03-11 16:19:59.281 (  16.543s) [          456F24]      netinterfaces.cpp:105   INFO| \tIPv6 addr: fe80::4ce7:caff:fee0:5123%anpi0\n",
      "2024-03-11 16:19:59.281 (  16.543s) [          456F24]      netinterfaces.cpp:91    INFO| netif 'anpi1' (status: 1, multicast: 32768, broadcast: 2)\n",
      "2024-03-11 16:19:59.281 (  16.543s) [          456F24]      netinterfaces.cpp:91    INFO| netif 'anpi1' (status: 1, multicast: 32768, broadcast: 2)\n",
      "2024-03-11 16:19:59.281 (  16.543s) [          456F24]      netinterfaces.cpp:105   INFO| \tIPv6 addr: fe80::4ce7:caff:fee0:5124%anpi1\n",
      "2024-03-11 16:19:59.281 (  16.543s) [          456F24]      netinterfaces.cpp:91    INFO| netif 'en3' (status: 1, multicast: 32768, broadcast: 2)\n",
      "2024-03-11 16:19:59.281 (  16.543s) [          456F24]      netinterfaces.cpp:91    INFO| netif 'en4' (status: 1, multicast: 32768, broadcast: 2)\n",
      "2024-03-11 16:19:59.281 (  16.543s) [          456F24]      netinterfaces.cpp:91    INFO| netif 'en1' (status: 1, multicast: 32768, broadcast: 2)\n",
      "2024-03-11 16:19:59.281 (  16.543s) [          456F24]      netinterfaces.cpp:91    INFO| netif 'en2' (status: 1, multicast: 32768, broadcast: 2)\n",
      "2024-03-11 16:19:59.281 (  16.543s) [          456F24]      netinterfaces.cpp:91    INFO| netif 'ap1' (status: 0, multicast: 32768, broadcast: 2)\n",
      "2024-03-11 16:19:59.281 (  16.543s) [          456F24]      netinterfaces.cpp:91    INFO| netif 'en0' (status: 1, multicast: 32768, broadcast: 2)\n",
      "2024-03-11 16:19:59.281 (  16.543s) [          456F24]      netinterfaces.cpp:91    INFO| netif 'en0' (status: 1, multicast: 32768, broadcast: 2)\n",
      "2024-03-11 16:19:59.281 (  16.543s) [          456F24]      netinterfaces.cpp:105   INFO| \tIPv6 addr: fe80::14e6:b186:642e:1359%en0\n",
      "2024-03-11 16:19:59.281 (  16.543s) [          456F24]      netinterfaces.cpp:91    INFO| netif 'en0' (status: 1, multicast: 32768, broadcast: 2)\n",
      "2024-03-11 16:19:59.281 (  16.543s) [          456F24]      netinterfaces.cpp:102   INFO| \tIPv4 addr: a0951a0\n",
      "2024-03-11 16:19:59.281 (  16.543s) [          456F24]      netinterfaces.cpp:91    INFO| netif 'bridge0' (status: 1, multicast: 32768, broadcast: 2)\n",
      "2024-03-11 16:19:59.281 (  16.543s) [          456F24]      netinterfaces.cpp:91    INFO| netif 'awdl0' (status: 1, multicast: 32768, broadcast: 2)\n",
      "2024-03-11 16:19:59.281 (  16.543s) [          456F24]      netinterfaces.cpp:91    INFO| netif 'awdl0' (status: 1, multicast: 32768, broadcast: 2)\n",
      "2024-03-11 16:19:59.281 (  16.543s) [          456F24]      netinterfaces.cpp:105   INFO| \tIPv6 addr: fe80::1ce7:8bff:fe5a:fa56%awdl0\n",
      "2024-03-11 16:19:59.281 (  16.543s) [          456F24]      netinterfaces.cpp:91    INFO| netif 'llw0' (status: 1, multicast: 32768, broadcast: 2)\n",
      "2024-03-11 16:19:59.281 (  16.543s) [          456F24]      netinterfaces.cpp:91    INFO| netif 'llw0' (status: 1, multicast: 32768, broadcast: 2)\n",
      "2024-03-11 16:19:59.281 (  16.543s) [          456F24]      netinterfaces.cpp:105   INFO| \tIPv6 addr: fe80::1ce7:8bff:fe5a:fa56%llw0\n",
      "2024-03-11 16:19:59.281 (  16.544s) [          456F24]      netinterfaces.cpp:91    INFO| netif 'utun0' (status: 1, multicast: 32768, broadcast: 0)\n",
      "2024-03-11 16:19:59.281 (  16.544s) [          456F24]      netinterfaces.cpp:91    INFO| netif 'utun0' (status: 1, multicast: 32768, broadcast: 0)\n",
      "2024-03-11 16:19:59.281 (  16.544s) [          456F24]      netinterfaces.cpp:105   INFO| \tIPv6 addr: fe80::3077:c50a:a4d7:cd62%utun0\n",
      "2024-03-11 16:19:59.281 (  16.544s) [          456F24]      netinterfaces.cpp:91    INFO| netif 'utun1' (status: 1, multicast: 32768, broadcast: 0)\n",
      "2024-03-11 16:19:59.281 (  16.544s) [          456F24]      netinterfaces.cpp:91    INFO| netif 'utun1' (status: 1, multicast: 32768, broadcast: 0)\n",
      "2024-03-11 16:19:59.281 (  16.544s) [          456F24]      netinterfaces.cpp:105   INFO| \tIPv6 addr: fe80::39b7:62b:ae35:54f4%utun1\n",
      "2024-03-11 16:19:59.281 (  16.544s) [          456F24]      netinterfaces.cpp:91    INFO| netif 'utun2' (status: 1, multicast: 32768, broadcast: 0)\n",
      "2024-03-11 16:19:59.281 (  16.544s) [          456F24]      netinterfaces.cpp:91    INFO| netif 'utun2' (status: 1, multicast: 32768, broadcast: 0)\n",
      "2024-03-11 16:19:59.281 (  16.544s) [          456F24]      netinterfaces.cpp:105   INFO| \tIPv6 addr: fe80::ce81:b1c:bd2c:69e%utun2\n",
      "2024-03-11 16:19:59.281 (  16.544s) [          456F24]      netinterfaces.cpp:91    INFO| netif 'utun3' (status: 1, multicast: 32768, broadcast: 0)\n",
      "2024-03-11 16:19:59.281 (  16.544s) [          456F24]      netinterfaces.cpp:91    INFO| netif 'utun3' (status: 1, multicast: 32768, broadcast: 0)\n",
      "2024-03-11 16:19:59.281 (  16.544s) [          456F24]      netinterfaces.cpp:105   INFO| \tIPv6 addr: fe80::194b:a137:a170:d3fa%utun3\n",
      "2024-03-11 16:19:59.281 (  16.544s) [          456F24]      netinterfaces.cpp:91    INFO| netif 'utun4' (status: 1, multicast: 32768, broadcast: 0)\n",
      "2024-03-11 16:19:59.281 (  16.544s) [          456F24]      netinterfaces.cpp:91    INFO| netif 'utun4' (status: 1, multicast: 32768, broadcast: 0)\n",
      "2024-03-11 16:19:59.281 (  16.544s) [          456F24]      netinterfaces.cpp:105   INFO| \tIPv6 addr: fe80::f658:eac9:5f7:b9c5%utun4\n",
      "2024-03-11 16:19:59.281 (  16.544s) [          456F24]         api_config.cpp:270   INFO| Loaded default config\n"
     ]
    }
   ],
   "source": [
    "\n",
    "# Configuration\n",
    "srate = 160  #Sampling rate of the EEG data, adjust as needed\n",
    "epoch_length_sec = 5  # Length of the desired sample in seconds\n",
    "samples_needed = srate * epoch_length_sec  # Number of samples needed for ~5 seconds\n",
    "#manually from eegbci dataset\n",
    "channel_names = ['FC5', 'FC3', 'FC1', 'FCz', 'FC2', 'FC4', 'FC6', 'C5', 'C3', 'C1', 'Cz', 'C2', 'C4', 'C6', 'CP5', 'CP3', 'CP1', 'CPz', 'CP2', 'CP4', 'CP6', 'Fp1', 'Fpz', 'Fp2', 'AF7', 'AF3', 'AFz', 'AF4', 'AF8', 'F7', 'F5', 'F3', 'F1', 'Fz', 'F2', 'F4', 'F6', 'F8', 'FT7', 'FT8', 'T7', 'T8', 'T9', 'T10', 'TP7', 'TP8', 'P7', 'P5', 'P3', 'P1', 'Pz', 'P2', 'P4', 'P6', 'P8', 'PO7', 'PO3', 'POz', 'PO4', 'PO8', 'O1', 'Oz', 'O2', 'Iz']\n",
    "\n",
    "print(\"Looking for an EEG stream...\")\n",
    "streams = resolve_stream('type', 'EEG')\n",
    "\n",
    "inlet = StreamInlet(streams[0])\n",
    "\n",
    "def collect_and_save_single_sample(inlet, samples_needed):\n",
    "    buffer = []  # Initialize the buffer to hold collected samples\n",
    "    timestamps = []  # To store timestamps of each sample\n",
    "\n",
    "    while len(buffer) < samples_needed:\n",
    "        # Continuously pull samples\n",
    "        sample, timestamp = inlet.pull_sample()\n",
    "        if sample:\n",
    "            buffer.append(sample)  # Add the sample to the buffer\n",
    "            timestamps.append(timestamp)  # Add the timestamp\n",
    "\n",
    "        if len(buffer) >= samples_needed:\n",
    "            # Once we have enough samples, save and exit\n",
    "            np.save('sample.npy', np.array(buffer))  # Save the buffer as a numpy file\n",
    "            print(f\"Saved ~{epoch_length_sec}-second sample with {len(buffer)} samples.\")\n",
    "            return  # Exit the function, effectively stopping data collection\n",
    "\n",
    "# Call the function to collect, save, and then stop\n",
    "collect_and_save_single_sample(inlet, samples_needed)\n"
   ]
  },
  {
   "cell_type": "code",
   "execution_count": null,
   "metadata": {},
   "outputs": [],
   "source": [
    "sample = np.load('sample.npy')\n",
    "sample.shape"
   ]
  },
  {
   "cell_type": "code",
   "execution_count": null,
   "metadata": {},
   "outputs": [],
   "source": [
    "preprocessed_data = preprocess_single_trial(sample, srate, channel_names)"
   ]
  },
  {
   "cell_type": "code",
   "execution_count": null,
   "metadata": {},
   "outputs": [],
   "source": [
    "# Configuration\n",
    "#model_path = 'path/to/your/saved/model.joblib'  # Path to your trained model\n",
    "srate = 160  # Sampling rate of the EEG data\n",
    "epoch_length_sec = 5  # Length of an epoch in seconds\n",
    "samples_per_epoch = srate * epoch_length_sec  # Number of samples per epoch\n",
    "\n",
    "# Load your model\n",
    "#model = joblib.load(model_path)\n",
    "\n",
    "# Resolve the stream\n",
    "print(\"Looking for an EEG stream...\")\n",
    "streams = resolve_stream('type', 'EEG', 'name', 'BioSemi')\n",
    "inlet = StreamInlet(streams[0])\n",
    "\n",
    "# Initialize a buffer for accumulating samples\n",
    "buffer = []\n",
    "\n",
    "def decode(epoch):\n",
    "    \"\"\"\n",
    "    Process and decode an epoch of EEG data.\n",
    "    \"\"\"\n",
    "    # Assuming you have defined preprocess_data and extract_features functions\n",
    "    preprocessed_epoch = preprocess_data(epoch)  # Preprocess the epoch\n",
    "    features = extract_features(preprocessed_epoch)  # Extract features\n",
    "    prediction = model.predict([features])  # Sklearn expects a 2D array for the features\n",
    "    return prediction\n",
    "\n",
    "def preprocess_data(epoch):\n",
    "    # Placeholder for your preprocessing steps\n",
    "    return epoch  # Return the processed epoch\n",
    "\n",
    "def extract_features(epoch):\n",
    "    # Placeholder for your feature extraction logic\n",
    "    return epoch.mean(axis=0) \n",
    "\n",
    "while True:\n",
    "    # Pull sample from LSL stream\n",
    "    sample, timestamp = inlet.pull_sample()\n",
    "    buffer.append(sample)\n",
    "    \n",
    "    # Check if buffer has enough samples to form an epoch\n",
    "    if len(buffer) >= samples_per_epoch:\n",
    "        epoch = np.array(buffer[:samples_per_epoch])  \n",
    "        buffer = buffer[samples_per_epoch:]  \n",
    "        \n",
    "        # Decode the epoch\n",
    "        prediction = decode(epoch)\n",
    "        print(f\"Timestamp: {timestamp}, Prediction: {prediction}\")\n"
   ]
  },
  {
   "cell_type": "code",
   "execution_count": null,
   "metadata": {},
   "outputs": [],
   "source": []
  }
 ],
 "metadata": {
  "kernelspec": {
   "display_name": "eeg_decoder",
   "language": "python",
   "name": "python3"
  },
  "language_info": {
   "codemirror_mode": {
    "name": "ipython",
    "version": 3
   },
   "file_extension": ".py",
   "mimetype": "text/x-python",
   "name": "python",
   "nbconvert_exporter": "python",
   "pygments_lexer": "ipython3",
   "version": "3.11.8"
  }
 },
 "nbformat": 4,
 "nbformat_minor": 2
}
