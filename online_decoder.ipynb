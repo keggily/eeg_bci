{
 "cells": [
  {
   "cell_type": "code",
   "execution_count": 1,
   "metadata": {},
   "outputs": [
    {
     "name": "stdout",
     "output_type": "stream",
     "text": [
      "Intel MKL WARNING: Support of Intel(R) Streaming SIMD Extensions 4.2 (Intel(R) SSE4.2) enabled only processors has been deprecated. Intel oneAPI Math Kernel Library 2025.0 will require Intel(R) Advanced Vector Extensions (Intel(R) AVX) instructions.\n",
      "Intel MKL WARNING: Support of Intel(R) Streaming SIMD Extensions 4.2 (Intel(R) SSE4.2) enabled only processors has been deprecated. Intel oneAPI Math Kernel Library 2025.0 will require Intel(R) Advanced Vector Extensions (Intel(R) AVX) instructions.\n"
     ]
    }
   ],
   "source": [
    "from pylsl import StreamInlet, resolve_stream\n",
    "import numpy as np\n",
    "import joblib  # Used for loading sklearn models\n",
    "from preprocess import preprocess_data #modify path\n",
    "# from model import YourModel  # This might be where you define any custom transformers or pipelines, if needed\n",
    "# from preprocessing import preprocess_data  # Assume you have a preprocessing function\n",
    "# from feature_extraction import extract_features  # Assume you have a feature extraction function"
   ]
  },
  {
   "cell_type": "code",
   "execution_count": 2,
   "metadata": {},
   "outputs": [
    {
     "name": "stdout",
     "output_type": "stream",
     "text": [
      "Looking for an EEG stream...\n"
     ]
    },
    {
     "name": "stderr",
     "output_type": "stream",
     "text": [
      "2024-03-10 22:29:00.998 (  18.560s) [          42BA5D]      netinterfaces.cpp:91    INFO| netif 'lo0' (status: 1, multicast: 32768, broadcast: 0)\n",
      "2024-03-10 22:29:00.999 (  18.560s) [          42BA5D]      netinterfaces.cpp:91    INFO| netif 'lo0' (status: 1, multicast: 32768, broadcast: 0)\n",
      "2024-03-10 22:29:00.999 (  18.560s) [          42BA5D]      netinterfaces.cpp:102   INFO| \tIPv4 addr: 7f000001\n",
      "2024-03-10 22:29:00.999 (  18.560s) [          42BA5D]      netinterfaces.cpp:91    INFO| netif 'lo0' (status: 1, multicast: 32768, broadcast: 0)\n",
      "2024-03-10 22:29:00.999 (  18.560s) [          42BA5D]      netinterfaces.cpp:105   INFO| \tIPv6 addr: ::1\n",
      "2024-03-10 22:29:00.999 (  18.560s) [          42BA5D]      netinterfaces.cpp:91    INFO| netif 'lo0' (status: 1, multicast: 32768, broadcast: 0)\n",
      "2024-03-10 22:29:00.999 (  18.560s) [          42BA5D]      netinterfaces.cpp:105   INFO| \tIPv6 addr: fe80::1%lo0\n",
      "2024-03-10 22:29:00.999 (  18.560s) [          42BA5D]      netinterfaces.cpp:91    INFO| netif 'gif0' (status: 0, multicast: 32768, broadcast: 0)\n",
      "2024-03-10 22:29:00.999 (  18.560s) [          42BA5D]      netinterfaces.cpp:91    INFO| netif 'stf0' (status: 0, multicast: 0, broadcast: 0)\n",
      "2024-03-10 22:29:00.999 (  18.560s) [          42BA5D]      netinterfaces.cpp:91    INFO| netif 'anpi0' (status: 1, multicast: 32768, broadcast: 2)\n",
      "2024-03-10 22:29:00.999 (  18.560s) [          42BA5D]      netinterfaces.cpp:91    INFO| netif 'anpi0' (status: 1, multicast: 32768, broadcast: 2)\n",
      "2024-03-10 22:29:00.999 (  18.560s) [          42BA5D]      netinterfaces.cpp:105   INFO| \tIPv6 addr: fe80::4ce7:caff:fee0:5123%anpi0\n",
      "2024-03-10 22:29:00.999 (  18.560s) [          42BA5D]      netinterfaces.cpp:91    INFO| netif 'anpi1' (status: 1, multicast: 32768, broadcast: 2)\n",
      "2024-03-10 22:29:00.999 (  18.560s) [          42BA5D]      netinterfaces.cpp:91    INFO| netif 'anpi1' (status: 1, multicast: 32768, broadcast: 2)\n",
      "2024-03-10 22:29:00.999 (  18.560s) [          42BA5D]      netinterfaces.cpp:105   INFO| \tIPv6 addr: fe80::4ce7:caff:fee0:5124%anpi1\n",
      "2024-03-10 22:29:00.999 (  18.560s) [          42BA5D]      netinterfaces.cpp:91    INFO| netif 'en3' (status: 1, multicast: 32768, broadcast: 2)\n",
      "2024-03-10 22:29:00.999 (  18.560s) [          42BA5D]      netinterfaces.cpp:91    INFO| netif 'en4' (status: 1, multicast: 32768, broadcast: 2)\n",
      "2024-03-10 22:29:00.999 (  18.560s) [          42BA5D]      netinterfaces.cpp:91    INFO| netif 'en1' (status: 1, multicast: 32768, broadcast: 2)\n",
      "2024-03-10 22:29:00.999 (  18.560s) [          42BA5D]      netinterfaces.cpp:91    INFO| netif 'en2' (status: 1, multicast: 32768, broadcast: 2)\n",
      "2024-03-10 22:29:00.999 (  18.560s) [          42BA5D]      netinterfaces.cpp:91    INFO| netif 'ap1' (status: 0, multicast: 32768, broadcast: 2)\n",
      "2024-03-10 22:29:00.999 (  18.560s) [          42BA5D]      netinterfaces.cpp:91    INFO| netif 'en0' (status: 1, multicast: 32768, broadcast: 2)\n",
      "2024-03-10 22:29:00.999 (  18.560s) [          42BA5D]      netinterfaces.cpp:91    INFO| netif 'en0' (status: 1, multicast: 32768, broadcast: 2)\n",
      "2024-03-10 22:29:00.999 (  18.560s) [          42BA5D]      netinterfaces.cpp:105   INFO| \tIPv6 addr: fe80::14e6:b186:642e:1359%en0\n",
      "2024-03-10 22:29:00.999 (  18.560s) [          42BA5D]      netinterfaces.cpp:91    INFO| netif 'en0' (status: 1, multicast: 32768, broadcast: 2)\n",
      "2024-03-10 22:29:00.999 (  18.560s) [          42BA5D]      netinterfaces.cpp:102   INFO| \tIPv4 addr: a0951a0\n",
      "2024-03-10 22:29:00.999 (  18.560s) [          42BA5D]      netinterfaces.cpp:91    INFO| netif 'bridge0' (status: 1, multicast: 32768, broadcast: 2)\n",
      "2024-03-10 22:29:00.999 (  18.560s) [          42BA5D]      netinterfaces.cpp:91    INFO| netif 'awdl0' (status: 1, multicast: 32768, broadcast: 2)\n",
      "2024-03-10 22:29:00.999 (  18.560s) [          42BA5D]      netinterfaces.cpp:91    INFO| netif 'awdl0' (status: 1, multicast: 32768, broadcast: 2)\n",
      "2024-03-10 22:29:00.999 (  18.560s) [          42BA5D]      netinterfaces.cpp:105   INFO| \tIPv6 addr: fe80::c48d:4aff:fe54:7198%awdl0\n",
      "2024-03-10 22:29:00.999 (  18.561s) [          42BA5D]      netinterfaces.cpp:91    INFO| netif 'llw0' (status: 1, multicast: 32768, broadcast: 2)\n",
      "2024-03-10 22:29:00.999 (  18.561s) [          42BA5D]      netinterfaces.cpp:91    INFO| netif 'llw0' (status: 1, multicast: 32768, broadcast: 2)\n",
      "2024-03-10 22:29:00.999 (  18.561s) [          42BA5D]      netinterfaces.cpp:105   INFO| \tIPv6 addr: fe80::c48d:4aff:fe54:7198%llw0\n",
      "2024-03-10 22:29:00.999 (  18.561s) [          42BA5D]      netinterfaces.cpp:91    INFO| netif 'utun0' (status: 1, multicast: 32768, broadcast: 0)\n",
      "2024-03-10 22:29:00.999 (  18.561s) [          42BA5D]      netinterfaces.cpp:91    INFO| netif 'utun0' (status: 1, multicast: 32768, broadcast: 0)\n",
      "2024-03-10 22:29:00.999 (  18.561s) [          42BA5D]      netinterfaces.cpp:105   INFO| \tIPv6 addr: fe80::3077:c50a:a4d7:cd62%utun0\n",
      "2024-03-10 22:29:00.999 (  18.561s) [          42BA5D]      netinterfaces.cpp:91    INFO| netif 'utun1' (status: 1, multicast: 32768, broadcast: 0)\n",
      "2024-03-10 22:29:00.999 (  18.561s) [          42BA5D]      netinterfaces.cpp:91    INFO| netif 'utun1' (status: 1, multicast: 32768, broadcast: 0)\n",
      "2024-03-10 22:29:00.999 (  18.561s) [          42BA5D]      netinterfaces.cpp:105   INFO| \tIPv6 addr: fe80::39b7:62b:ae35:54f4%utun1\n",
      "2024-03-10 22:29:00.999 (  18.561s) [          42BA5D]      netinterfaces.cpp:91    INFO| netif 'utun2' (status: 1, multicast: 32768, broadcast: 0)\n",
      "2024-03-10 22:29:00.999 (  18.561s) [          42BA5D]      netinterfaces.cpp:91    INFO| netif 'utun2' (status: 1, multicast: 32768, broadcast: 0)\n",
      "2024-03-10 22:29:00.999 (  18.561s) [          42BA5D]      netinterfaces.cpp:105   INFO| \tIPv6 addr: fe80::ce81:b1c:bd2c:69e%utun2\n",
      "2024-03-10 22:29:00.999 (  18.561s) [          42BA5D]      netinterfaces.cpp:91    INFO| netif 'utun3' (status: 1, multicast: 32768, broadcast: 0)\n",
      "2024-03-10 22:29:00.999 (  18.561s) [          42BA5D]      netinterfaces.cpp:91    INFO| netif 'utun3' (status: 1, multicast: 32768, broadcast: 0)\n",
      "2024-03-10 22:29:00.999 (  18.561s) [          42BA5D]      netinterfaces.cpp:105   INFO| \tIPv6 addr: fe80::194b:a137:a170:d3fa%utun3\n",
      "2024-03-10 22:29:00.999 (  18.561s) [          42BA5D]      netinterfaces.cpp:91    INFO| netif 'utun4' (status: 1, multicast: 32768, broadcast: 0)\n",
      "2024-03-10 22:29:00.999 (  18.561s) [          42BA5D]      netinterfaces.cpp:91    INFO| netif 'utun4' (status: 1, multicast: 32768, broadcast: 0)\n",
      "2024-03-10 22:29:00.999 (  18.561s) [          42BA5D]      netinterfaces.cpp:105   INFO| \tIPv6 addr: fe80::f658:eac9:5f7:b9c5%utun4\n",
      "2024-03-10 22:29:00.999 (  18.561s) [          42BA5D]         api_config.cpp:270   INFO| Loaded default config\n"
     ]
    }
   ],
   "source": [
    "# Configuration\n",
    "#model_path = 'path/to/your/saved/model.joblib'  # Path to your trained model\n",
    "srate = 160  # Sampling rate of the EEG data\n",
    "epoch_length_sec = 5  # Length of an epoch in seconds\n",
    "samples_per_epoch = srate * epoch_length_sec  # Number of samples per epoch\n",
    "\n",
    "# Load your model\n",
    "#model = joblib.load(model_path)\n",
    "\n",
    "# Resolve the stream\n",
    "print(\"Looking for an EEG stream...\")\n",
    "streams = resolve_stream('type', 'EEG', 'name', 'BioSemi')\n",
    "inlet = StreamInlet(streams[0])\n",
    "\n",
    "# Initialize a buffer for accumulating samples\n",
    "buffer = []\n",
    "\n",
    "def decode(epoch):\n",
    "    \"\"\"\n",
    "    Process and decode an epoch of EEG data.\n",
    "    \"\"\"\n",
    "    # Assuming you have defined preprocess_data and extract_features functions\n",
    "    preprocessed_epoch = preprocess_data(epoch)  # Preprocess the epoch\n",
    "    features = extract_features(preprocessed_epoch)  # Extract features\n",
    "    prediction = model.predict([features])  # Sklearn expects a 2D array for the features\n",
    "    return prediction\n",
    "\n",
    "def preprocess_data(epoch):\n",
    "    # Placeholder for your preprocessing steps\n",
    "    return epoch  # Return the processed epoch\n",
    "\n",
    "def extract_features(epoch):\n",
    "    # Placeholder for your feature extraction logic\n",
    "    return epoch.mean(axis=0) \n",
    "\n",
    "while True:\n",
    "    # Pull sample from LSL stream\n",
    "    sample, timestamp = inlet.pull_sample()\n",
    "    buffer.append(sample)\n",
    "    \n",
    "    # Check if buffer has enough samples to form an epoch\n",
    "    if len(buffer) >= samples_per_epoch:\n",
    "        epoch = np.array(buffer[:samples_per_epoch])  \n",
    "        buffer = buffer[samples_per_epoch:]  \n",
    "        \n",
    "        # Decode the epoch\n",
    "        prediction = decode(epoch)\n",
    "        print(f\"Timestamp: {timestamp}, Prediction: {prediction}\")\n"
   ]
  },
  {
   "cell_type": "code",
   "execution_count": null,
   "metadata": {},
   "outputs": [],
   "source": []
  }
 ],
 "metadata": {
  "kernelspec": {
   "display_name": "eeg_decoder",
   "language": "python",
   "name": "python3"
  },
  "language_info": {
   "codemirror_mode": {
    "name": "ipython",
    "version": 3
   },
   "file_extension": ".py",
   "mimetype": "text/x-python",
   "name": "python",
   "nbconvert_exporter": "python",
   "pygments_lexer": "ipython3",
   "version": "3.11.8"
  }
 },
 "nbformat": 4,
 "nbformat_minor": 2
}
